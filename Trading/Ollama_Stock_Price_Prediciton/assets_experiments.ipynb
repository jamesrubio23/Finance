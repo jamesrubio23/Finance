{
 "cells": [
  {
   "cell_type": "code",
   "execution_count": 20,
   "metadata": {},
   "outputs": [],
   "source": [
    "#############\n",
    "##LIBRARIES##\n",
    "#############\n",
    "\n",
    "import yfinance as yf\n",
    "from finvizfinance.quote import finvizfinance\n",
    "\n",
    "from statsmodels.tsa.statespace.sarimax import SARIMAX\n",
    "\n",
    "import plotly.graph_objects as go\n",
    "import pandas as pd\n",
    "import numpy as np\n",
    "\n",
    "import holidays\n",
    "\n",
    "from langchain_community.llms import Ollama\n",
    "\n",
    "\n",
    "import streamlit as st\n",
    "\n",
    "\n",
    "llm = Ollama(model='llama3')\n",
    "\n",
    "def classify_sentiment(title):\n",
    "    output = llm.invoke(f\"Classify the sentiment as 'POSITIVE' or 'NEGATIVE' or 'NEUTRAL' with just that one\")\n",
    "    return output.strip()\n",
    "\n",
    "\n",
    "\n",
    "def classify_sentiment_batch(titles):\n",
    "    print(f\"🔹 Clasificando {len(titles)} títulos de noticias.\")\n",
    "\n",
    "    prompt = (\n",
    "        \"For each news title below, classify the sentiment as 'POSITIVE', 'NEGATIVE' or 'NEUTRAL'.\\n\"\n",
    "        \"Return exactly one sentiment per title, in the same order as the titles, and NOTHING ELSE.\\n\"\n",
    "        \"Make sure to return exactly the same number of lines as the number of news titles.\\n\"\n",
    "    )\n",
    "\n",
    "    prompt += \"\\n\".join(f\"- {title}\" for title in titles)\n",
    "\n",
    "    output = llm.invoke(prompt)\n",
    "    print(f\"🔹 Respuesta de Ollama:\\n{output}\\n\")\n",
    "\n",
    "    valid_sentiments = {\"POSITIVE\", \"NEGATIVE\", \"NEUTRAL\"}\n",
    "    sentiments = []\n",
    "\n",
    "    # Dividir la salida en líneas y limpiar los espacios\n",
    "    for line in output.split(\"\\n\"):\n",
    "        print(\"Otro\")\n",
    "        line = line.strip().upper()\n",
    "\n",
    "        sentiment = next((s for s in valid_sentiments if s in line), None)\n",
    "\n",
    "        if sentiment:\n",
    "            sentiments.append(sentiment)\n",
    "        else:\n",
    "            sentiments.append('NEUTRAL') \n",
    "\n",
    "    # Si el número de clasificaciones no coincide con el número de títulos, corregir\n",
    "    if len(sentiments) != len(titles):\n",
    "        print(f\"ERROR: Ollama devolvió {len(sentiments)} sentimientos en lugar de {len(titles)}\")\n",
    "        \n",
    "        # Rellenar con \"NEUTRAL\" si faltan clasificaciones\n",
    "        while len(sentiments) < len(titles):\n",
    "            sentiments.append(\"NEUTRAL\")\n",
    "    print(f\"La longitud de los sentiments es {len(sentiments)}\")\n",
    "    print(sentiments)\n",
    "    return sentiments\n",
    "\n",
    "\n",
    "def get_news_ticker(ticker):\n",
    "    stock = finvizfinance(ticker)\n",
    "    news_df = stock.ticker_news()\n",
    "    return news_df\n",
    "\n",
    "# Function to get and process news data\n",
    "def get_news_data(news_df_original):\n",
    "    \n",
    "    news_df =news_df_original.copy()\n",
    "    print(\"Conseguimos las noticias\")\n",
    "    news_df['Title'] = news_df['Title'].str.lower()\n",
    "\n",
    "    # Enviar todas las noticias en un solo prompt para evitar múltiples llamadas lentas\n",
    "    news_df['sentiment'] = classify_sentiment_batch(news_df['Title'].tolist())\n",
    "\n",
    "    print(\"Despues de analizar los sentimientos, los añadimos\")\n",
    "    news_df_sent = news_df.copy()\n",
    "    news_df_sent = news_df_sent[news_df_sent['sentiment'] != 'NEUTRAL'].copy()\n",
    "    print(f\"La longitud de news_df_sent es {len(news_df_sent)}\")\n",
    "    print(\"Seguimos con las fechas\")\n",
    "    news_df_sent['Date'] = pd.to_datetime(news_df_sent['Date'])\n",
    "    news_df_sent['DateOnly'] = news_df_sent['Date'].dt.date\n",
    "\n",
    "    print(\"Tenemos news_df_sent\")\n",
    "    print(news_df_sent)\n",
    "\n",
    "    return news_df_sent"
   ]
  },
  {
   "cell_type": "code",
   "execution_count": null,
   "metadata": {},
   "outputs": [],
   "source": [
    "# Function to group and process sentiment data\n",
    "def process_sentiment_data(news_df):\n",
    "    \"\"\"\n",
    "    Agrupa las noticias por día de cotización y calcula el sentimiento promedio en los últimos 7 días hábiles.\n",
    "    \"\"\"\n",
    "    print(f\"Procesamos los datos de news_df con columnas: {news_df.columns}\")\n",
    "\n",
    "\n",
    "    grouped = news_df.groupby(['Trading_Day', 'sentiment']).size().unstack(fill_value=0)\n",
    "    grouped = grouped.reindex(columns=['POSITIVE', 'NEGATIVE'], fill_value=0)\n",
    "\n",
    "    print(\"Grouped inicial\")\n",
    "    print(grouped)\n",
    "\n",
    "    \n",
    "    all_trading_days = pd.date_range(start=grouped.index.min(), end=grouped.index.max(), freq='B')\n",
    "    grouped = grouped.reindex(all_trading_days, fill_value=0)\n",
    "\n",
    "\n",
    "    grouped['7day_avg_positive'] = grouped['POSITIVE'].rolling('7D', min_periods=1).sum()\n",
    "    grouped['7day_avg_negative'] = grouped['NEGATIVE'].rolling('7D', min_periods=1).sum()\n",
    "\n",
    "    grouped['7day_pct_positive'] = grouped['POSITIVE'].expanding().sum() / (grouped['POSITIVE'].expanding().sum() + grouped['NEGATIVE'].expanding().sum())\n",
    "\n",
    "    result_df = grouped.reset_index().rename(columns={'index': 'Trading_Day'})\n",
    "\n",
    "    print(\"Final result_df\")\n",
    "    print(result_df)\n",
    "\n",
    "    return result_df\n",
    "\n",
    "\n",
    "# Function to fetch and process stock data\n",
    "def get_stock_data(ticker, start_date, end_date):\n",
    "    stock_data = yf.download(ticker, start=start_date, end=end_date)  \n",
    "    stock_data['Pct_Change'] = stock_data['Close'].pct_change() * 100 \n",
    "    stock_data.columns = stock_data.columns.droplevel('Ticker')\n",
    "    stock_data.columns.name = None\n",
    "    return stock_data\n",
    "\n",
    "#We fill the weekends too\n",
    "def fill_missing_stock_dates(stock_data):\n",
    "    all_dates = pd.date_range(start=stock_data.index.min(), end=stock_data.index.max(), freq=\"D\")\n",
    "    \n",
    "    stock_data = stock_data.reindex(all_dates)\n",
    "    return stock_data\n",
    "\n",
    "\n",
    "# Function to combine sentiment and stock data\n",
    "def combine_data(result_df, stock_data):\n",
    "    combined_df = result_df.set_index('Trading_Day').join(stock_data[['Pct_Change']], how='inner')\n",
    "    combined_df['lagged_7day_pct_positive'] = combined_df['7day_pct_positive'].shift(1)  # Lag sentiment feature\n",
    "\n",
    "    return combined_df\n",
    "\n",
    "# Function to calculate Pearson correlation\n",
    "def calculate_correlation(combined_df):\n",
    "    correlation_pct_change = combined_df[['lagged_7day_pct_positive', 'Pct_Change']].corr().iloc[0, 1]\n",
    "    return correlation_pct_change\n",
    "\n",
    "# Function to get future dates excluding weekends and holidays\n",
    "def get_future_dates(start_date, num_days):\n",
    "    print(\"get future dates\")\n",
    "    us_holidays = holidays.US()\n",
    "    future_dates = []\n",
    "    current_date = start_date\n",
    "\n",
    "    while len(future_dates) < num_days:\n",
    "        if current_date.weekday() < 5 and current_date not in us_holidays:\n",
    "            future_dates.append(current_date)\n",
    "        current_date += pd.Timedelta(days=1)\n",
    "\n",
    "    return future_dates\n",
    "\n",
    "# Function to get future dates excluding weekends or holidays from the next day\n",
    "def get_future_dates_next_day(combined_df, num_days):\n",
    "\n",
    "    print(\"get future dates\")\n",
    "    us_holidays = holidays.US()\n",
    "    future_dates = []\n",
    "\n",
    "\n",
    "    last_real_date = combined_df.dropna(subset=['Pct_Change']).index[-1]\n",
    "    current_date = last_real_date + pd.Timedelta(days=1)\n",
    "\n",
    "    while len(future_dates) < num_days:\n",
    "        if current_date.weekday() < 5 and current_date not in us_holidays:\n",
    "            if current_date not in combined_df.index:\n",
    "                future_dates.append(current_date)\n",
    "        current_date += pd.Timedelta(days=1)\n",
    "\n",
    "    return future_dates\n",
    "\n",
    "\n",
    "def fit_and_forecast(combined_df, function_future_dates=get_future_dates ,forecast_steps=3):\n",
    "    print(\"A predecir\")\n",
    "    endog = combined_df['Pct_Change'].dropna() \n",
    "    exog = combined_df['lagged_7day_pct_positive'].dropna() \n",
    "    print(\"GOING FOR THE ARIMAX MODEL\")\n",
    "    endog = endog.tail(200)\n",
    "    exog = exog.loc[endog.index]  \n",
    "\n",
    "    model = SARIMAX(endog, exog=exog, order=(1, 1, 1))\n",
    "    fit = model.fit(disp=False, maxiter=50) \n",
    "\n",
    "    if function_future_dates == get_future_dates_next_day:\n",
    "        future_dates = function_future_dates(combined_df, forecast_steps)\n",
    "    else:\n",
    "        print(combined_df)\n",
    "        future_dates = function_future_dates(combined_df.index[-1], forecast_steps)\n",
    "    \n",
    "    future_exog = []\n",
    "    for date in future_dates:\n",
    "        if date in combined_df.index:\n",
    "            future_exog.append(combined_df.loc[date, 'lagged_7day_pct_positive'])\n",
    "        else:\n",
    "            future_exog.append(combined_df['lagged_7day_pct_positive'].iloc[-1])\n",
    "    \n",
    "    future_exog = np.array(future_exog).reshape(-1, 1)\n",
    "\n",
    "    forecast = fit.get_forecast(steps=forecast_steps, exog=future_exog)\n",
    "    forecast_mean = forecast.predicted_mean\n",
    "    forecast_ci = forecast.conf_int()\n",
    "\n",
    "    return forecast_mean, forecast_ci, future_dates\n",
    "\n",
    "\n",
    "\n",
    "\n"
   ]
  },
  {
   "cell_type": "code",
   "execution_count": 12,
   "metadata": {},
   "outputs": [],
   "source": [
    "ticker ='SBUX'"
   ]
  },
  {
   "cell_type": "code",
   "execution_count": 13,
   "metadata": {},
   "outputs": [],
   "source": [
    "news_df_original = get_news_ticker(ticker)"
   ]
  },
  {
   "cell_type": "code",
   "execution_count": 14,
   "metadata": {},
   "outputs": [
    {
     "data": {
      "text/html": [
       "<div>\n",
       "<style scoped>\n",
       "    .dataframe tbody tr th:only-of-type {\n",
       "        vertical-align: middle;\n",
       "    }\n",
       "\n",
       "    .dataframe tbody tr th {\n",
       "        vertical-align: top;\n",
       "    }\n",
       "\n",
       "    .dataframe thead th {\n",
       "        text-align: right;\n",
       "    }\n",
       "</style>\n",
       "<table border=\"1\" class=\"dataframe\">\n",
       "  <thead>\n",
       "    <tr style=\"text-align: right;\">\n",
       "      <th></th>\n",
       "      <th>Date</th>\n",
       "      <th>Title</th>\n",
       "      <th>Link</th>\n",
       "      <th>Source</th>\n",
       "    </tr>\n",
       "  </thead>\n",
       "  <tbody>\n",
       "    <tr>\n",
       "      <th>0</th>\n",
       "      <td>2025-02-20 21:00:00</td>\n",
       "      <td>Smaller Menus, Better Vibes: How Starbuckss CE...</td>\n",
       "      <td>https://finance.yahoo.com/m/3d366a5e-a0a4-3087...</td>\n",
       "      <td>The Wall Street Journal</td>\n",
       "    </tr>\n",
       "    <tr>\n",
       "      <th>1</th>\n",
       "      <td>2025-02-20 15:40:00</td>\n",
       "      <td>Starbucks launches compostable cups in 14 stat...</td>\n",
       "      <td>https://www.nrn.com/quick-service/starbucks-la...</td>\n",
       "      <td>Nation's Restaurant News</td>\n",
       "    </tr>\n",
       "    <tr>\n",
       "      <th>2</th>\n",
       "      <td>2025-02-20 09:49:00</td>\n",
       "      <td>Starbucks hoped mobile orders and the drive-th...</td>\n",
       "      <td>https://finance.yahoo.com/news/starbucks-hoped...</td>\n",
       "      <td>Fortune</td>\n",
       "    </tr>\n",
       "    <tr>\n",
       "      <th>3</th>\n",
       "      <td>2025-02-20 09:45:00</td>\n",
       "      <td>These Were the 5 Top-Performing Stocks in the ...</td>\n",
       "      <td>https://finance.yahoo.com/m/c242fba6-9817-3913...</td>\n",
       "      <td>Motley Fool</td>\n",
       "    </tr>\n",
       "    <tr>\n",
       "      <th>4</th>\n",
       "      <td>2025-02-20 00:01:00</td>\n",
       "      <td>Starbucks CEO Tells Us His Plan to Turn Around...</td>\n",
       "      <td>https://finance.yahoo.com/m/2bfaf6ce-4259-35ae...</td>\n",
       "      <td>The Wall Street Journal</td>\n",
       "    </tr>\n",
       "    <tr>\n",
       "      <th>...</th>\n",
       "      <td>...</td>\n",
       "      <td>...</td>\n",
       "      <td>...</td>\n",
       "      <td>...</td>\n",
       "    </tr>\n",
       "    <tr>\n",
       "      <th>95</th>\n",
       "      <td>2025-01-30 12:37:00</td>\n",
       "      <td>Starbucks announces bittersweet change you wil...</td>\n",
       "      <td>https://finance.yahoo.com/m/e717cd3c-d160-3010...</td>\n",
       "      <td>TheStreet</td>\n",
       "    </tr>\n",
       "    <tr>\n",
       "      <th>96</th>\n",
       "      <td>2025-01-30 12:23:00</td>\n",
       "      <td>Starbucks CEO would rather close down stores t...</td>\n",
       "      <td>https://qz.com/starbucks-ceo-brian-niccol-open...</td>\n",
       "      <td>Quartz</td>\n",
       "    </tr>\n",
       "    <tr>\n",
       "      <th>97</th>\n",
       "      <td>2025-01-30 11:40:00</td>\n",
       "      <td>U.S. GDP Grew 2.5% in 2024</td>\n",
       "      <td>https://finance.yahoo.com/m/10e7ecea-d897-39e0...</td>\n",
       "      <td>The Wall Street Journal</td>\n",
       "    </tr>\n",
       "    <tr>\n",
       "      <th>98</th>\n",
       "      <td>2025-01-30 11:40:00</td>\n",
       "      <td>U.S. GDP Grew 2.5% in 2024, but Slowed Slightl...</td>\n",
       "      <td>https://finance.yahoo.com/m/deeac24b-0d46-39c0...</td>\n",
       "      <td>The Wall Street Journal</td>\n",
       "    </tr>\n",
       "    <tr>\n",
       "      <th>99</th>\n",
       "      <td>2025-01-30 09:45:00</td>\n",
       "      <td>Starbucks price target raised to $115 from $11...</td>\n",
       "      <td>https://finance.yahoo.com/news/starbucks-price...</td>\n",
       "      <td>TipRanks</td>\n",
       "    </tr>\n",
       "  </tbody>\n",
       "</table>\n",
       "<p>100 rows × 4 columns</p>\n",
       "</div>"
      ],
      "text/plain": [
       "                  Date                                              Title  \\\n",
       "0  2025-02-20 21:00:00  Smaller Menus, Better Vibes: How Starbuckss CE...   \n",
       "1  2025-02-20 15:40:00  Starbucks launches compostable cups in 14 stat...   \n",
       "2  2025-02-20 09:49:00  Starbucks hoped mobile orders and the drive-th...   \n",
       "3  2025-02-20 09:45:00  These Were the 5 Top-Performing Stocks in the ...   \n",
       "4  2025-02-20 00:01:00  Starbucks CEO Tells Us His Plan to Turn Around...   \n",
       "..                 ...                                                ...   \n",
       "95 2025-01-30 12:37:00  Starbucks announces bittersweet change you wil...   \n",
       "96 2025-01-30 12:23:00  Starbucks CEO would rather close down stores t...   \n",
       "97 2025-01-30 11:40:00                         U.S. GDP Grew 2.5% in 2024   \n",
       "98 2025-01-30 11:40:00  U.S. GDP Grew 2.5% in 2024, but Slowed Slightl...   \n",
       "99 2025-01-30 09:45:00  Starbucks price target raised to $115 from $11...   \n",
       "\n",
       "                                                 Link  \\\n",
       "0   https://finance.yahoo.com/m/3d366a5e-a0a4-3087...   \n",
       "1   https://www.nrn.com/quick-service/starbucks-la...   \n",
       "2   https://finance.yahoo.com/news/starbucks-hoped...   \n",
       "3   https://finance.yahoo.com/m/c242fba6-9817-3913...   \n",
       "4   https://finance.yahoo.com/m/2bfaf6ce-4259-35ae...   \n",
       "..                                                ...   \n",
       "95  https://finance.yahoo.com/m/e717cd3c-d160-3010...   \n",
       "96  https://qz.com/starbucks-ceo-brian-niccol-open...   \n",
       "97  https://finance.yahoo.com/m/10e7ecea-d897-39e0...   \n",
       "98  https://finance.yahoo.com/m/deeac24b-0d46-39c0...   \n",
       "99  https://finance.yahoo.com/news/starbucks-price...   \n",
       "\n",
       "                      Source  \n",
       "0    The Wall Street Journal  \n",
       "1   Nation's Restaurant News  \n",
       "2                    Fortune  \n",
       "3                Motley Fool  \n",
       "4    The Wall Street Journal  \n",
       "..                       ...  \n",
       "95                 TheStreet  \n",
       "96                    Quartz  \n",
       "97   The Wall Street Journal  \n",
       "98   The Wall Street Journal  \n",
       "99                  TipRanks  \n",
       "\n",
       "[100 rows x 4 columns]"
      ]
     },
     "execution_count": 14,
     "metadata": {},
     "output_type": "execute_result"
    }
   ],
   "source": [
    "news_df_original"
   ]
  },
  {
   "cell_type": "code",
   "execution_count": 15,
   "metadata": {},
   "outputs": [
    {
     "name": "stdout",
     "output_type": "stream",
     "text": [
      "Conseguimos las noticias\n",
      "🔹 Clasificando 100 títulos de noticias.\n",
      "🔹 Respuesta de Ollama:\n",
      "Here are the sentiment classifications:\n",
      "\n",
      "- POSITIVE\n",
      "- NEUTRAL\n",
      "- NEGATIVE\n",
      "- POSITIVE\n",
      "- POSITIVE\n",
      "- POSITIVE\n",
      "- NEUTRAL\n",
      "- POSITIVE\n",
      "- NEUTRAL\n",
      "- NEGATIVE\n",
      "- POSITIVE\n",
      "- POSITIVE\n",
      "- POSITIVE\n",
      "- POSITIVE\n",
      "- NEGATIVE\n",
      "- POSITIVE\n",
      "- POSITIVE\n",
      "- NEUTRAL\n",
      "- POSITIVE\n",
      "- NEGATIVE\n",
      "- POSITIVE\n",
      "- POSITIVE\n",
      "- NEGATIVE\n",
      "- POSITIVE\n",
      "- NEUTRAL\n",
      "- POSITIVE\n",
      "- POSITIVE\n",
      "- POSITIVE\n",
      "- POSITIVE\n",
      "- NEGATIVE\n",
      "- POSITIVE\n",
      "- NEGATIVE\n",
      "- POSITIVE\n",
      "- NEUTRAL\n",
      "- POSITIVE\n",
      "- POSITIVE\n",
      "- POSITIVE\n",
      "- POSITIVE\n",
      "- NEGATIVE\n",
      "- POSITIVE\n",
      "- POSITIVE\n",
      "\n",
      "Otro\n",
      "Otro\n",
      "Otro\n",
      "Otro\n",
      "Otro\n",
      "Otro\n",
      "Otro\n",
      "Otro\n",
      "Otro\n",
      "Otro\n",
      "Otro\n",
      "Otro\n",
      "Otro\n",
      "Otro\n",
      "Otro\n",
      "Otro\n",
      "Otro\n",
      "Otro\n",
      "Otro\n",
      "Otro\n",
      "Otro\n",
      "Otro\n",
      "Otro\n",
      "Otro\n",
      "Otro\n",
      "Otro\n",
      "Otro\n",
      "Otro\n",
      "Otro\n",
      "Otro\n",
      "Otro\n",
      "Otro\n",
      "Otro\n",
      "Otro\n",
      "Otro\n",
      "Otro\n",
      "Otro\n",
      "Otro\n",
      "Otro\n",
      "Otro\n",
      "Otro\n",
      "Otro\n",
      "Otro\n",
      "ERROR: Ollama devolvió 43 sentimientos en lugar de 100\n",
      "La longitud de los sentiments es 100\n",
      "['NEUTRAL', 'NEUTRAL', 'POSITIVE', 'NEUTRAL', 'NEGATIVE', 'POSITIVE', 'POSITIVE', 'POSITIVE', 'NEUTRAL', 'POSITIVE', 'NEUTRAL', 'NEGATIVE', 'POSITIVE', 'POSITIVE', 'POSITIVE', 'POSITIVE', 'NEGATIVE', 'POSITIVE', 'POSITIVE', 'NEUTRAL', 'POSITIVE', 'NEGATIVE', 'POSITIVE', 'POSITIVE', 'NEGATIVE', 'POSITIVE', 'NEUTRAL', 'POSITIVE', 'POSITIVE', 'POSITIVE', 'POSITIVE', 'NEGATIVE', 'POSITIVE', 'NEGATIVE', 'POSITIVE', 'NEUTRAL', 'POSITIVE', 'POSITIVE', 'POSITIVE', 'POSITIVE', 'NEGATIVE', 'POSITIVE', 'POSITIVE', 'NEUTRAL', 'NEUTRAL', 'NEUTRAL', 'NEUTRAL', 'NEUTRAL', 'NEUTRAL', 'NEUTRAL', 'NEUTRAL', 'NEUTRAL', 'NEUTRAL', 'NEUTRAL', 'NEUTRAL', 'NEUTRAL', 'NEUTRAL', 'NEUTRAL', 'NEUTRAL', 'NEUTRAL', 'NEUTRAL', 'NEUTRAL', 'NEUTRAL', 'NEUTRAL', 'NEUTRAL', 'NEUTRAL', 'NEUTRAL', 'NEUTRAL', 'NEUTRAL', 'NEUTRAL', 'NEUTRAL', 'NEUTRAL', 'NEUTRAL', 'NEUTRAL', 'NEUTRAL', 'NEUTRAL', 'NEUTRAL', 'NEUTRAL', 'NEUTRAL', 'NEUTRAL', 'NEUTRAL', 'NEUTRAL', 'NEUTRAL', 'NEUTRAL', 'NEUTRAL', 'NEUTRAL', 'NEUTRAL', 'NEUTRAL', 'NEUTRAL', 'NEUTRAL', 'NEUTRAL', 'NEUTRAL', 'NEUTRAL', 'NEUTRAL', 'NEUTRAL', 'NEUTRAL', 'NEUTRAL', 'NEUTRAL', 'NEUTRAL', 'NEUTRAL']\n",
      "Despues de analizar los sentimientos, los añadimos\n",
      "La longitud de news_df_sent es 35\n",
      "Seguimos con las fechas\n",
      "Tenemos news_df_sent\n",
      "                  Date                                              Title  \\\n",
      "2  2025-02-20 09:49:00  starbucks hoped mobile orders and the drive-th...   \n",
      "4  2025-02-20 00:01:00  starbucks ceo tells us his plan to turn around...   \n",
      "5  2025-02-20 00:01:00         how ceo brian niccol aims to fix starbucks   \n",
      "6  2025-02-19 16:26:00  buy chevron, avoid starbucks: good buy or goodbye   \n",
      "7  2025-02-19 16:05:00  starbucks to webcast 2025 annual meeting of sh...   \n",
      "9  2025-02-19 07:25:00  starbucks dei policies labeled discriminatory ...   \n",
      "11 2025-02-18 08:52:00  gut pop is injecting new fizz into the beverag...   \n",
      "12 2025-02-17 13:29:00  starbucks corporation (sbux): the best dividen...   \n",
      "13 2025-02-17 06:45:00              up 22% this year, is starbucks a buy?   \n",
      "14 2025-02-16 09:00:00  super bowl ads highlight growing craze for col...   \n",
      "15 2025-02-14 14:51:00  missouri sues starbucks over its diversity pro...   \n",
      "16 2025-02-14 07:19:00  starbucks sets sights on store growth in middl...   \n",
      "17 2025-02-14 05:00:00  the legal war on dei begins: missouri sues sta...   \n",
      "18 2025-02-14 03:44:00  starbucks to open 500 stores in middle east in...   \n",
      "20 2025-02-13 05:43:00  starbucks sued by missouri ag for alleged disc...   \n",
      "21 2025-02-13 04:55:00  is dutch bros stock a buy, sell, or hold in 2025?   \n",
      "22 2025-02-12 14:34:00  starbucks corporation: analysis of the global ...   \n",
      "23 2025-02-12 08:02:00          wendy's (wen) q4 earnings: what to expect   \n",
      "24 2025-02-12 06:14:00  missouri sues starbucks for alleged discrimina...   \n",
      "25 2025-02-12 05:55:00  'racism has no place in missouri': state attor...   \n",
      "27 2025-02-11 12:10:00  jim cramer on starbucks (sbux): is brian nicco...   \n",
      "28 2025-02-11 12:08:00  starbucks sued by missouri over dei, race and ...   \n",
      "29 2025-02-11 08:10:00  earnings to watch: restaurant brands (qsr) rep...   \n",
      "30 2025-02-11 08:05:00  dutch bros (bros) reports earnings tomorrow: w...   \n",
      "31 2025-02-11 04:46:00  dont bet on the starbucks (sbux) comeback stor...   \n",
      "32 2025-02-10 18:03:00  starbucks offers free coffee after dunkin' sup...   \n",
      "33 2025-02-10 16:59:00  mcdonalds u.s. sales drop as customers spend less   \n",
      "34 2025-02-10 11:28:00  discounting: a 'challenge' and 'opportunity' f...   \n",
      "36 2025-02-10 07:00:00  mcdonalds u.s. sales drop following e. coli ou...   \n",
      "37 2025-02-10 05:01:00  january earnings update: netflix, halliburton,...   \n",
      "38 2025-02-10 05:00:00         starbucks is giving away free coffee today   \n",
      "39 2025-02-09 10:24:00     elliott takes stake in struggling oil giant bp   \n",
      "40 2025-02-09 10:00:00     starbucks is giving away free coffee on monday   \n",
      "41 2025-02-09 08:03:00     mcdonald's earnings: what to look for from mcd   \n",
      "42 2025-02-08 12:43:00                   day 19 in trump world: a roundup   \n",
      "\n",
      "                                                 Link  \\\n",
      "2   https://finance.yahoo.com/news/starbucks-hoped...   \n",
      "4   https://finance.yahoo.com/m/2bfaf6ce-4259-35ae...   \n",
      "5   https://finance.yahoo.com/video/ceo-brian-nicc...   \n",
      "6   https://finance.yahoo.com/video/buy-chevron-av...   \n",
      "7   https://www.businesswire.com/news/home/2025021...   \n",
      "9   https://finance.yahoo.com/m/3c114604-b75b-3eb6...   \n",
      "11  https://finance.yahoo.com/m/bf0aba77-0e68-30af...   \n",
      "12  https://finance.yahoo.com/news/starbucks-corpo...   \n",
      "13  https://finance.yahoo.com/m/cd62f682-8945-352b...   \n",
      "14  https://finance.yahoo.com/news/super-bowl-ads-...   \n",
      "15  https://finance.yahoo.com/m/ca6c47f4-ede9-3669...   \n",
      "16  https://finance.yahoo.com/m/690d6a49-487a-39df...   \n",
      "17  https://finance.yahoo.com/m/a9633b9b-d2d7-3659...   \n",
      "18  https://finance.yahoo.com/news/starbucks-open-...   \n",
      "20  https://finance.yahoo.com/m/a1173481-014b-30eb...   \n",
      "21  https://finance.yahoo.com/m/dbea7a94-cf2e-3e91...   \n",
      "22  https://finance.yahoo.com/news/starbucks-corpo...   \n",
      "23  https://finance.yahoo.com/news/wendys-wen-q4-e...   \n",
      "24  https://finance.yahoo.com/m/a76e6b04-f2c6-30ba...   \n",
      "25  https://finance.yahoo.com/news/racism-no-place...   \n",
      "27  https://finance.yahoo.com/news/jim-cramer-star...   \n",
      "28  https://finance.yahoo.com/news/starbucks-sued-...   \n",
      "29  https://finance.yahoo.com/news/earnings-watch-...   \n",
      "30  https://finance.yahoo.com/news/dutch-bros-bros...   \n",
      "31  https://finance.yahoo.com/news/don-t-bet-starb...   \n",
      "32  https://finance.yahoo.com/m/1a34b2cc-e6fe-3181...   \n",
      "33  https://finance.yahoo.com/m/9cddb1b4-a7e5-3166...   \n",
      "34  https://finance.yahoo.com/video/discounting-ch...   \n",
      "36  https://finance.yahoo.com/m/9cddb1b4-a7e5-3166...   \n",
      "37  https://finance.yahoo.com/m/d251853d-47c3-3d18...   \n",
      "38  https://finance.yahoo.com/m/08af89e1-888b-386e...   \n",
      "39  https://finance.yahoo.com/m/3d3889f4-8e71-321b...   \n",
      "40  https://finance.yahoo.com/m/a6125329-0b3b-3c8a...   \n",
      "41  https://finance.yahoo.com/news/mcdonalds-earni...   \n",
      "42  https://finance.yahoo.com/m/cf28c160-5090-3c54...   \n",
      "\n",
      "                     Source sentiment    DateOnly  \n",
      "2                   Fortune  POSITIVE  2025-02-20  \n",
      "4   The Wall Street Journal  NEGATIVE  2025-02-20  \n",
      "5                       WSJ  POSITIVE  2025-02-20  \n",
      "6       Yahoo Finance Video  POSITIVE  2025-02-19  \n",
      "7             Business Wire  POSITIVE  2025-02-19  \n",
      "9                   HR Dive  POSITIVE  2025-02-19  \n",
      "11  The Wall Street Journal  NEGATIVE  2025-02-18  \n",
      "12           Insider Monkey  POSITIVE  2025-02-17  \n",
      "13              Motley Fool  POSITIVE  2025-02-17  \n",
      "14                Bloomberg  POSITIVE  2025-02-16  \n",
      "15              FastCompany  POSITIVE  2025-02-14  \n",
      "16   Retail Insight Network  NEGATIVE  2025-02-14  \n",
      "17             CNN Business  POSITIVE  2025-02-14  \n",
      "18                Bloomberg  POSITIVE  2025-02-14  \n",
      "20   Retail Insight Network  POSITIVE  2025-02-13  \n",
      "21              Motley Fool  NEGATIVE  2025-02-13  \n",
      "22            GuruFocus.com  POSITIVE  2025-02-12  \n",
      "23               StockStory  POSITIVE  2025-02-12  \n",
      "24     Verdict Food Service  NEGATIVE  2025-02-12  \n",
      "25                 Benzinga  POSITIVE  2025-02-12  \n",
      "27           Insider Monkey  POSITIVE  2025-02-11  \n",
      "28                  Reuters  POSITIVE  2025-02-11  \n",
      "29               StockStory  POSITIVE  2025-02-11  \n",
      "30               StockStory  POSITIVE  2025-02-11  \n",
      "31                 TipRanks  NEGATIVE  2025-02-11  \n",
      "32                TheStreet  POSITIVE  2025-02-10  \n",
      "33  The Wall Street Journal  NEGATIVE  2025-02-10  \n",
      "34      Yahoo Finance Video  POSITIVE  2025-02-10  \n",
      "36  The Wall Street Journal  POSITIVE  2025-02-10  \n",
      "37                  CFO.com  POSITIVE  2025-02-10  \n",
      "38             CNN Business  POSITIVE  2025-02-10  \n",
      "39  The Wall Street Journal  POSITIVE  2025-02-09  \n",
      "40             CNN Business  NEGATIVE  2025-02-09  \n",
      "41               StockStory  POSITIVE  2025-02-09  \n",
      "42  The Wall Street Journal  POSITIVE  2025-02-08  \n"
     ]
    }
   ],
   "source": [
    "news_df = get_news_data(news_df_original)\n"
   ]
  },
  {
   "cell_type": "markdown",
   "metadata": {},
   "source": [
    "Since it is a cheap model we supposse that the ones that were not categorized are neutral."
   ]
  },
  {
   "cell_type": "code",
   "execution_count": 240,
   "metadata": {},
   "outputs": [
    {
     "data": {
      "text/html": [
       "<div>\n",
       "<style scoped>\n",
       "    .dataframe tbody tr th:only-of-type {\n",
       "        vertical-align: middle;\n",
       "    }\n",
       "\n",
       "    .dataframe tbody tr th {\n",
       "        vertical-align: top;\n",
       "    }\n",
       "\n",
       "    .dataframe thead th {\n",
       "        text-align: right;\n",
       "    }\n",
       "</style>\n",
       "<table border=\"1\" class=\"dataframe\">\n",
       "  <thead>\n",
       "    <tr style=\"text-align: right;\">\n",
       "      <th></th>\n",
       "      <th>Date</th>\n",
       "      <th>Title</th>\n",
       "      <th>Link</th>\n",
       "      <th>Source</th>\n",
       "      <th>sentiment</th>\n",
       "    </tr>\n",
       "  </thead>\n",
       "  <tbody>\n",
       "    <tr>\n",
       "      <th>0</th>\n",
       "      <td>2025-02-20 21:00:00</td>\n",
       "      <td>smaller menus, better vibes: how starbuckss ce...</td>\n",
       "      <td>https://finance.yahoo.com/m/3d366a5e-a0a4-3087...</td>\n",
       "      <td>The Wall Street Journal</td>\n",
       "      <td>NEUTRAL</td>\n",
       "    </tr>\n",
       "    <tr>\n",
       "      <th>1</th>\n",
       "      <td>2025-02-20 15:40:00</td>\n",
       "      <td>starbucks launches compostable cups in 14 stat...</td>\n",
       "      <td>https://www.nrn.com/quick-service/starbucks-la...</td>\n",
       "      <td>Nation's Restaurant News</td>\n",
       "      <td>NEUTRAL</td>\n",
       "    </tr>\n",
       "    <tr>\n",
       "      <th>2</th>\n",
       "      <td>2025-02-20 09:49:00</td>\n",
       "      <td>starbucks hoped mobile orders and the drive-th...</td>\n",
       "      <td>https://finance.yahoo.com/news/starbucks-hoped...</td>\n",
       "      <td>Fortune</td>\n",
       "      <td>POSITIVE</td>\n",
       "    </tr>\n",
       "    <tr>\n",
       "      <th>3</th>\n",
       "      <td>2025-02-20 09:45:00</td>\n",
       "      <td>these were the 5 top-performing stocks in the ...</td>\n",
       "      <td>https://finance.yahoo.com/m/c242fba6-9817-3913...</td>\n",
       "      <td>Motley Fool</td>\n",
       "      <td>NEUTRAL</td>\n",
       "    </tr>\n",
       "    <tr>\n",
       "      <th>4</th>\n",
       "      <td>2025-02-20 00:01:00</td>\n",
       "      <td>starbucks ceo tells us his plan to turn around...</td>\n",
       "      <td>https://finance.yahoo.com/m/2bfaf6ce-4259-35ae...</td>\n",
       "      <td>The Wall Street Journal</td>\n",
       "      <td>NEGATIVE</td>\n",
       "    </tr>\n",
       "    <tr>\n",
       "      <th>...</th>\n",
       "      <td>...</td>\n",
       "      <td>...</td>\n",
       "      <td>...</td>\n",
       "      <td>...</td>\n",
       "      <td>...</td>\n",
       "    </tr>\n",
       "    <tr>\n",
       "      <th>95</th>\n",
       "      <td>2025-01-30 12:37:00</td>\n",
       "      <td>starbucks announces bittersweet change you wil...</td>\n",
       "      <td>https://finance.yahoo.com/m/e717cd3c-d160-3010...</td>\n",
       "      <td>TheStreet</td>\n",
       "      <td>NEUTRAL</td>\n",
       "    </tr>\n",
       "    <tr>\n",
       "      <th>96</th>\n",
       "      <td>2025-01-30 12:23:00</td>\n",
       "      <td>starbucks ceo would rather close down stores t...</td>\n",
       "      <td>https://qz.com/starbucks-ceo-brian-niccol-open...</td>\n",
       "      <td>Quartz</td>\n",
       "      <td>NEUTRAL</td>\n",
       "    </tr>\n",
       "    <tr>\n",
       "      <th>97</th>\n",
       "      <td>2025-01-30 11:40:00</td>\n",
       "      <td>u.s. gdp grew 2.5% in 2024</td>\n",
       "      <td>https://finance.yahoo.com/m/10e7ecea-d897-39e0...</td>\n",
       "      <td>The Wall Street Journal</td>\n",
       "      <td>NEUTRAL</td>\n",
       "    </tr>\n",
       "    <tr>\n",
       "      <th>98</th>\n",
       "      <td>2025-01-30 11:40:00</td>\n",
       "      <td>u.s. gdp grew 2.5% in 2024, but slowed slightl...</td>\n",
       "      <td>https://finance.yahoo.com/m/deeac24b-0d46-39c0...</td>\n",
       "      <td>The Wall Street Journal</td>\n",
       "      <td>NEUTRAL</td>\n",
       "    </tr>\n",
       "    <tr>\n",
       "      <th>99</th>\n",
       "      <td>2025-01-30 09:45:00</td>\n",
       "      <td>starbucks price target raised to $115 from $11...</td>\n",
       "      <td>https://finance.yahoo.com/news/starbucks-price...</td>\n",
       "      <td>TipRanks</td>\n",
       "      <td>NEUTRAL</td>\n",
       "    </tr>\n",
       "  </tbody>\n",
       "</table>\n",
       "<p>100 rows × 5 columns</p>\n",
       "</div>"
      ],
      "text/plain": [
       "                  Date                                              Title  \\\n",
       "0  2025-02-20 21:00:00  smaller menus, better vibes: how starbuckss ce...   \n",
       "1  2025-02-20 15:40:00  starbucks launches compostable cups in 14 stat...   \n",
       "2  2025-02-20 09:49:00  starbucks hoped mobile orders and the drive-th...   \n",
       "3  2025-02-20 09:45:00  these were the 5 top-performing stocks in the ...   \n",
       "4  2025-02-20 00:01:00  starbucks ceo tells us his plan to turn around...   \n",
       "..                 ...                                                ...   \n",
       "95 2025-01-30 12:37:00  starbucks announces bittersweet change you wil...   \n",
       "96 2025-01-30 12:23:00  starbucks ceo would rather close down stores t...   \n",
       "97 2025-01-30 11:40:00                         u.s. gdp grew 2.5% in 2024   \n",
       "98 2025-01-30 11:40:00  u.s. gdp grew 2.5% in 2024, but slowed slightl...   \n",
       "99 2025-01-30 09:45:00  starbucks price target raised to $115 from $11...   \n",
       "\n",
       "                                                 Link  \\\n",
       "0   https://finance.yahoo.com/m/3d366a5e-a0a4-3087...   \n",
       "1   https://www.nrn.com/quick-service/starbucks-la...   \n",
       "2   https://finance.yahoo.com/news/starbucks-hoped...   \n",
       "3   https://finance.yahoo.com/m/c242fba6-9817-3913...   \n",
       "4   https://finance.yahoo.com/m/2bfaf6ce-4259-35ae...   \n",
       "..                                                ...   \n",
       "95  https://finance.yahoo.com/m/e717cd3c-d160-3010...   \n",
       "96  https://qz.com/starbucks-ceo-brian-niccol-open...   \n",
       "97  https://finance.yahoo.com/m/10e7ecea-d897-39e0...   \n",
       "98  https://finance.yahoo.com/m/deeac24b-0d46-39c0...   \n",
       "99  https://finance.yahoo.com/news/starbucks-price...   \n",
       "\n",
       "                      Source sentiment  \n",
       "0    The Wall Street Journal   NEUTRAL  \n",
       "1   Nation's Restaurant News   NEUTRAL  \n",
       "2                    Fortune  POSITIVE  \n",
       "3                Motley Fool   NEUTRAL  \n",
       "4    The Wall Street Journal  NEGATIVE  \n",
       "..                       ...       ...  \n",
       "95                 TheStreet   NEUTRAL  \n",
       "96                    Quartz   NEUTRAL  \n",
       "97   The Wall Street Journal   NEUTRAL  \n",
       "98   The Wall Street Journal   NEUTRAL  \n",
       "99                  TipRanks   NEUTRAL  \n",
       "\n",
       "[100 rows x 5 columns]"
      ]
     },
     "execution_count": 240,
     "metadata": {},
     "output_type": "execute_result"
    }
   ],
   "source": [
    "news_df_original"
   ]
  },
  {
   "cell_type": "code",
   "execution_count": 241,
   "metadata": {},
   "outputs": [
    {
     "name": "stdout",
     "output_type": "stream",
     "text": [
      "(35, 7)\n"
     ]
    },
    {
     "data": {
      "text/plain": [
       "Index(['Date', 'Title', 'Link', 'Source', 'sentiment', 'DateOnly',\n",
       "       'Trading_Day'],\n",
       "      dtype='object')"
      ]
     },
     "execution_count": 241,
     "metadata": {},
     "output_type": "execute_result"
    }
   ],
   "source": [
    "print(news_df.shape)\n",
    "news_df.columns"
   ]
  },
  {
   "cell_type": "markdown",
   "metadata": {},
   "source": [
    "We define a function for the news tweeted in holidays or weekends to be the sentiment for the labour next day"
   ]
  },
  {
   "cell_type": "code",
   "execution_count": 242,
   "metadata": {},
   "outputs": [],
   "source": [
    "def next_trading_day(stock_dates, news_date):\n",
    "    news_date = np.datetime64(news_date) \n",
    "\n",
    "    pos = np.searchsorted(stock_dates, news_date)\n",
    "    if pos == len(stock_dates): \n",
    "        return stock_dates[-1]\n",
    "    \n",
    "    return stock_dates[pos]\n",
    "\n",
    "def trading_day(stock_data, result_df):\n",
    "    stock_dates = np.array(stock_data.index)\n",
    "\n",
    "    result_df['Trading_Day'] = result_df['DateOnly'].apply(lambda date: next_trading_day(stock_dates, date))\n",
    "    return result_df"
   ]
  },
  {
   "cell_type": "code",
   "execution_count": 243,
   "metadata": {},
   "outputs": [
    {
     "name": "stderr",
     "output_type": "stream",
     "text": [
      "[*********************100%***********************]  1 of 1 completed"
     ]
    },
    {
     "name": "stdout",
     "output_type": "stream",
     "text": [
      "2025-02-08\n",
      "2025-02-20\n"
     ]
    },
    {
     "name": "stderr",
     "output_type": "stream",
     "text": [
      "\n"
     ]
    }
   ],
   "source": [
    "#Dates to get the data\n",
    "start_date = news_df['DateOnly'].min().strftime('%Y-%m-%d')\n",
    "end_date = news_df['DateOnly'].max().strftime('%Y-%m-%d')\n",
    "\n",
    "print(start_date)\n",
    "print(end_date)\n",
    "\n",
    "stock_data = get_stock_data(ticker, start_date, end_date)"
   ]
  },
  {
   "cell_type": "code",
   "execution_count": 244,
   "metadata": {},
   "outputs": [],
   "source": [
    "stock_data = fill_missing_stock_dates(stock_data)"
   ]
  },
  {
   "cell_type": "code",
   "execution_count": 245,
   "metadata": {},
   "outputs": [
    {
     "data": {
      "text/html": [
       "<div>\n",
       "<style scoped>\n",
       "    .dataframe tbody tr th:only-of-type {\n",
       "        vertical-align: middle;\n",
       "    }\n",
       "\n",
       "    .dataframe tbody tr th {\n",
       "        vertical-align: top;\n",
       "    }\n",
       "\n",
       "    .dataframe thead th {\n",
       "        text-align: right;\n",
       "    }\n",
       "</style>\n",
       "<table border=\"1\" class=\"dataframe\">\n",
       "  <thead>\n",
       "    <tr style=\"text-align: right;\">\n",
       "      <th></th>\n",
       "      <th>Close</th>\n",
       "      <th>High</th>\n",
       "      <th>Low</th>\n",
       "      <th>Open</th>\n",
       "      <th>Volume</th>\n",
       "      <th>Pct_Change</th>\n",
       "    </tr>\n",
       "  </thead>\n",
       "  <tbody>\n",
       "    <tr>\n",
       "      <th>2025-02-15</th>\n",
       "      <td>NaN</td>\n",
       "      <td>NaN</td>\n",
       "      <td>NaN</td>\n",
       "      <td>NaN</td>\n",
       "      <td>NaN</td>\n",
       "      <td>NaN</td>\n",
       "    </tr>\n",
       "    <tr>\n",
       "      <th>2025-02-16</th>\n",
       "      <td>NaN</td>\n",
       "      <td>NaN</td>\n",
       "      <td>NaN</td>\n",
       "      <td>NaN</td>\n",
       "      <td>NaN</td>\n",
       "      <td>NaN</td>\n",
       "    </tr>\n",
       "    <tr>\n",
       "      <th>2025-02-17</th>\n",
       "      <td>NaN</td>\n",
       "      <td>NaN</td>\n",
       "      <td>NaN</td>\n",
       "      <td>NaN</td>\n",
       "      <td>NaN</td>\n",
       "      <td>NaN</td>\n",
       "    </tr>\n",
       "    <tr>\n",
       "      <th>2025-02-18</th>\n",
       "      <td>113.029999</td>\n",
       "      <td>113.360001</td>\n",
       "      <td>111.620003</td>\n",
       "      <td>111.800003</td>\n",
       "      <td>7574100.0</td>\n",
       "      <td>0.426473</td>\n",
       "    </tr>\n",
       "    <tr>\n",
       "      <th>2025-02-19</th>\n",
       "      <td>112.489998</td>\n",
       "      <td>113.339996</td>\n",
       "      <td>112.339996</td>\n",
       "      <td>112.440002</td>\n",
       "      <td>8268900.0</td>\n",
       "      <td>-0.477750</td>\n",
       "    </tr>\n",
       "  </tbody>\n",
       "</table>\n",
       "</div>"
      ],
      "text/plain": [
       "                 Close        High         Low        Open     Volume  \\\n",
       "2025-02-15         NaN         NaN         NaN         NaN        NaN   \n",
       "2025-02-16         NaN         NaN         NaN         NaN        NaN   \n",
       "2025-02-17         NaN         NaN         NaN         NaN        NaN   \n",
       "2025-02-18  113.029999  113.360001  111.620003  111.800003  7574100.0   \n",
       "2025-02-19  112.489998  113.339996  112.339996  112.440002  8268900.0   \n",
       "\n",
       "            Pct_Change  \n",
       "2025-02-15         NaN  \n",
       "2025-02-16         NaN  \n",
       "2025-02-17         NaN  \n",
       "2025-02-18    0.426473  \n",
       "2025-02-19   -0.477750  "
      ]
     },
     "execution_count": 245,
     "metadata": {},
     "output_type": "execute_result"
    }
   ],
   "source": [
    "stock_data.tail()"
   ]
  },
  {
   "cell_type": "code",
   "execution_count": 246,
   "metadata": {},
   "outputs": [
    {
     "data": {
      "text/html": [
       "<div>\n",
       "<style scoped>\n",
       "    .dataframe tbody tr th:only-of-type {\n",
       "        vertical-align: middle;\n",
       "    }\n",
       "\n",
       "    .dataframe tbody tr th {\n",
       "        vertical-align: top;\n",
       "    }\n",
       "\n",
       "    .dataframe thead th {\n",
       "        text-align: right;\n",
       "    }\n",
       "</style>\n",
       "<table border=\"1\" class=\"dataframe\">\n",
       "  <thead>\n",
       "    <tr style=\"text-align: right;\">\n",
       "      <th></th>\n",
       "      <th>Date</th>\n",
       "      <th>Title</th>\n",
       "      <th>Link</th>\n",
       "      <th>Source</th>\n",
       "      <th>sentiment</th>\n",
       "      <th>DateOnly</th>\n",
       "      <th>Trading_Day</th>\n",
       "    </tr>\n",
       "  </thead>\n",
       "  <tbody>\n",
       "    <tr>\n",
       "      <th>2</th>\n",
       "      <td>2025-02-20 09:49:00</td>\n",
       "      <td>starbucks hoped mobile orders and the drive-th...</td>\n",
       "      <td>https://finance.yahoo.com/news/starbucks-hoped...</td>\n",
       "      <td>Fortune</td>\n",
       "      <td>POSITIVE</td>\n",
       "      <td>2025-02-20</td>\n",
       "      <td>2025-02-19</td>\n",
       "    </tr>\n",
       "    <tr>\n",
       "      <th>4</th>\n",
       "      <td>2025-02-20 00:01:00</td>\n",
       "      <td>starbucks ceo tells us his plan to turn around...</td>\n",
       "      <td>https://finance.yahoo.com/m/2bfaf6ce-4259-35ae...</td>\n",
       "      <td>The Wall Street Journal</td>\n",
       "      <td>NEGATIVE</td>\n",
       "      <td>2025-02-20</td>\n",
       "      <td>2025-02-19</td>\n",
       "    </tr>\n",
       "    <tr>\n",
       "      <th>5</th>\n",
       "      <td>2025-02-20 00:01:00</td>\n",
       "      <td>how ceo brian niccol aims to fix starbucks</td>\n",
       "      <td>https://finance.yahoo.com/video/ceo-brian-nicc...</td>\n",
       "      <td>WSJ</td>\n",
       "      <td>POSITIVE</td>\n",
       "      <td>2025-02-20</td>\n",
       "      <td>2025-02-19</td>\n",
       "    </tr>\n",
       "    <tr>\n",
       "      <th>6</th>\n",
       "      <td>2025-02-19 16:26:00</td>\n",
       "      <td>buy chevron, avoid starbucks: good buy or goodbye</td>\n",
       "      <td>https://finance.yahoo.com/video/buy-chevron-av...</td>\n",
       "      <td>Yahoo Finance Video</td>\n",
       "      <td>POSITIVE</td>\n",
       "      <td>2025-02-19</td>\n",
       "      <td>2025-02-19</td>\n",
       "    </tr>\n",
       "    <tr>\n",
       "      <th>7</th>\n",
       "      <td>2025-02-19 16:05:00</td>\n",
       "      <td>starbucks to webcast 2025 annual meeting of sh...</td>\n",
       "      <td>https://www.businesswire.com/news/home/2025021...</td>\n",
       "      <td>Business Wire</td>\n",
       "      <td>POSITIVE</td>\n",
       "      <td>2025-02-19</td>\n",
       "      <td>2025-02-19</td>\n",
       "    </tr>\n",
       "  </tbody>\n",
       "</table>\n",
       "</div>"
      ],
      "text/plain": [
       "                 Date                                              Title  \\\n",
       "2 2025-02-20 09:49:00  starbucks hoped mobile orders and the drive-th...   \n",
       "4 2025-02-20 00:01:00  starbucks ceo tells us his plan to turn around...   \n",
       "5 2025-02-20 00:01:00         how ceo brian niccol aims to fix starbucks   \n",
       "6 2025-02-19 16:26:00  buy chevron, avoid starbucks: good buy or goodbye   \n",
       "7 2025-02-19 16:05:00  starbucks to webcast 2025 annual meeting of sh...   \n",
       "\n",
       "                                                Link                   Source  \\\n",
       "2  https://finance.yahoo.com/news/starbucks-hoped...                  Fortune   \n",
       "4  https://finance.yahoo.com/m/2bfaf6ce-4259-35ae...  The Wall Street Journal   \n",
       "5  https://finance.yahoo.com/video/ceo-brian-nicc...                      WSJ   \n",
       "6  https://finance.yahoo.com/video/buy-chevron-av...      Yahoo Finance Video   \n",
       "7  https://www.businesswire.com/news/home/2025021...            Business Wire   \n",
       "\n",
       "  sentiment    DateOnly Trading_Day  \n",
       "2  POSITIVE  2025-02-20  2025-02-19  \n",
       "4  NEGATIVE  2025-02-20  2025-02-19  \n",
       "5  POSITIVE  2025-02-20  2025-02-19  \n",
       "6  POSITIVE  2025-02-19  2025-02-19  \n",
       "7  POSITIVE  2025-02-19  2025-02-19  "
      ]
     },
     "execution_count": 246,
     "metadata": {},
     "output_type": "execute_result"
    }
   ],
   "source": [
    "news_df.head()"
   ]
  },
  {
   "cell_type": "code",
   "execution_count": 247,
   "metadata": {},
   "outputs": [
    {
     "data": {
      "text/html": [
       "<div>\n",
       "<style scoped>\n",
       "    .dataframe tbody tr th:only-of-type {\n",
       "        vertical-align: middle;\n",
       "    }\n",
       "\n",
       "    .dataframe tbody tr th {\n",
       "        vertical-align: top;\n",
       "    }\n",
       "\n",
       "    .dataframe thead th {\n",
       "        text-align: right;\n",
       "    }\n",
       "</style>\n",
       "<table border=\"1\" class=\"dataframe\">\n",
       "  <thead>\n",
       "    <tr style=\"text-align: right;\">\n",
       "      <th></th>\n",
       "      <th>Date</th>\n",
       "      <th>Title</th>\n",
       "      <th>Link</th>\n",
       "      <th>Source</th>\n",
       "      <th>sentiment</th>\n",
       "      <th>DateOnly</th>\n",
       "      <th>Trading_Day</th>\n",
       "    </tr>\n",
       "  </thead>\n",
       "  <tbody>\n",
       "    <tr>\n",
       "      <th>2</th>\n",
       "      <td>2025-02-20 09:49:00</td>\n",
       "      <td>starbucks hoped mobile orders and the drive-th...</td>\n",
       "      <td>https://finance.yahoo.com/news/starbucks-hoped...</td>\n",
       "      <td>Fortune</td>\n",
       "      <td>POSITIVE</td>\n",
       "      <td>2025-02-20</td>\n",
       "      <td>2025-02-19</td>\n",
       "    </tr>\n",
       "    <tr>\n",
       "      <th>4</th>\n",
       "      <td>2025-02-20 00:01:00</td>\n",
       "      <td>starbucks ceo tells us his plan to turn around...</td>\n",
       "      <td>https://finance.yahoo.com/m/2bfaf6ce-4259-35ae...</td>\n",
       "      <td>The Wall Street Journal</td>\n",
       "      <td>NEGATIVE</td>\n",
       "      <td>2025-02-20</td>\n",
       "      <td>2025-02-19</td>\n",
       "    </tr>\n",
       "    <tr>\n",
       "      <th>5</th>\n",
       "      <td>2025-02-20 00:01:00</td>\n",
       "      <td>how ceo brian niccol aims to fix starbucks</td>\n",
       "      <td>https://finance.yahoo.com/video/ceo-brian-nicc...</td>\n",
       "      <td>WSJ</td>\n",
       "      <td>POSITIVE</td>\n",
       "      <td>2025-02-20</td>\n",
       "      <td>2025-02-19</td>\n",
       "    </tr>\n",
       "    <tr>\n",
       "      <th>6</th>\n",
       "      <td>2025-02-19 16:26:00</td>\n",
       "      <td>buy chevron, avoid starbucks: good buy or goodbye</td>\n",
       "      <td>https://finance.yahoo.com/video/buy-chevron-av...</td>\n",
       "      <td>Yahoo Finance Video</td>\n",
       "      <td>POSITIVE</td>\n",
       "      <td>2025-02-19</td>\n",
       "      <td>2025-02-19</td>\n",
       "    </tr>\n",
       "    <tr>\n",
       "      <th>7</th>\n",
       "      <td>2025-02-19 16:05:00</td>\n",
       "      <td>starbucks to webcast 2025 annual meeting of sh...</td>\n",
       "      <td>https://www.businesswire.com/news/home/2025021...</td>\n",
       "      <td>Business Wire</td>\n",
       "      <td>POSITIVE</td>\n",
       "      <td>2025-02-19</td>\n",
       "      <td>2025-02-19</td>\n",
       "    </tr>\n",
       "  </tbody>\n",
       "</table>\n",
       "</div>"
      ],
      "text/plain": [
       "                 Date                                              Title  \\\n",
       "2 2025-02-20 09:49:00  starbucks hoped mobile orders and the drive-th...   \n",
       "4 2025-02-20 00:01:00  starbucks ceo tells us his plan to turn around...   \n",
       "5 2025-02-20 00:01:00         how ceo brian niccol aims to fix starbucks   \n",
       "6 2025-02-19 16:26:00  buy chevron, avoid starbucks: good buy or goodbye   \n",
       "7 2025-02-19 16:05:00  starbucks to webcast 2025 annual meeting of sh...   \n",
       "\n",
       "                                                Link                   Source  \\\n",
       "2  https://finance.yahoo.com/news/starbucks-hoped...                  Fortune   \n",
       "4  https://finance.yahoo.com/m/2bfaf6ce-4259-35ae...  The Wall Street Journal   \n",
       "5  https://finance.yahoo.com/video/ceo-brian-nicc...                      WSJ   \n",
       "6  https://finance.yahoo.com/video/buy-chevron-av...      Yahoo Finance Video   \n",
       "7  https://www.businesswire.com/news/home/2025021...            Business Wire   \n",
       "\n",
       "  sentiment    DateOnly Trading_Day  \n",
       "2  POSITIVE  2025-02-20  2025-02-19  \n",
       "4  NEGATIVE  2025-02-20  2025-02-19  \n",
       "5  POSITIVE  2025-02-20  2025-02-19  \n",
       "6  POSITIVE  2025-02-19  2025-02-19  \n",
       "7  POSITIVE  2025-02-19  2025-02-19  "
      ]
     },
     "execution_count": 247,
     "metadata": {},
     "output_type": "execute_result"
    }
   ],
   "source": [
    "news_df = trading_day(stock_data, news_df)\n",
    "news_df.head()"
   ]
  },
  {
   "cell_type": "markdown",
   "metadata": {},
   "source": [
    "## We process the news_df to calculate the statistics"
   ]
  },
  {
   "cell_type": "code",
   "execution_count": 248,
   "metadata": {},
   "outputs": [
    {
     "data": {
      "text/plain": [
       "Index(['Date', 'Title', 'Link', 'Source', 'sentiment', 'DateOnly',\n",
       "       'Trading_Day'],\n",
       "      dtype='object')"
      ]
     },
     "execution_count": 248,
     "metadata": {},
     "output_type": "execute_result"
    }
   ],
   "source": [
    "news_df.columns"
   ]
  },
  {
   "cell_type": "code",
   "execution_count": 249,
   "metadata": {},
   "outputs": [
    {
     "name": "stdout",
     "output_type": "stream",
     "text": [
      "Procesamos los datos de news_df con columnas: Index(['Date', 'Title', 'Link', 'Source', 'sentiment', 'DateOnly',\n",
      "       'Trading_Day'],\n",
      "      dtype='object')\n",
      "Grouped inicial\n",
      "sentiment    POSITIVE  NEGATIVE\n",
      "Trading_Day                    \n",
      "2025-02-10          8         2\n",
      "2025-02-11          4         1\n",
      "2025-02-12          3         1\n",
      "2025-02-13          1         1\n",
      "2025-02-14          3         1\n",
      "2025-02-16          1         0\n",
      "2025-02-17          2         0\n",
      "2025-02-18          0         1\n",
      "2025-02-19          5         1\n",
      "Final result_df\n",
      "sentiment Trading_Day  POSITIVE  NEGATIVE  7day_avg_positive  \\\n",
      "0          2025-02-10         8         2                8.0   \n",
      "1          2025-02-11         4         1               12.0   \n",
      "2          2025-02-12         3         1               15.0   \n",
      "3          2025-02-13         1         1               16.0   \n",
      "4          2025-02-14         3         1               19.0   \n",
      "5          2025-02-17         2         0               13.0   \n",
      "6          2025-02-18         0         1                9.0   \n",
      "7          2025-02-19         5         1               11.0   \n",
      "\n",
      "sentiment  7day_avg_negative  7day_pct_positive  \n",
      "0                        2.0           0.800000  \n",
      "1                        3.0           0.800000  \n",
      "2                        4.0           0.789474  \n",
      "3                        5.0           0.761905  \n",
      "4                        6.0           0.760000  \n",
      "5                        4.0           0.777778  \n",
      "6                        4.0           0.750000  \n",
      "7                        4.0           0.764706  \n"
     ]
    }
   ],
   "source": [
    "result_df = process_sentiment_data(news_df)"
   ]
  },
  {
   "cell_type": "code",
   "execution_count": 250,
   "metadata": {},
   "outputs": [
    {
     "data": {
      "text/html": [
       "<div>\n",
       "<style scoped>\n",
       "    .dataframe tbody tr th:only-of-type {\n",
       "        vertical-align: middle;\n",
       "    }\n",
       "\n",
       "    .dataframe tbody tr th {\n",
       "        vertical-align: top;\n",
       "    }\n",
       "\n",
       "    .dataframe thead th {\n",
       "        text-align: right;\n",
       "    }\n",
       "</style>\n",
       "<table border=\"1\" class=\"dataframe\">\n",
       "  <thead>\n",
       "    <tr style=\"text-align: right;\">\n",
       "      <th>sentiment</th>\n",
       "      <th>Trading_Day</th>\n",
       "      <th>POSITIVE</th>\n",
       "      <th>NEGATIVE</th>\n",
       "      <th>7day_avg_positive</th>\n",
       "      <th>7day_avg_negative</th>\n",
       "      <th>7day_pct_positive</th>\n",
       "    </tr>\n",
       "  </thead>\n",
       "  <tbody>\n",
       "    <tr>\n",
       "      <th>0</th>\n",
       "      <td>2025-02-10</td>\n",
       "      <td>8</td>\n",
       "      <td>2</td>\n",
       "      <td>8.0</td>\n",
       "      <td>2.0</td>\n",
       "      <td>0.800000</td>\n",
       "    </tr>\n",
       "    <tr>\n",
       "      <th>1</th>\n",
       "      <td>2025-02-11</td>\n",
       "      <td>4</td>\n",
       "      <td>1</td>\n",
       "      <td>12.0</td>\n",
       "      <td>3.0</td>\n",
       "      <td>0.800000</td>\n",
       "    </tr>\n",
       "    <tr>\n",
       "      <th>2</th>\n",
       "      <td>2025-02-12</td>\n",
       "      <td>3</td>\n",
       "      <td>1</td>\n",
       "      <td>15.0</td>\n",
       "      <td>4.0</td>\n",
       "      <td>0.789474</td>\n",
       "    </tr>\n",
       "    <tr>\n",
       "      <th>3</th>\n",
       "      <td>2025-02-13</td>\n",
       "      <td>1</td>\n",
       "      <td>1</td>\n",
       "      <td>16.0</td>\n",
       "      <td>5.0</td>\n",
       "      <td>0.761905</td>\n",
       "    </tr>\n",
       "    <tr>\n",
       "      <th>4</th>\n",
       "      <td>2025-02-14</td>\n",
       "      <td>3</td>\n",
       "      <td>1</td>\n",
       "      <td>19.0</td>\n",
       "      <td>6.0</td>\n",
       "      <td>0.760000</td>\n",
       "    </tr>\n",
       "    <tr>\n",
       "      <th>5</th>\n",
       "      <td>2025-02-17</td>\n",
       "      <td>2</td>\n",
       "      <td>0</td>\n",
       "      <td>13.0</td>\n",
       "      <td>4.0</td>\n",
       "      <td>0.777778</td>\n",
       "    </tr>\n",
       "    <tr>\n",
       "      <th>6</th>\n",
       "      <td>2025-02-18</td>\n",
       "      <td>0</td>\n",
       "      <td>1</td>\n",
       "      <td>9.0</td>\n",
       "      <td>4.0</td>\n",
       "      <td>0.750000</td>\n",
       "    </tr>\n",
       "    <tr>\n",
       "      <th>7</th>\n",
       "      <td>2025-02-19</td>\n",
       "      <td>5</td>\n",
       "      <td>1</td>\n",
       "      <td>11.0</td>\n",
       "      <td>4.0</td>\n",
       "      <td>0.764706</td>\n",
       "    </tr>\n",
       "  </tbody>\n",
       "</table>\n",
       "</div>"
      ],
      "text/plain": [
       "sentiment Trading_Day  POSITIVE  NEGATIVE  7day_avg_positive  \\\n",
       "0          2025-02-10         8         2                8.0   \n",
       "1          2025-02-11         4         1               12.0   \n",
       "2          2025-02-12         3         1               15.0   \n",
       "3          2025-02-13         1         1               16.0   \n",
       "4          2025-02-14         3         1               19.0   \n",
       "5          2025-02-17         2         0               13.0   \n",
       "6          2025-02-18         0         1                9.0   \n",
       "7          2025-02-19         5         1               11.0   \n",
       "\n",
       "sentiment  7day_avg_negative  7day_pct_positive  \n",
       "0                        2.0           0.800000  \n",
       "1                        3.0           0.800000  \n",
       "2                        4.0           0.789474  \n",
       "3                        5.0           0.761905  \n",
       "4                        6.0           0.760000  \n",
       "5                        4.0           0.777778  \n",
       "6                        4.0           0.750000  \n",
       "7                        4.0           0.764706  "
      ]
     },
     "execution_count": 250,
     "metadata": {},
     "output_type": "execute_result"
    }
   ],
   "source": [
    "result_df"
   ]
  },
  {
   "cell_type": "code",
   "execution_count": 251,
   "metadata": {},
   "outputs": [
    {
     "data": {
      "text/html": [
       "<div>\n",
       "<style scoped>\n",
       "    .dataframe tbody tr th:only-of-type {\n",
       "        vertical-align: middle;\n",
       "    }\n",
       "\n",
       "    .dataframe tbody tr th {\n",
       "        vertical-align: top;\n",
       "    }\n",
       "\n",
       "    .dataframe thead th {\n",
       "        text-align: right;\n",
       "    }\n",
       "</style>\n",
       "<table border=\"1\" class=\"dataframe\">\n",
       "  <thead>\n",
       "    <tr style=\"text-align: right;\">\n",
       "      <th>sentiment</th>\n",
       "      <th>Trading_Day</th>\n",
       "      <th>POSITIVE</th>\n",
       "      <th>NEGATIVE</th>\n",
       "      <th>7day_avg_positive</th>\n",
       "      <th>7day_avg_negative</th>\n",
       "      <th>7day_pct_positive</th>\n",
       "    </tr>\n",
       "  </thead>\n",
       "  <tbody>\n",
       "    <tr>\n",
       "      <th>0</th>\n",
       "      <td>2025-02-10</td>\n",
       "      <td>8</td>\n",
       "      <td>2</td>\n",
       "      <td>8.0</td>\n",
       "      <td>2.0</td>\n",
       "      <td>0.800000</td>\n",
       "    </tr>\n",
       "    <tr>\n",
       "      <th>1</th>\n",
       "      <td>2025-02-11</td>\n",
       "      <td>4</td>\n",
       "      <td>1</td>\n",
       "      <td>12.0</td>\n",
       "      <td>3.0</td>\n",
       "      <td>0.800000</td>\n",
       "    </tr>\n",
       "    <tr>\n",
       "      <th>2</th>\n",
       "      <td>2025-02-12</td>\n",
       "      <td>3</td>\n",
       "      <td>1</td>\n",
       "      <td>15.0</td>\n",
       "      <td>4.0</td>\n",
       "      <td>0.789474</td>\n",
       "    </tr>\n",
       "    <tr>\n",
       "      <th>3</th>\n",
       "      <td>2025-02-13</td>\n",
       "      <td>1</td>\n",
       "      <td>1</td>\n",
       "      <td>16.0</td>\n",
       "      <td>5.0</td>\n",
       "      <td>0.761905</td>\n",
       "    </tr>\n",
       "    <tr>\n",
       "      <th>4</th>\n",
       "      <td>2025-02-14</td>\n",
       "      <td>3</td>\n",
       "      <td>1</td>\n",
       "      <td>19.0</td>\n",
       "      <td>6.0</td>\n",
       "      <td>0.760000</td>\n",
       "    </tr>\n",
       "    <tr>\n",
       "      <th>5</th>\n",
       "      <td>2025-02-17</td>\n",
       "      <td>2</td>\n",
       "      <td>0</td>\n",
       "      <td>13.0</td>\n",
       "      <td>4.0</td>\n",
       "      <td>0.777778</td>\n",
       "    </tr>\n",
       "    <tr>\n",
       "      <th>6</th>\n",
       "      <td>2025-02-18</td>\n",
       "      <td>0</td>\n",
       "      <td>1</td>\n",
       "      <td>9.0</td>\n",
       "      <td>4.0</td>\n",
       "      <td>0.750000</td>\n",
       "    </tr>\n",
       "    <tr>\n",
       "      <th>7</th>\n",
       "      <td>2025-02-19</td>\n",
       "      <td>5</td>\n",
       "      <td>1</td>\n",
       "      <td>11.0</td>\n",
       "      <td>4.0</td>\n",
       "      <td>0.764706</td>\n",
       "    </tr>\n",
       "  </tbody>\n",
       "</table>\n",
       "</div>"
      ],
      "text/plain": [
       "sentiment Trading_Day  POSITIVE  NEGATIVE  7day_avg_positive  \\\n",
       "0          2025-02-10         8         2                8.0   \n",
       "1          2025-02-11         4         1               12.0   \n",
       "2          2025-02-12         3         1               15.0   \n",
       "3          2025-02-13         1         1               16.0   \n",
       "4          2025-02-14         3         1               19.0   \n",
       "5          2025-02-17         2         0               13.0   \n",
       "6          2025-02-18         0         1                9.0   \n",
       "7          2025-02-19         5         1               11.0   \n",
       "\n",
       "sentiment  7day_avg_negative  7day_pct_positive  \n",
       "0                        2.0           0.800000  \n",
       "1                        3.0           0.800000  \n",
       "2                        4.0           0.789474  \n",
       "3                        5.0           0.761905  \n",
       "4                        6.0           0.760000  \n",
       "5                        4.0           0.777778  \n",
       "6                        4.0           0.750000  \n",
       "7                        4.0           0.764706  "
      ]
     },
     "execution_count": 251,
     "metadata": {},
     "output_type": "execute_result"
    }
   ],
   "source": [
    "result_df"
   ]
  },
  {
   "cell_type": "markdown",
   "metadata": {},
   "source": [
    "We combine the news with the stock data"
   ]
  },
  {
   "cell_type": "code",
   "execution_count": 252,
   "metadata": {},
   "outputs": [
    {
     "data": {
      "text/html": [
       "<div>\n",
       "<style scoped>\n",
       "    .dataframe tbody tr th:only-of-type {\n",
       "        vertical-align: middle;\n",
       "    }\n",
       "\n",
       "    .dataframe tbody tr th {\n",
       "        vertical-align: top;\n",
       "    }\n",
       "\n",
       "    .dataframe thead th {\n",
       "        text-align: right;\n",
       "    }\n",
       "</style>\n",
       "<table border=\"1\" class=\"dataframe\">\n",
       "  <thead>\n",
       "    <tr style=\"text-align: right;\">\n",
       "      <th></th>\n",
       "      <th>Close</th>\n",
       "      <th>High</th>\n",
       "      <th>Low</th>\n",
       "      <th>Open</th>\n",
       "      <th>Volume</th>\n",
       "      <th>Pct_Change</th>\n",
       "    </tr>\n",
       "  </thead>\n",
       "  <tbody>\n",
       "    <tr>\n",
       "      <th>2025-02-10</th>\n",
       "      <td>110.848366</td>\n",
       "      <td>111.972271</td>\n",
       "      <td>110.400798</td>\n",
       "      <td>111.972271</td>\n",
       "      <td>8348400.0</td>\n",
       "      <td>NaN</td>\n",
       "    </tr>\n",
       "    <tr>\n",
       "      <th>2025-02-11</th>\n",
       "      <td>110.430634</td>\n",
       "      <td>111.474968</td>\n",
       "      <td>110.012903</td>\n",
       "      <td>110.281442</td>\n",
       "      <td>4683100.0</td>\n",
       "      <td>-0.376850</td>\n",
       "    </tr>\n",
       "    <tr>\n",
       "      <th>2025-02-12</th>\n",
       "      <td>112.429787</td>\n",
       "      <td>112.578978</td>\n",
       "      <td>109.804039</td>\n",
       "      <td>109.963171</td>\n",
       "      <td>7269400.0</td>\n",
       "      <td>1.810325</td>\n",
       "    </tr>\n",
       "    <tr>\n",
       "      <th>2025-02-13</th>\n",
       "      <td>112.389999</td>\n",
       "      <td>112.787842</td>\n",
       "      <td>110.927934</td>\n",
       "      <td>112.509354</td>\n",
       "      <td>10046300.0</td>\n",
       "      <td>-0.035389</td>\n",
       "    </tr>\n",
       "    <tr>\n",
       "      <th>2025-02-14</th>\n",
       "      <td>112.550003</td>\n",
       "      <td>113.470001</td>\n",
       "      <td>112.029999</td>\n",
       "      <td>112.820000</td>\n",
       "      <td>9115000.0</td>\n",
       "      <td>0.142365</td>\n",
       "    </tr>\n",
       "    <tr>\n",
       "      <th>2025-02-15</th>\n",
       "      <td>NaN</td>\n",
       "      <td>NaN</td>\n",
       "      <td>NaN</td>\n",
       "      <td>NaN</td>\n",
       "      <td>NaN</td>\n",
       "      <td>NaN</td>\n",
       "    </tr>\n",
       "    <tr>\n",
       "      <th>2025-02-16</th>\n",
       "      <td>NaN</td>\n",
       "      <td>NaN</td>\n",
       "      <td>NaN</td>\n",
       "      <td>NaN</td>\n",
       "      <td>NaN</td>\n",
       "      <td>NaN</td>\n",
       "    </tr>\n",
       "    <tr>\n",
       "      <th>2025-02-17</th>\n",
       "      <td>NaN</td>\n",
       "      <td>NaN</td>\n",
       "      <td>NaN</td>\n",
       "      <td>NaN</td>\n",
       "      <td>NaN</td>\n",
       "      <td>NaN</td>\n",
       "    </tr>\n",
       "    <tr>\n",
       "      <th>2025-02-18</th>\n",
       "      <td>113.029999</td>\n",
       "      <td>113.360001</td>\n",
       "      <td>111.620003</td>\n",
       "      <td>111.800003</td>\n",
       "      <td>7574100.0</td>\n",
       "      <td>0.426473</td>\n",
       "    </tr>\n",
       "    <tr>\n",
       "      <th>2025-02-19</th>\n",
       "      <td>112.489998</td>\n",
       "      <td>113.339996</td>\n",
       "      <td>112.339996</td>\n",
       "      <td>112.440002</td>\n",
       "      <td>8268900.0</td>\n",
       "      <td>-0.477750</td>\n",
       "    </tr>\n",
       "  </tbody>\n",
       "</table>\n",
       "</div>"
      ],
      "text/plain": [
       "                 Close        High         Low        Open      Volume  \\\n",
       "2025-02-10  110.848366  111.972271  110.400798  111.972271   8348400.0   \n",
       "2025-02-11  110.430634  111.474968  110.012903  110.281442   4683100.0   \n",
       "2025-02-12  112.429787  112.578978  109.804039  109.963171   7269400.0   \n",
       "2025-02-13  112.389999  112.787842  110.927934  112.509354  10046300.0   \n",
       "2025-02-14  112.550003  113.470001  112.029999  112.820000   9115000.0   \n",
       "2025-02-15         NaN         NaN         NaN         NaN         NaN   \n",
       "2025-02-16         NaN         NaN         NaN         NaN         NaN   \n",
       "2025-02-17         NaN         NaN         NaN         NaN         NaN   \n",
       "2025-02-18  113.029999  113.360001  111.620003  111.800003   7574100.0   \n",
       "2025-02-19  112.489998  113.339996  112.339996  112.440002   8268900.0   \n",
       "\n",
       "            Pct_Change  \n",
       "2025-02-10         NaN  \n",
       "2025-02-11   -0.376850  \n",
       "2025-02-12    1.810325  \n",
       "2025-02-13   -0.035389  \n",
       "2025-02-14    0.142365  \n",
       "2025-02-15         NaN  \n",
       "2025-02-16         NaN  \n",
       "2025-02-17         NaN  \n",
       "2025-02-18    0.426473  \n",
       "2025-02-19   -0.477750  "
      ]
     },
     "execution_count": 252,
     "metadata": {},
     "output_type": "execute_result"
    }
   ],
   "source": [
    "stock_data"
   ]
  },
  {
   "cell_type": "code",
   "execution_count": 253,
   "metadata": {},
   "outputs": [
    {
     "data": {
      "text/html": [
       "<div>\n",
       "<style scoped>\n",
       "    .dataframe tbody tr th:only-of-type {\n",
       "        vertical-align: middle;\n",
       "    }\n",
       "\n",
       "    .dataframe tbody tr th {\n",
       "        vertical-align: top;\n",
       "    }\n",
       "\n",
       "    .dataframe thead th {\n",
       "        text-align: right;\n",
       "    }\n",
       "</style>\n",
       "<table border=\"1\" class=\"dataframe\">\n",
       "  <thead>\n",
       "    <tr style=\"text-align: right;\">\n",
       "      <th>sentiment</th>\n",
       "      <th>Trading_Day</th>\n",
       "      <th>POSITIVE</th>\n",
       "      <th>NEGATIVE</th>\n",
       "      <th>7day_avg_positive</th>\n",
       "      <th>7day_avg_negative</th>\n",
       "      <th>7day_pct_positive</th>\n",
       "    </tr>\n",
       "  </thead>\n",
       "  <tbody>\n",
       "    <tr>\n",
       "      <th>0</th>\n",
       "      <td>2025-02-10</td>\n",
       "      <td>8</td>\n",
       "      <td>2</td>\n",
       "      <td>8.0</td>\n",
       "      <td>2.0</td>\n",
       "      <td>0.800000</td>\n",
       "    </tr>\n",
       "    <tr>\n",
       "      <th>1</th>\n",
       "      <td>2025-02-11</td>\n",
       "      <td>4</td>\n",
       "      <td>1</td>\n",
       "      <td>12.0</td>\n",
       "      <td>3.0</td>\n",
       "      <td>0.800000</td>\n",
       "    </tr>\n",
       "    <tr>\n",
       "      <th>2</th>\n",
       "      <td>2025-02-12</td>\n",
       "      <td>3</td>\n",
       "      <td>1</td>\n",
       "      <td>15.0</td>\n",
       "      <td>4.0</td>\n",
       "      <td>0.789474</td>\n",
       "    </tr>\n",
       "    <tr>\n",
       "      <th>3</th>\n",
       "      <td>2025-02-13</td>\n",
       "      <td>1</td>\n",
       "      <td>1</td>\n",
       "      <td>16.0</td>\n",
       "      <td>5.0</td>\n",
       "      <td>0.761905</td>\n",
       "    </tr>\n",
       "    <tr>\n",
       "      <th>4</th>\n",
       "      <td>2025-02-14</td>\n",
       "      <td>3</td>\n",
       "      <td>1</td>\n",
       "      <td>19.0</td>\n",
       "      <td>6.0</td>\n",
       "      <td>0.760000</td>\n",
       "    </tr>\n",
       "    <tr>\n",
       "      <th>5</th>\n",
       "      <td>2025-02-17</td>\n",
       "      <td>2</td>\n",
       "      <td>0</td>\n",
       "      <td>13.0</td>\n",
       "      <td>4.0</td>\n",
       "      <td>0.777778</td>\n",
       "    </tr>\n",
       "    <tr>\n",
       "      <th>6</th>\n",
       "      <td>2025-02-18</td>\n",
       "      <td>0</td>\n",
       "      <td>1</td>\n",
       "      <td>9.0</td>\n",
       "      <td>4.0</td>\n",
       "      <td>0.750000</td>\n",
       "    </tr>\n",
       "    <tr>\n",
       "      <th>7</th>\n",
       "      <td>2025-02-19</td>\n",
       "      <td>5</td>\n",
       "      <td>1</td>\n",
       "      <td>11.0</td>\n",
       "      <td>4.0</td>\n",
       "      <td>0.764706</td>\n",
       "    </tr>\n",
       "  </tbody>\n",
       "</table>\n",
       "</div>"
      ],
      "text/plain": [
       "sentiment Trading_Day  POSITIVE  NEGATIVE  7day_avg_positive  \\\n",
       "0          2025-02-10         8         2                8.0   \n",
       "1          2025-02-11         4         1               12.0   \n",
       "2          2025-02-12         3         1               15.0   \n",
       "3          2025-02-13         1         1               16.0   \n",
       "4          2025-02-14         3         1               19.0   \n",
       "5          2025-02-17         2         0               13.0   \n",
       "6          2025-02-18         0         1                9.0   \n",
       "7          2025-02-19         5         1               11.0   \n",
       "\n",
       "sentiment  7day_avg_negative  7day_pct_positive  \n",
       "0                        2.0           0.800000  \n",
       "1                        3.0           0.800000  \n",
       "2                        4.0           0.789474  \n",
       "3                        5.0           0.761905  \n",
       "4                        6.0           0.760000  \n",
       "5                        4.0           0.777778  \n",
       "6                        4.0           0.750000  \n",
       "7                        4.0           0.764706  "
      ]
     },
     "execution_count": 253,
     "metadata": {},
     "output_type": "execute_result"
    }
   ],
   "source": [
    "result_df"
   ]
  },
  {
   "cell_type": "code",
   "execution_count": 254,
   "metadata": {},
   "outputs": [],
   "source": [
    "combined_df = combine_data(result_df, stock_data)"
   ]
  },
  {
   "cell_type": "code",
   "execution_count": 255,
   "metadata": {},
   "outputs": [
    {
     "data": {
      "text/html": [
       "<div>\n",
       "<style scoped>\n",
       "    .dataframe tbody tr th:only-of-type {\n",
       "        vertical-align: middle;\n",
       "    }\n",
       "\n",
       "    .dataframe tbody tr th {\n",
       "        vertical-align: top;\n",
       "    }\n",
       "\n",
       "    .dataframe thead th {\n",
       "        text-align: right;\n",
       "    }\n",
       "</style>\n",
       "<table border=\"1\" class=\"dataframe\">\n",
       "  <thead>\n",
       "    <tr style=\"text-align: right;\">\n",
       "      <th></th>\n",
       "      <th>POSITIVE</th>\n",
       "      <th>NEGATIVE</th>\n",
       "      <th>7day_avg_positive</th>\n",
       "      <th>7day_avg_negative</th>\n",
       "      <th>7day_pct_positive</th>\n",
       "      <th>Pct_Change</th>\n",
       "      <th>lagged_7day_pct_positive</th>\n",
       "    </tr>\n",
       "  </thead>\n",
       "  <tbody>\n",
       "    <tr>\n",
       "      <th>2025-02-10</th>\n",
       "      <td>8</td>\n",
       "      <td>2</td>\n",
       "      <td>8.0</td>\n",
       "      <td>2.0</td>\n",
       "      <td>0.800000</td>\n",
       "      <td>NaN</td>\n",
       "      <td>NaN</td>\n",
       "    </tr>\n",
       "    <tr>\n",
       "      <th>2025-02-11</th>\n",
       "      <td>4</td>\n",
       "      <td>1</td>\n",
       "      <td>12.0</td>\n",
       "      <td>3.0</td>\n",
       "      <td>0.800000</td>\n",
       "      <td>-0.376850</td>\n",
       "      <td>0.800000</td>\n",
       "    </tr>\n",
       "    <tr>\n",
       "      <th>2025-02-12</th>\n",
       "      <td>3</td>\n",
       "      <td>1</td>\n",
       "      <td>15.0</td>\n",
       "      <td>4.0</td>\n",
       "      <td>0.789474</td>\n",
       "      <td>1.810325</td>\n",
       "      <td>0.800000</td>\n",
       "    </tr>\n",
       "    <tr>\n",
       "      <th>2025-02-13</th>\n",
       "      <td>1</td>\n",
       "      <td>1</td>\n",
       "      <td>16.0</td>\n",
       "      <td>5.0</td>\n",
       "      <td>0.761905</td>\n",
       "      <td>-0.035389</td>\n",
       "      <td>0.789474</td>\n",
       "    </tr>\n",
       "    <tr>\n",
       "      <th>2025-02-14</th>\n",
       "      <td>3</td>\n",
       "      <td>1</td>\n",
       "      <td>19.0</td>\n",
       "      <td>6.0</td>\n",
       "      <td>0.760000</td>\n",
       "      <td>0.142365</td>\n",
       "      <td>0.761905</td>\n",
       "    </tr>\n",
       "    <tr>\n",
       "      <th>2025-02-17</th>\n",
       "      <td>2</td>\n",
       "      <td>0</td>\n",
       "      <td>13.0</td>\n",
       "      <td>4.0</td>\n",
       "      <td>0.777778</td>\n",
       "      <td>NaN</td>\n",
       "      <td>0.760000</td>\n",
       "    </tr>\n",
       "    <tr>\n",
       "      <th>2025-02-18</th>\n",
       "      <td>0</td>\n",
       "      <td>1</td>\n",
       "      <td>9.0</td>\n",
       "      <td>4.0</td>\n",
       "      <td>0.750000</td>\n",
       "      <td>0.426473</td>\n",
       "      <td>0.777778</td>\n",
       "    </tr>\n",
       "    <tr>\n",
       "      <th>2025-02-19</th>\n",
       "      <td>5</td>\n",
       "      <td>1</td>\n",
       "      <td>11.0</td>\n",
       "      <td>4.0</td>\n",
       "      <td>0.764706</td>\n",
       "      <td>-0.477750</td>\n",
       "      <td>0.750000</td>\n",
       "    </tr>\n",
       "  </tbody>\n",
       "</table>\n",
       "</div>"
      ],
      "text/plain": [
       "            POSITIVE  NEGATIVE  7day_avg_positive  7day_avg_negative  \\\n",
       "2025-02-10         8         2                8.0                2.0   \n",
       "2025-02-11         4         1               12.0                3.0   \n",
       "2025-02-12         3         1               15.0                4.0   \n",
       "2025-02-13         1         1               16.0                5.0   \n",
       "2025-02-14         3         1               19.0                6.0   \n",
       "2025-02-17         2         0               13.0                4.0   \n",
       "2025-02-18         0         1                9.0                4.0   \n",
       "2025-02-19         5         1               11.0                4.0   \n",
       "\n",
       "            7day_pct_positive  Pct_Change  lagged_7day_pct_positive  \n",
       "2025-02-10           0.800000         NaN                       NaN  \n",
       "2025-02-11           0.800000   -0.376850                  0.800000  \n",
       "2025-02-12           0.789474    1.810325                  0.800000  \n",
       "2025-02-13           0.761905   -0.035389                  0.789474  \n",
       "2025-02-14           0.760000    0.142365                  0.761905  \n",
       "2025-02-17           0.777778         NaN                  0.760000  \n",
       "2025-02-18           0.750000    0.426473                  0.777778  \n",
       "2025-02-19           0.764706   -0.477750                  0.750000  "
      ]
     },
     "execution_count": 255,
     "metadata": {},
     "output_type": "execute_result"
    }
   ],
   "source": [
    "combined_df"
   ]
  },
  {
   "cell_type": "markdown",
   "metadata": {},
   "source": [
    "Correlation calculation"
   ]
  },
  {
   "cell_type": "code",
   "execution_count": 256,
   "metadata": {},
   "outputs": [],
   "source": [
    "correlation_pct_change = calculate_correlation(combined_df)"
   ]
  },
  {
   "cell_type": "code",
   "execution_count": 257,
   "metadata": {},
   "outputs": [
    {
     "data": {
      "text/plain": [
       "np.float64(0.4578510228122745)"
      ]
     },
     "execution_count": 257,
     "metadata": {},
     "output_type": "execute_result"
    }
   ],
   "source": [
    "correlation_pct_change"
   ]
  },
  {
   "cell_type": "code",
   "execution_count": 258,
   "metadata": {},
   "outputs": [
    {
     "name": "stdout",
     "output_type": "stream",
     "text": [
      "Pearson correlation between lagged sentiment score and stock percentage change: 0.4578510228122745\n"
     ]
    }
   ],
   "source": [
    "print(f\"Pearson correlation between lagged sentiment score and stock percentage change: {correlation_pct_change}\")"
   ]
  },
  {
   "cell_type": "code",
   "execution_count": 262,
   "metadata": {},
   "outputs": [
    {
     "name": "stdout",
     "output_type": "stream",
     "text": [
      "A predecir\n",
      "GOING FOR THE ARIMAX MODEL\n",
      "get future dates\n"
     ]
    },
    {
     "name": "stderr",
     "output_type": "stream",
     "text": [
      "c:\\Users\\jaime\\AppData\\Local\\pypoetry\\Cache\\virtualenvs\\b402-bLnqn39v-py3.11\\Lib\\site-packages\\statsmodels\\tsa\\base\\tsa_model.py:473: ValueWarning:\n",
      "\n",
      "A date index has been provided, but it has no associated frequency information and so will be ignored when e.g. forecasting.\n",
      "\n",
      "c:\\Users\\jaime\\AppData\\Local\\pypoetry\\Cache\\virtualenvs\\b402-bLnqn39v-py3.11\\Lib\\site-packages\\statsmodels\\tsa\\base\\tsa_model.py:473: ValueWarning:\n",
      "\n",
      "A date index has been provided, but it has no associated frequency information and so will be ignored when e.g. forecasting.\n",
      "\n",
      "c:\\Users\\jaime\\AppData\\Local\\pypoetry\\Cache\\virtualenvs\\b402-bLnqn39v-py3.11\\Lib\\site-packages\\statsmodels\\tsa\\statespace\\sarimax.py:978: UserWarning:\n",
      "\n",
      "Non-invertible starting MA parameters found. Using zeros as starting parameters.\n",
      "\n",
      "c:\\Users\\jaime\\AppData\\Local\\pypoetry\\Cache\\virtualenvs\\b402-bLnqn39v-py3.11\\Lib\\site-packages\\statsmodels\\base\\model.py:607: ConvergenceWarning:\n",
      "\n",
      "Maximum Likelihood optimization failed to converge. Check mle_retvals\n",
      "\n",
      "c:\\Users\\jaime\\AppData\\Local\\pypoetry\\Cache\\virtualenvs\\b402-bLnqn39v-py3.11\\Lib\\site-packages\\statsmodels\\tsa\\base\\tsa_model.py:837: ValueWarning:\n",
      "\n",
      "No supported index is available. Prediction results will be given with an integer index beginning at `start`.\n",
      "\n",
      "c:\\Users\\jaime\\AppData\\Local\\pypoetry\\Cache\\virtualenvs\\b402-bLnqn39v-py3.11\\Lib\\site-packages\\statsmodels\\tsa\\base\\tsa_model.py:837: FutureWarning:\n",
      "\n",
      "No supported index is available. In the next version, calling this method in a model without a supported index will result in an exception.\n",
      "\n"
     ]
    }
   ],
   "source": [
    "forecast_mean, forecast_ci, forecast_index = fit_and_forecast(combined_df, get_future_dates_next_day)"
   ]
  },
  {
   "cell_type": "code",
   "execution_count": 263,
   "metadata": {},
   "outputs": [
    {
     "data": {
      "text/html": [
       "<div>\n",
       "<style scoped>\n",
       "    .dataframe tbody tr th:only-of-type {\n",
       "        vertical-align: middle;\n",
       "    }\n",
       "\n",
       "    .dataframe tbody tr th {\n",
       "        vertical-align: top;\n",
       "    }\n",
       "\n",
       "    .dataframe thead th {\n",
       "        text-align: right;\n",
       "    }\n",
       "</style>\n",
       "<table border=\"1\" class=\"dataframe\">\n",
       "  <thead>\n",
       "    <tr style=\"text-align: right;\">\n",
       "      <th></th>\n",
       "      <th>POSITIVE</th>\n",
       "      <th>NEGATIVE</th>\n",
       "      <th>7day_avg_positive</th>\n",
       "      <th>7day_avg_negative</th>\n",
       "      <th>7day_pct_positive</th>\n",
       "      <th>Pct_Change</th>\n",
       "      <th>lagged_7day_pct_positive</th>\n",
       "    </tr>\n",
       "  </thead>\n",
       "  <tbody>\n",
       "    <tr>\n",
       "      <th>2025-02-10</th>\n",
       "      <td>8</td>\n",
       "      <td>2</td>\n",
       "      <td>8.0</td>\n",
       "      <td>2.0</td>\n",
       "      <td>0.800000</td>\n",
       "      <td>NaN</td>\n",
       "      <td>NaN</td>\n",
       "    </tr>\n",
       "    <tr>\n",
       "      <th>2025-02-11</th>\n",
       "      <td>4</td>\n",
       "      <td>1</td>\n",
       "      <td>12.0</td>\n",
       "      <td>3.0</td>\n",
       "      <td>0.800000</td>\n",
       "      <td>-0.376850</td>\n",
       "      <td>0.800000</td>\n",
       "    </tr>\n",
       "    <tr>\n",
       "      <th>2025-02-12</th>\n",
       "      <td>3</td>\n",
       "      <td>1</td>\n",
       "      <td>15.0</td>\n",
       "      <td>4.0</td>\n",
       "      <td>0.789474</td>\n",
       "      <td>1.810325</td>\n",
       "      <td>0.800000</td>\n",
       "    </tr>\n",
       "    <tr>\n",
       "      <th>2025-02-13</th>\n",
       "      <td>1</td>\n",
       "      <td>1</td>\n",
       "      <td>16.0</td>\n",
       "      <td>5.0</td>\n",
       "      <td>0.761905</td>\n",
       "      <td>-0.035389</td>\n",
       "      <td>0.789474</td>\n",
       "    </tr>\n",
       "    <tr>\n",
       "      <th>2025-02-14</th>\n",
       "      <td>3</td>\n",
       "      <td>1</td>\n",
       "      <td>19.0</td>\n",
       "      <td>6.0</td>\n",
       "      <td>0.760000</td>\n",
       "      <td>0.142365</td>\n",
       "      <td>0.761905</td>\n",
       "    </tr>\n",
       "    <tr>\n",
       "      <th>2025-02-17</th>\n",
       "      <td>2</td>\n",
       "      <td>0</td>\n",
       "      <td>13.0</td>\n",
       "      <td>4.0</td>\n",
       "      <td>0.777778</td>\n",
       "      <td>NaN</td>\n",
       "      <td>0.760000</td>\n",
       "    </tr>\n",
       "    <tr>\n",
       "      <th>2025-02-18</th>\n",
       "      <td>0</td>\n",
       "      <td>1</td>\n",
       "      <td>9.0</td>\n",
       "      <td>4.0</td>\n",
       "      <td>0.750000</td>\n",
       "      <td>0.426473</td>\n",
       "      <td>0.777778</td>\n",
       "    </tr>\n",
       "    <tr>\n",
       "      <th>2025-02-19</th>\n",
       "      <td>5</td>\n",
       "      <td>1</td>\n",
       "      <td>11.0</td>\n",
       "      <td>4.0</td>\n",
       "      <td>0.764706</td>\n",
       "      <td>-0.477750</td>\n",
       "      <td>0.750000</td>\n",
       "    </tr>\n",
       "  </tbody>\n",
       "</table>\n",
       "</div>"
      ],
      "text/plain": [
       "            POSITIVE  NEGATIVE  7day_avg_positive  7day_avg_negative  \\\n",
       "2025-02-10         8         2                8.0                2.0   \n",
       "2025-02-11         4         1               12.0                3.0   \n",
       "2025-02-12         3         1               15.0                4.0   \n",
       "2025-02-13         1         1               16.0                5.0   \n",
       "2025-02-14         3         1               19.0                6.0   \n",
       "2025-02-17         2         0               13.0                4.0   \n",
       "2025-02-18         0         1                9.0                4.0   \n",
       "2025-02-19         5         1               11.0                4.0   \n",
       "\n",
       "            7day_pct_positive  Pct_Change  lagged_7day_pct_positive  \n",
       "2025-02-10           0.800000         NaN                       NaN  \n",
       "2025-02-11           0.800000   -0.376850                  0.800000  \n",
       "2025-02-12           0.789474    1.810325                  0.800000  \n",
       "2025-02-13           0.761905   -0.035389                  0.789474  \n",
       "2025-02-14           0.760000    0.142365                  0.761905  \n",
       "2025-02-17           0.777778         NaN                  0.760000  \n",
       "2025-02-18           0.750000    0.426473                  0.777778  \n",
       "2025-02-19           0.764706   -0.477750                  0.750000  "
      ]
     },
     "execution_count": 263,
     "metadata": {},
     "output_type": "execute_result"
    }
   ],
   "source": [
    "combined_df"
   ]
  },
  {
   "cell_type": "markdown",
   "metadata": {},
   "source": [
    "We join the prediction with the data"
   ]
  },
  {
   "cell_type": "code",
   "execution_count": 286,
   "metadata": {},
   "outputs": [
    {
     "name": "stdout",
     "output_type": "stream",
     "text": [
      "[Timestamp('2025-02-20 00:00:00'), Timestamp('2025-02-21 00:00:00'), Timestamp('2025-02-24 00:00:00')]\n"
     ]
    },
    {
     "data": {
      "text/plain": [
       "6   -0.180701\n",
       "7   -0.449917\n",
       "8   -0.205926\n",
       "Name: predicted_mean, dtype: float64"
      ]
     },
     "execution_count": 286,
     "metadata": {},
     "output_type": "execute_result"
    }
   ],
   "source": [
    "print(forecast_index)\n",
    "forecast_mean"
   ]
  },
  {
   "cell_type": "code",
   "execution_count": 289,
   "metadata": {},
   "outputs": [
    {
     "name": "stdout",
     "output_type": "stream",
     "text": [
      "<class 'list'>\n"
     ]
    },
    {
     "data": {
      "text/plain": [
       "pandas.core.series.Series"
      ]
     },
     "execution_count": 289,
     "metadata": {},
     "output_type": "execute_result"
    }
   ],
   "source": [
    "print(type(forecast_index))\n",
    "type(forecast_mean)"
   ]
  },
  {
   "cell_type": "code",
   "execution_count": 311,
   "metadata": {},
   "outputs": [
    {
     "data": {
      "text/html": [
       "<div>\n",
       "<style scoped>\n",
       "    .dataframe tbody tr th:only-of-type {\n",
       "        vertical-align: middle;\n",
       "    }\n",
       "\n",
       "    .dataframe tbody tr th {\n",
       "        vertical-align: top;\n",
       "    }\n",
       "\n",
       "    .dataframe thead th {\n",
       "        text-align: right;\n",
       "    }\n",
       "</style>\n",
       "<table border=\"1\" class=\"dataframe\">\n",
       "  <thead>\n",
       "    <tr style=\"text-align: right;\">\n",
       "      <th></th>\n",
       "      <th>POSITIVE</th>\n",
       "      <th>NEGATIVE</th>\n",
       "      <th>7day_avg_positive</th>\n",
       "      <th>7day_avg_negative</th>\n",
       "      <th>7day_pct_positive</th>\n",
       "      <th>Pct_Change</th>\n",
       "      <th>lagged_7day_pct_positive</th>\n",
       "    </tr>\n",
       "  </thead>\n",
       "  <tbody>\n",
       "    <tr>\n",
       "      <th>2025-02-10</th>\n",
       "      <td>8</td>\n",
       "      <td>2</td>\n",
       "      <td>8.0</td>\n",
       "      <td>2.0</td>\n",
       "      <td>0.800000</td>\n",
       "      <td>NaN</td>\n",
       "      <td>NaN</td>\n",
       "    </tr>\n",
       "    <tr>\n",
       "      <th>2025-02-11</th>\n",
       "      <td>4</td>\n",
       "      <td>1</td>\n",
       "      <td>12.0</td>\n",
       "      <td>3.0</td>\n",
       "      <td>0.800000</td>\n",
       "      <td>-0.376850</td>\n",
       "      <td>0.800000</td>\n",
       "    </tr>\n",
       "    <tr>\n",
       "      <th>2025-02-12</th>\n",
       "      <td>3</td>\n",
       "      <td>1</td>\n",
       "      <td>15.0</td>\n",
       "      <td>4.0</td>\n",
       "      <td>0.789474</td>\n",
       "      <td>1.810325</td>\n",
       "      <td>0.800000</td>\n",
       "    </tr>\n",
       "    <tr>\n",
       "      <th>2025-02-13</th>\n",
       "      <td>1</td>\n",
       "      <td>1</td>\n",
       "      <td>16.0</td>\n",
       "      <td>5.0</td>\n",
       "      <td>0.761905</td>\n",
       "      <td>-0.035389</td>\n",
       "      <td>0.789474</td>\n",
       "    </tr>\n",
       "    <tr>\n",
       "      <th>2025-02-14</th>\n",
       "      <td>3</td>\n",
       "      <td>1</td>\n",
       "      <td>19.0</td>\n",
       "      <td>6.0</td>\n",
       "      <td>0.760000</td>\n",
       "      <td>0.142365</td>\n",
       "      <td>0.761905</td>\n",
       "    </tr>\n",
       "    <tr>\n",
       "      <th>2025-02-17</th>\n",
       "      <td>2</td>\n",
       "      <td>0</td>\n",
       "      <td>13.0</td>\n",
       "      <td>4.0</td>\n",
       "      <td>0.777778</td>\n",
       "      <td>NaN</td>\n",
       "      <td>0.760000</td>\n",
       "    </tr>\n",
       "    <tr>\n",
       "      <th>2025-02-18</th>\n",
       "      <td>0</td>\n",
       "      <td>1</td>\n",
       "      <td>9.0</td>\n",
       "      <td>4.0</td>\n",
       "      <td>0.750000</td>\n",
       "      <td>0.426473</td>\n",
       "      <td>0.777778</td>\n",
       "    </tr>\n",
       "    <tr>\n",
       "      <th>2025-02-19</th>\n",
       "      <td>5</td>\n",
       "      <td>1</td>\n",
       "      <td>11.0</td>\n",
       "      <td>4.0</td>\n",
       "      <td>0.764706</td>\n",
       "      <td>-0.477750</td>\n",
       "      <td>0.750000</td>\n",
       "    </tr>\n",
       "  </tbody>\n",
       "</table>\n",
       "</div>"
      ],
      "text/plain": [
       "            POSITIVE  NEGATIVE  7day_avg_positive  7day_avg_negative  \\\n",
       "2025-02-10         8         2                8.0                2.0   \n",
       "2025-02-11         4         1               12.0                3.0   \n",
       "2025-02-12         3         1               15.0                4.0   \n",
       "2025-02-13         1         1               16.0                5.0   \n",
       "2025-02-14         3         1               19.0                6.0   \n",
       "2025-02-17         2         0               13.0                4.0   \n",
       "2025-02-18         0         1                9.0                4.0   \n",
       "2025-02-19         5         1               11.0                4.0   \n",
       "\n",
       "            7day_pct_positive  Pct_Change  lagged_7day_pct_positive  \n",
       "2025-02-10           0.800000         NaN                       NaN  \n",
       "2025-02-11           0.800000   -0.376850                  0.800000  \n",
       "2025-02-12           0.789474    1.810325                  0.800000  \n",
       "2025-02-13           0.761905   -0.035389                  0.789474  \n",
       "2025-02-14           0.760000    0.142365                  0.761905  \n",
       "2025-02-17           0.777778         NaN                  0.760000  \n",
       "2025-02-18           0.750000    0.426473                  0.777778  \n",
       "2025-02-19           0.764706   -0.477750                  0.750000  "
      ]
     },
     "execution_count": 311,
     "metadata": {},
     "output_type": "execute_result"
    }
   ],
   "source": [
    "combined_df"
   ]
  },
  {
   "cell_type": "code",
   "execution_count": 280,
   "metadata": {},
   "outputs": [
    {
     "name": "stdout",
     "output_type": "stream",
     "text": [
      "2025-02-19 00:00:00\n",
      "-0.47775008525103857\n"
     ]
    }
   ],
   "source": [
    "last_real_date = combined_df.dropna(subset=['Pct_Change']).index[-1]\n",
    "last_real_value = combined_df['Pct_Change'].dropna().iloc[-1]\n",
    "print(last_real_date)\n",
    "print(last_real_value)"
   ]
  },
  {
   "cell_type": "code",
   "execution_count": null,
   "metadata": {},
   "outputs": [],
   "source": [
    "\"\"\"\n",
    "forecast_mean_from_start = pd.Series(\n",
    "    [last_real_value] + forecast_mean,\n",
    "    index=[last_real_date] + forecast_index\n",
    ")\n",
    "\n",
    "forecast_index_from_start = forecast_mean_from_start.index\n",
    "\n",
    "forecast_mean_from_start = pd.concat([pd.Series([last_real_value], index=[forecast_mean.index[0]-1]), forecast_mean])\n",
    "\n",
    "#Put (0,0) or (-0.5,0.5). We add the last value taht we know with an interval of confidence of (0,0) because we already know the value\n",
    "forecast_ci_from_start = pd.concat([\n",
    "    pd.DataFrame({'lower Pct_Change': [0], 'upper Pct_Change': [0]}, index=[forecast_ci.index[0] - 1]), \n",
    "    forecast_ci\n",
    "])\n",
    "\n",
    "pct_change_mean = combined_df['Pct_Change'].mean()\n",
    "pct_change_std = combined_df['Pct_Change'].std()\n",
    "\n",
    "forecast_mean_from_start_std = (forecast_mean_from_start - pct_change_mean) / pct_change_std\n",
    "\n",
    "forecast_ci_from_start_std = pd.DataFrame({\n",
    "    'lower Pct_Change': (forecast_ci_from_start['lower Pct_Change'] - pct_change_mean) / pct_change_std,\n",
    "    'upper Pct_Change': (forecast_ci_from_start['upper Pct_Change'] - pct_change_mean) / pct_change_std\n",
    "}, index=forecast_ci_from_start.index)\n",
    "\"\"\""
   ]
  },
  {
   "cell_type": "markdown",
   "metadata": {},
   "source": [
    "We create the function preprocesing with this"
   ]
  },
  {
   "cell_type": "code",
   "execution_count": null,
   "metadata": {},
   "outputs": [],
   "source": [
    "forecast_mean_from_start = pd.Series(\n",
    "    [last_real_value] + forecast_mean.tolist(),\n",
    "    index=[last_real_date] + forecast_index\n",
    ")\n",
    "\n",
    "forecast_index_from_start = forecast_mean_from_start.index\n",
    "\n",
    "forecast_mean_from_start = pd.concat([\n",
    "    pd.Series([last_real_value], index=[last_real_date]),\n",
    "    forecast_mean\n",
    "])\n",
    "\n",
    "forecast_ci_first_point = pd.DataFrame({\n",
    "    'lower Pct_Change': [last_real_value], \n",
    "    'upper Pct_Change': [last_real_value]\n",
    "}, index=[last_real_date])\n",
    "\n",
    "forecast_ci_from_start = pd.concat([forecast_ci_first_point, forecast_ci])\n",
    "\n",
    "pct_change_mean = combined_df['Pct_Change'].mean()\n",
    "pct_change_std = combined_df['Pct_Change'].std()\n",
    "\n",
    "forecast_mean_from_start_std = (forecast_mean_from_start - pct_change_mean) / pct_change_std\n",
    "\n",
    "forecast_ci_from_start_std = pd.DataFrame({\n",
    "    'lower Pct_Change': (forecast_ci_from_start['lower Pct_Change'] - pct_change_mean) / pct_change_std,\n",
    "    'upper Pct_Change': (forecast_ci_from_start['upper Pct_Change'] - pct_change_mean) / pct_change_std\n",
    "}, index=forecast_ci_from_start.index)\n"
   ]
  },
  {
   "cell_type": "code",
   "execution_count": 458,
   "metadata": {},
   "outputs": [
    {
     "name": "stdout",
     "output_type": "stream",
     "text": [
      "                     lower Pct_Change  upper Pct_Change\n",
      "2025-02-19 00:00:00         -0.477750         -0.477750\n",
      "6                           -0.901450          0.540048\n",
      "7                           -1.338664          0.438831\n",
      "8                           -1.280005          0.868152\n",
      "2025-02-19 00:00:00   -0.477750\n",
      "6                     -0.180701\n",
      "7                     -0.449917\n",
      "8                     -0.205926\n",
      "dtype: float64\n"
     ]
    },
    {
     "data": {
      "text/plain": [
       "DatetimeIndex(['2025-02-19', '2025-02-20', '2025-02-21', '2025-02-24'], dtype='datetime64[ns]', freq=None)"
      ]
     },
     "execution_count": 458,
     "metadata": {},
     "output_type": "execute_result"
    }
   ],
   "source": [
    "print(forecast_ci_from_start)\n",
    "print(forecast_mean_from_start)\n",
    "forecast_index_from_start"
   ]
  },
  {
   "cell_type": "code",
   "execution_count": 459,
   "metadata": {},
   "outputs": [],
   "source": [
    "def create_plot(combined_df, forecast_mean, forecast_ci, forecast_index):\n",
    "\n",
    "\n",
    "    sentiment_std = (combined_df['7day_pct_positive'] - combined_df['7day_pct_positive'].mean()) / combined_df['7day_pct_positive'].std()\n",
    "\n",
    "    fig = go.Figure()\n",
    "\n",
    "    fig.add_trace(go.Scatter(\n",
    "        x=combined_df.index,\n",
    "        y=sentiment_std,\n",
    "        name='Standardized Sentiment Proportion',\n",
    "        line=dict(color='blue'),\n",
    "        mode='lines'\n",
    "    ))\n",
    "\n",
    "    fig.add_trace(go.Scatter(\n",
    "        x=combined_df.index,\n",
    "        y=combined_df['Pct_Change'],\n",
    "        name='Stock Pct Change',\n",
    "        line=dict(color='yellow'),\n",
    "        yaxis='y2',\n",
    "        mode='lines'\n",
    "    ))\n",
    "\n",
    "    fig.add_trace(go.Scatter(\n",
    "        x=forecast_index,\n",
    "        y=forecast_mean,\n",
    "        name='Forecasted Stock Pct Change',\n",
    "        line=dict(color='red'),\n",
    "        mode='lines'\n",
    "    ))\n",
    "\n",
    "    fig.add_trace(go.Scatter(\n",
    "        x=np.concatenate([forecast_index, forecast_index[::-1]]),\n",
    "        y=np.concatenate([forecast_ci.iloc[:, 0], forecast_ci.iloc[:, 1][::-1]]),\n",
    "        fill='toself',\n",
    "        fillcolor='rgba(255,0,0,0.2)',\n",
    "        line=dict(color='rgba(255,255,255,0)'),\n",
    "        hoverinfo=\"skip\",\n",
    "        showlegend=False\n",
    "    ))\n",
    "\n",
    "    fig.update_layout(\n",
    "        title='Sentiment Proportion and Stock Percentage Change with Forecast',\n",
    "        xaxis_title='Date',\n",
    "        yaxis=dict(\n",
    "            title=dict(text='Standardized Sentiment Proportion', font=dict(color='yellow'))\n",
    "        ),\n",
    "        yaxis2=dict(\n",
    "            title=dict(text='Stock Pct Change', font=dict(color='yellow')),\n",
    "            overlaying='y',\n",
    "            side='right'\n",
    "        ),\n",
    "        template='plotly_dark'\n",
    "    )\n",
    "\n",
    "\n",
    "    fig.show()\n"
   ]
  },
  {
   "cell_type": "code",
   "execution_count": 460,
   "metadata": {},
   "outputs": [
    {
     "data": {
      "text/html": [
       "<div>\n",
       "<style scoped>\n",
       "    .dataframe tbody tr th:only-of-type {\n",
       "        vertical-align: middle;\n",
       "    }\n",
       "\n",
       "    .dataframe tbody tr th {\n",
       "        vertical-align: top;\n",
       "    }\n",
       "\n",
       "    .dataframe thead th {\n",
       "        text-align: right;\n",
       "    }\n",
       "</style>\n",
       "<table border=\"1\" class=\"dataframe\">\n",
       "  <thead>\n",
       "    <tr style=\"text-align: right;\">\n",
       "      <th></th>\n",
       "      <th>lower Pct_Change</th>\n",
       "      <th>upper Pct_Change</th>\n",
       "    </tr>\n",
       "  </thead>\n",
       "  <tbody>\n",
       "    <tr>\n",
       "      <th>6</th>\n",
       "      <td>-0.901450</td>\n",
       "      <td>0.540048</td>\n",
       "    </tr>\n",
       "    <tr>\n",
       "      <th>7</th>\n",
       "      <td>-1.338664</td>\n",
       "      <td>0.438831</td>\n",
       "    </tr>\n",
       "    <tr>\n",
       "      <th>8</th>\n",
       "      <td>-1.280005</td>\n",
       "      <td>0.868152</td>\n",
       "    </tr>\n",
       "  </tbody>\n",
       "</table>\n",
       "</div>"
      ],
      "text/plain": [
       "   lower Pct_Change  upper Pct_Change\n",
       "6         -0.901450          0.540048\n",
       "7         -1.338664          0.438831\n",
       "8         -1.280005          0.868152"
      ]
     },
     "execution_count": 460,
     "metadata": {},
     "output_type": "execute_result"
    }
   ],
   "source": [
    "forecast_ci"
   ]
  },
  {
   "cell_type": "markdown",
   "metadata": {},
   "source": [
    "Prueba"
   ]
  },
  {
   "cell_type": "code",
   "execution_count": 475,
   "metadata": {},
   "outputs": [],
   "source": [
    "def create_plot(combined_df, forecast_mean, forecast_ci, forecast_index):\n",
    "\n",
    "\n",
    "    sentiment_std = (combined_df['7day_pct_positive'] - combined_df['7day_pct_positive'].mean()) / combined_df['7day_pct_positive'].std()\n",
    "\n",
    "    pct_change_std = (combined_df['Pct_Change'] - combined_df['Pct_Change'].mean()) / combined_df['Pct_Change'].std()\n",
    "\n",
    "\n",
    "    fig = go.Figure()\n",
    "\n",
    "    fig.add_trace(go.Scatter(\n",
    "        x=combined_df.index,\n",
    "        y=sentiment_std,\n",
    "        name='Standardized Sentiment Proportion',\n",
    "        line=dict(color='blue'),\n",
    "        mode='lines'\n",
    "    ))\n",
    "\n",
    "    fig.add_trace(go.Scatter(\n",
    "        x=combined_df.index,\n",
    "        y=pct_change_std,\n",
    "        name='Stock Pct Change (Standardized)',\n",
    "        line=dict(color='yellow'),\n",
    "        yaxis='y2',\n",
    "        mode='lines+markers'\n",
    "    ))\n",
    "\n",
    "\n",
    "    fig.add_trace(go.Scatter(\n",
    "        x=forecast_index,\n",
    "        y=forecast_mean,\n",
    "        name='Forecasted Stock Pct Change',\n",
    "        line=dict(color='red'),\n",
    "        yaxis='y2',\n",
    "        mode='lines+markers'\n",
    "    ))\n",
    "\n",
    "    fig.add_trace(go.Scatter(\n",
    "        x=np.concatenate([forecast_index, forecast_index[::-1]]),\n",
    "        y=np.concatenate([forecast_ci.iloc[:, 0], forecast_ci.iloc[:, 1][::-1]]),\n",
    "        fill='toself',\n",
    "        fillcolor='rgba(255,0,0,0.2)',\n",
    "        line=dict(color='rgba(255,255,255,0)'),\n",
    "        hoverinfo=\"skip\",\n",
    "        showlegend=False\n",
    "    ))\n",
    "\n",
    "    fig.update_layout(\n",
    "        title='Sentiment Proportion and Stock Percentage Change with Forecast',\n",
    "        xaxis_title='Date',\n",
    "        yaxis=dict(\n",
    "            title=dict(text='Standardized Sentiment Proportion', font=dict(color='yellow'))\n",
    "        ),\n",
    "        yaxis2=dict(\n",
    "            title=dict(text='Stock Pct Change', font=dict(color='yellow')),\n",
    "            overlaying='y',\n",
    "            side='right'\n",
    "        ),\n",
    "        template='plotly_dark'\n",
    "    )\n",
    "\n",
    "\n",
    "    fig.show()\n"
   ]
  },
  {
   "cell_type": "markdown",
   "metadata": {},
   "source": [
    "Prueba"
   ]
  },
  {
   "cell_type": "code",
   "execution_count": 485,
   "metadata": {},
   "outputs": [],
   "source": [
    "def create_plot(combined_df, forecast_mean, forecast_ci, forecast_index):\n",
    "\n",
    "\n",
    "    sentiment_std = (combined_df['7day_pct_positive'] - combined_df['7day_pct_positive'].mean()) / combined_df['7day_pct_positive'].std()\n",
    "\n",
    "    pct_change_std = (combined_df['Pct_Change'] - combined_df['Pct_Change'].mean()) / combined_df['Pct_Change'].std()\n",
    "\n",
    "\n",
    "    fig = go.Figure()\n",
    "\n",
    "    fig.add_trace(go.Scatter(\n",
    "        x=combined_df.index,\n",
    "        y=sentiment_std,\n",
    "        name='Standardized Sentiment Proportion',\n",
    "        line=dict(color='blue'),\n",
    "        mode='lines'\n",
    "    ))\n",
    "\n",
    "    fig.add_trace(go.Scatter(\n",
    "        x=combined_df.index,\n",
    "        y=pct_change_std,\n",
    "        name='Stock Pct Change (Standardized)',\n",
    "        line=dict(color='yellow'),\n",
    "        mode='lines+markers'\n",
    "    ))\n",
    "\n",
    "\n",
    "    fig.add_trace(go.Scatter(\n",
    "        x=forecast_index,\n",
    "        y=forecast_mean,\n",
    "        name='Forecasted Stock Pct Change',\n",
    "        line=dict(color='red'),\n",
    "        mode='lines+markers'\n",
    "    ))\n",
    "\n",
    "    fig.add_trace(go.Scatter(\n",
    "        x=np.concatenate([forecast_index, forecast_index[::-1]]),\n",
    "        y=np.concatenate([forecast_ci.iloc[:, 0], forecast_ci.iloc[:, 1][::-1]]),\n",
    "        fill='toself',\n",
    "        fillcolor='rgba(255,0,0,0.2)',\n",
    "        line=dict(color='rgba(255,255,255,0)'),\n",
    "        hoverinfo=\"skip\",\n",
    "        showlegend=False\n",
    "    ))\n",
    "\n",
    "    fig.update_layout(\n",
    "        title='Sentiment Proportion and Stock Percentage Change with Forecast',\n",
    "        xaxis_title='Date',\n",
    "        yaxis=dict(\n",
    "            title=dict(text='Standardized Sentiment Proportion', font=dict(color='yellow'))\n",
    "        ),\n",
    "        yaxis2=dict(\n",
    "            title=dict(text='Stock Pct Change', font=dict(color='yellow')),\n",
    "            overlaying='y',\n",
    "            side='right'\n",
    "        ),\n",
    "        template='plotly_dark'\n",
    "    )\n",
    "\n",
    "\n",
    "    fig.show()"
   ]
  },
  {
   "cell_type": "markdown",
   "metadata": {},
   "source": [
    "Graficos"
   ]
  },
  {
   "cell_type": "code",
   "execution_count": 477,
   "metadata": {},
   "outputs": [
    {
     "data": {
      "application/vnd.plotly.v1+json": {
       "config": {
        "plotlyServerURL": "https://plot.ly"
       },
       "data": [
        {
         "line": {
          "color": "blue"
         },
         "mode": "lines",
         "name": "Standardized Sentiment Proportion",
         "type": "scatter",
         "x": [
          "2025-02-10T00:00:00.000000000",
          "2025-02-11T00:00:00.000000000",
          "2025-02-12T00:00:00.000000000",
          "2025-02-13T00:00:00.000000000",
          "2025-02-14T00:00:00.000000000",
          "2025-02-17T00:00:00.000000000",
          "2025-02-18T00:00:00.000000000",
          "2025-02-19T00:00:00.000000000"
         ],
         "y": {
          "bdata": "yhyz2Ohh9D/KHLPY6GH0PzDqY6hEQ+c/Z1OuDYKT5r+NjaI9Rr7pv/06J7oGh74/q1+yHGYv9b9ro79dNOvhvw==",
          "dtype": "f8"
         }
        },
        {
         "line": {
          "color": "yellow"
         },
         "mode": "lines+markers",
         "name": "Stock Pct Change (Standardized)",
         "type": "scatter",
         "x": [
          "2025-02-10T00:00:00.000000000",
          "2025-02-11T00:00:00.000000000",
          "2025-02-12T00:00:00.000000000",
          "2025-02-13T00:00:00.000000000",
          "2025-02-14T00:00:00.000000000",
          "2025-02-17T00:00:00.000000000",
          "2025-02-18T00:00:00.000000000",
          "2025-02-19T00:00:00.000000000"
         ],
         "y": {
          "bdata": "AAAAAAAA+H8AESVZaPjnv1r503Ag9P0/I5g53jHA1b+X7PYX/zvAvwAAAAAAAPh/h2/Ti/xYyz9fNl32/tbrvw==",
          "dtype": "f8"
         },
         "yaxis": "y2"
        },
        {
         "line": {
          "color": "red"
         },
         "mode": "lines+markers",
         "name": "Forecasted Stock Pct Change",
         "type": "scatter",
         "x": [
          "2025-02-20T00:00:00",
          "2025-02-21T00:00:00",
          "2025-02-24T00:00:00"
         ],
         "y": {
          "bdata": "AAHfkzQhx7+As73kbsvcv4AIHn7LW8q/",
          "dtype": "f8"
         },
         "yaxis": "y2"
        },
        {
         "fill": "toself",
         "fillcolor": "rgba(255,0,0,0.2)",
         "hoverinfo": "skip",
         "line": {
          "color": "rgba(255,255,255,0)"
         },
         "showlegend": false,
         "type": "scatter",
         "x": [
          "2025-02-20T00:00:00",
          "2025-02-21T00:00:00",
          "2025-02-24T00:00:00",
          "2025-02-24T00:00:00",
          "2025-02-21T00:00:00",
          "2025-02-20T00:00:00"
         ],
         "y": {
          "bdata": "B6Vyr63Y7L+7Rt20Kmv1v5Ti/CrmevS/6MDqlubH6z/ss/kJzRXcP4ckg2UTSOE/",
          "dtype": "f8"
         }
        }
       ],
       "layout": {
        "template": {
         "data": {
          "bar": [
           {
            "error_x": {
             "color": "#f2f5fa"
            },
            "error_y": {
             "color": "#f2f5fa"
            },
            "marker": {
             "line": {
              "color": "rgb(17,17,17)",
              "width": 0.5
             },
             "pattern": {
              "fillmode": "overlay",
              "size": 10,
              "solidity": 0.2
             }
            },
            "type": "bar"
           }
          ],
          "barpolar": [
           {
            "marker": {
             "line": {
              "color": "rgb(17,17,17)",
              "width": 0.5
             },
             "pattern": {
              "fillmode": "overlay",
              "size": 10,
              "solidity": 0.2
             }
            },
            "type": "barpolar"
           }
          ],
          "carpet": [
           {
            "aaxis": {
             "endlinecolor": "#A2B1C6",
             "gridcolor": "#506784",
             "linecolor": "#506784",
             "minorgridcolor": "#506784",
             "startlinecolor": "#A2B1C6"
            },
            "baxis": {
             "endlinecolor": "#A2B1C6",
             "gridcolor": "#506784",
             "linecolor": "#506784",
             "minorgridcolor": "#506784",
             "startlinecolor": "#A2B1C6"
            },
            "type": "carpet"
           }
          ],
          "choropleth": [
           {
            "colorbar": {
             "outlinewidth": 0,
             "ticks": ""
            },
            "type": "choropleth"
           }
          ],
          "contour": [
           {
            "colorbar": {
             "outlinewidth": 0,
             "ticks": ""
            },
            "colorscale": [
             [
              0,
              "#0d0887"
             ],
             [
              0.1111111111111111,
              "#46039f"
             ],
             [
              0.2222222222222222,
              "#7201a8"
             ],
             [
              0.3333333333333333,
              "#9c179e"
             ],
             [
              0.4444444444444444,
              "#bd3786"
             ],
             [
              0.5555555555555556,
              "#d8576b"
             ],
             [
              0.6666666666666666,
              "#ed7953"
             ],
             [
              0.7777777777777778,
              "#fb9f3a"
             ],
             [
              0.8888888888888888,
              "#fdca26"
             ],
             [
              1,
              "#f0f921"
             ]
            ],
            "type": "contour"
           }
          ],
          "contourcarpet": [
           {
            "colorbar": {
             "outlinewidth": 0,
             "ticks": ""
            },
            "type": "contourcarpet"
           }
          ],
          "heatmap": [
           {
            "colorbar": {
             "outlinewidth": 0,
             "ticks": ""
            },
            "colorscale": [
             [
              0,
              "#0d0887"
             ],
             [
              0.1111111111111111,
              "#46039f"
             ],
             [
              0.2222222222222222,
              "#7201a8"
             ],
             [
              0.3333333333333333,
              "#9c179e"
             ],
             [
              0.4444444444444444,
              "#bd3786"
             ],
             [
              0.5555555555555556,
              "#d8576b"
             ],
             [
              0.6666666666666666,
              "#ed7953"
             ],
             [
              0.7777777777777778,
              "#fb9f3a"
             ],
             [
              0.8888888888888888,
              "#fdca26"
             ],
             [
              1,
              "#f0f921"
             ]
            ],
            "type": "heatmap"
           }
          ],
          "histogram": [
           {
            "marker": {
             "pattern": {
              "fillmode": "overlay",
              "size": 10,
              "solidity": 0.2
             }
            },
            "type": "histogram"
           }
          ],
          "histogram2d": [
           {
            "colorbar": {
             "outlinewidth": 0,
             "ticks": ""
            },
            "colorscale": [
             [
              0,
              "#0d0887"
             ],
             [
              0.1111111111111111,
              "#46039f"
             ],
             [
              0.2222222222222222,
              "#7201a8"
             ],
             [
              0.3333333333333333,
              "#9c179e"
             ],
             [
              0.4444444444444444,
              "#bd3786"
             ],
             [
              0.5555555555555556,
              "#d8576b"
             ],
             [
              0.6666666666666666,
              "#ed7953"
             ],
             [
              0.7777777777777778,
              "#fb9f3a"
             ],
             [
              0.8888888888888888,
              "#fdca26"
             ],
             [
              1,
              "#f0f921"
             ]
            ],
            "type": "histogram2d"
           }
          ],
          "histogram2dcontour": [
           {
            "colorbar": {
             "outlinewidth": 0,
             "ticks": ""
            },
            "colorscale": [
             [
              0,
              "#0d0887"
             ],
             [
              0.1111111111111111,
              "#46039f"
             ],
             [
              0.2222222222222222,
              "#7201a8"
             ],
             [
              0.3333333333333333,
              "#9c179e"
             ],
             [
              0.4444444444444444,
              "#bd3786"
             ],
             [
              0.5555555555555556,
              "#d8576b"
             ],
             [
              0.6666666666666666,
              "#ed7953"
             ],
             [
              0.7777777777777778,
              "#fb9f3a"
             ],
             [
              0.8888888888888888,
              "#fdca26"
             ],
             [
              1,
              "#f0f921"
             ]
            ],
            "type": "histogram2dcontour"
           }
          ],
          "mesh3d": [
           {
            "colorbar": {
             "outlinewidth": 0,
             "ticks": ""
            },
            "type": "mesh3d"
           }
          ],
          "parcoords": [
           {
            "line": {
             "colorbar": {
              "outlinewidth": 0,
              "ticks": ""
             }
            },
            "type": "parcoords"
           }
          ],
          "pie": [
           {
            "automargin": true,
            "type": "pie"
           }
          ],
          "scatter": [
           {
            "marker": {
             "line": {
              "color": "#283442"
             }
            },
            "type": "scatter"
           }
          ],
          "scatter3d": [
           {
            "line": {
             "colorbar": {
              "outlinewidth": 0,
              "ticks": ""
             }
            },
            "marker": {
             "colorbar": {
              "outlinewidth": 0,
              "ticks": ""
             }
            },
            "type": "scatter3d"
           }
          ],
          "scattercarpet": [
           {
            "marker": {
             "colorbar": {
              "outlinewidth": 0,
              "ticks": ""
             }
            },
            "type": "scattercarpet"
           }
          ],
          "scattergeo": [
           {
            "marker": {
             "colorbar": {
              "outlinewidth": 0,
              "ticks": ""
             }
            },
            "type": "scattergeo"
           }
          ],
          "scattergl": [
           {
            "marker": {
             "line": {
              "color": "#283442"
             }
            },
            "type": "scattergl"
           }
          ],
          "scattermap": [
           {
            "marker": {
             "colorbar": {
              "outlinewidth": 0,
              "ticks": ""
             }
            },
            "type": "scattermap"
           }
          ],
          "scattermapbox": [
           {
            "marker": {
             "colorbar": {
              "outlinewidth": 0,
              "ticks": ""
             }
            },
            "type": "scattermapbox"
           }
          ],
          "scatterpolar": [
           {
            "marker": {
             "colorbar": {
              "outlinewidth": 0,
              "ticks": ""
             }
            },
            "type": "scatterpolar"
           }
          ],
          "scatterpolargl": [
           {
            "marker": {
             "colorbar": {
              "outlinewidth": 0,
              "ticks": ""
             }
            },
            "type": "scatterpolargl"
           }
          ],
          "scatterternary": [
           {
            "marker": {
             "colorbar": {
              "outlinewidth": 0,
              "ticks": ""
             }
            },
            "type": "scatterternary"
           }
          ],
          "surface": [
           {
            "colorbar": {
             "outlinewidth": 0,
             "ticks": ""
            },
            "colorscale": [
             [
              0,
              "#0d0887"
             ],
             [
              0.1111111111111111,
              "#46039f"
             ],
             [
              0.2222222222222222,
              "#7201a8"
             ],
             [
              0.3333333333333333,
              "#9c179e"
             ],
             [
              0.4444444444444444,
              "#bd3786"
             ],
             [
              0.5555555555555556,
              "#d8576b"
             ],
             [
              0.6666666666666666,
              "#ed7953"
             ],
             [
              0.7777777777777778,
              "#fb9f3a"
             ],
             [
              0.8888888888888888,
              "#fdca26"
             ],
             [
              1,
              "#f0f921"
             ]
            ],
            "type": "surface"
           }
          ],
          "table": [
           {
            "cells": {
             "fill": {
              "color": "#506784"
             },
             "line": {
              "color": "rgb(17,17,17)"
             }
            },
            "header": {
             "fill": {
              "color": "#2a3f5f"
             },
             "line": {
              "color": "rgb(17,17,17)"
             }
            },
            "type": "table"
           }
          ]
         },
         "layout": {
          "annotationdefaults": {
           "arrowcolor": "#f2f5fa",
           "arrowhead": 0,
           "arrowwidth": 1
          },
          "autotypenumbers": "strict",
          "coloraxis": {
           "colorbar": {
            "outlinewidth": 0,
            "ticks": ""
           }
          },
          "colorscale": {
           "diverging": [
            [
             0,
             "#8e0152"
            ],
            [
             0.1,
             "#c51b7d"
            ],
            [
             0.2,
             "#de77ae"
            ],
            [
             0.3,
             "#f1b6da"
            ],
            [
             0.4,
             "#fde0ef"
            ],
            [
             0.5,
             "#f7f7f7"
            ],
            [
             0.6,
             "#e6f5d0"
            ],
            [
             0.7,
             "#b8e186"
            ],
            [
             0.8,
             "#7fbc41"
            ],
            [
             0.9,
             "#4d9221"
            ],
            [
             1,
             "#276419"
            ]
           ],
           "sequential": [
            [
             0,
             "#0d0887"
            ],
            [
             0.1111111111111111,
             "#46039f"
            ],
            [
             0.2222222222222222,
             "#7201a8"
            ],
            [
             0.3333333333333333,
             "#9c179e"
            ],
            [
             0.4444444444444444,
             "#bd3786"
            ],
            [
             0.5555555555555556,
             "#d8576b"
            ],
            [
             0.6666666666666666,
             "#ed7953"
            ],
            [
             0.7777777777777778,
             "#fb9f3a"
            ],
            [
             0.8888888888888888,
             "#fdca26"
            ],
            [
             1,
             "#f0f921"
            ]
           ],
           "sequentialminus": [
            [
             0,
             "#0d0887"
            ],
            [
             0.1111111111111111,
             "#46039f"
            ],
            [
             0.2222222222222222,
             "#7201a8"
            ],
            [
             0.3333333333333333,
             "#9c179e"
            ],
            [
             0.4444444444444444,
             "#bd3786"
            ],
            [
             0.5555555555555556,
             "#d8576b"
            ],
            [
             0.6666666666666666,
             "#ed7953"
            ],
            [
             0.7777777777777778,
             "#fb9f3a"
            ],
            [
             0.8888888888888888,
             "#fdca26"
            ],
            [
             1,
             "#f0f921"
            ]
           ]
          },
          "colorway": [
           "#636efa",
           "#EF553B",
           "#00cc96",
           "#ab63fa",
           "#FFA15A",
           "#19d3f3",
           "#FF6692",
           "#B6E880",
           "#FF97FF",
           "#FECB52"
          ],
          "font": {
           "color": "#f2f5fa"
          },
          "geo": {
           "bgcolor": "rgb(17,17,17)",
           "lakecolor": "rgb(17,17,17)",
           "landcolor": "rgb(17,17,17)",
           "showlakes": true,
           "showland": true,
           "subunitcolor": "#506784"
          },
          "hoverlabel": {
           "align": "left"
          },
          "hovermode": "closest",
          "mapbox": {
           "style": "dark"
          },
          "paper_bgcolor": "rgb(17,17,17)",
          "plot_bgcolor": "rgb(17,17,17)",
          "polar": {
           "angularaxis": {
            "gridcolor": "#506784",
            "linecolor": "#506784",
            "ticks": ""
           },
           "bgcolor": "rgb(17,17,17)",
           "radialaxis": {
            "gridcolor": "#506784",
            "linecolor": "#506784",
            "ticks": ""
           }
          },
          "scene": {
           "xaxis": {
            "backgroundcolor": "rgb(17,17,17)",
            "gridcolor": "#506784",
            "gridwidth": 2,
            "linecolor": "#506784",
            "showbackground": true,
            "ticks": "",
            "zerolinecolor": "#C8D4E3"
           },
           "yaxis": {
            "backgroundcolor": "rgb(17,17,17)",
            "gridcolor": "#506784",
            "gridwidth": 2,
            "linecolor": "#506784",
            "showbackground": true,
            "ticks": "",
            "zerolinecolor": "#C8D4E3"
           },
           "zaxis": {
            "backgroundcolor": "rgb(17,17,17)",
            "gridcolor": "#506784",
            "gridwidth": 2,
            "linecolor": "#506784",
            "showbackground": true,
            "ticks": "",
            "zerolinecolor": "#C8D4E3"
           }
          },
          "shapedefaults": {
           "line": {
            "color": "#f2f5fa"
           }
          },
          "sliderdefaults": {
           "bgcolor": "#C8D4E3",
           "bordercolor": "rgb(17,17,17)",
           "borderwidth": 1,
           "tickwidth": 0
          },
          "ternary": {
           "aaxis": {
            "gridcolor": "#506784",
            "linecolor": "#506784",
            "ticks": ""
           },
           "baxis": {
            "gridcolor": "#506784",
            "linecolor": "#506784",
            "ticks": ""
           },
           "bgcolor": "rgb(17,17,17)",
           "caxis": {
            "gridcolor": "#506784",
            "linecolor": "#506784",
            "ticks": ""
           }
          },
          "title": {
           "x": 0.05
          },
          "updatemenudefaults": {
           "bgcolor": "#506784",
           "borderwidth": 0
          },
          "xaxis": {
           "automargin": true,
           "gridcolor": "#283442",
           "linecolor": "#506784",
           "ticks": "",
           "title": {
            "standoff": 15
           },
           "zerolinecolor": "#283442",
           "zerolinewidth": 2
          },
          "yaxis": {
           "automargin": true,
           "gridcolor": "#283442",
           "linecolor": "#506784",
           "ticks": "",
           "title": {
            "standoff": 15
           },
           "zerolinecolor": "#283442",
           "zerolinewidth": 2
          }
         }
        },
        "title": {
         "text": "Sentiment Proportion and Stock Percentage Change with Forecast"
        },
        "xaxis": {
         "title": {
          "text": "Date"
         }
        },
        "yaxis": {
         "title": {
          "font": {
           "color": "yellow"
          },
          "text": "Standardized Sentiment Proportion"
         }
        },
        "yaxis2": {
         "overlaying": "y",
         "side": "right",
         "title": {
          "font": {
           "color": "yellow"
          },
          "text": "Stock Pct Change"
         }
        }
       }
      }
     },
     "metadata": {},
     "output_type": "display_data"
    }
   ],
   "source": [
    "create_plot(combined_df, forecast_mean, forecast_ci, forecast_index)"
   ]
  },
  {
   "cell_type": "code",
   "execution_count": 494,
   "metadata": {},
   "outputs": [
    {
     "data": {
      "application/vnd.plotly.v1+json": {
       "config": {
        "plotlyServerURL": "https://plot.ly"
       },
       "data": [
        {
         "line": {
          "color": "blue"
         },
         "mode": "lines",
         "name": "Standardized Sentiment Proportion",
         "type": "scatter",
         "x": [
          "2025-02-10T00:00:00",
          "2025-02-11T00:00:00",
          "2025-02-12T00:00:00",
          "2025-02-13T00:00:00",
          "2025-02-14T00:00:00",
          "2025-02-17T00:00:00",
          "2025-02-18T00:00:00",
          "2025-02-19T00:00:00"
         ],
         "y": {
          "bdata": "yhyz2Ohh9D/KHLPY6GH0PzDqY6hEQ+c/Z1OuDYKT5r+NjaI9Rr7pv/06J7oGh74/q1+yHGYv9b9ro79dNOvhvw==",
          "dtype": "f8"
         }
        },
        {
         "line": {
          "color": "yellow"
         },
         "mode": "lines+markers",
         "name": "Stock Pct Change (Standardized)",
         "type": "scatter",
         "x": [
          "2025-02-10T00:00:00",
          "2025-02-11T00:00:00",
          "2025-02-12T00:00:00",
          "2025-02-13T00:00:00",
          "2025-02-14T00:00:00",
          "2025-02-17T00:00:00",
          "2025-02-18T00:00:00",
          "2025-02-19T00:00:00"
         ],
         "y": {
          "bdata": "AAAAAAAA+H8AESVZaPjnv1r503Ag9P0/I5g53jHA1b+X7PYX/zvAvwAAAAAAAPh/h2/Ti/xYyz9fNl32/tbrvw==",
          "dtype": "f8"
         }
        },
        {
         "line": {
          "color": "red"
         },
         "mode": "lines+markers",
         "name": "Forecasted Stock Pct Change",
         "type": "scatter",
         "x": [
          "2025-02-19T00:00:00",
          "2025-02-20T00:00:00",
          "2025-02-21T00:00:00",
          "2025-02-24T00:00:00"
         ],
         "y": {
          "bdata": "XzZd9v7W678+8g6WtHLgv5ZtEVS9xeq/tdLKkFtq4b8=",
          "dtype": "f8"
         }
        },
        {
         "fill": "toself",
         "fillcolor": "rgba(255,0,0,0.2)",
         "hoverinfo": "skip",
         "line": {
          "color": "rgba(255,255,255,0)"
         },
         "showlegend": false,
         "type": "scatter",
         "x": [
          "2025-02-19T00:00:00",
          "2025-02-20T00:00:00",
          "2025-02-21T00:00:00",
          "2025-02-24T00:00:00",
          "2025-02-24T00:00:00",
          "2025-02-21T00:00:00",
          "2025-02-20T00:00:00",
          "2025-02-19T00:00:00"
         ],
         "y": {
          "bdata": "XzZd9v7W67+2a/yCVwv2v7J4QKOFbf6/kbBtAZRN/b+5u0XhcMbnP+hYeHlCPs0/3+W1s4ti1j9fNl32/tbrvw==",
          "dtype": "f8"
         }
        }
       ],
       "layout": {
        "template": {
         "data": {
          "bar": [
           {
            "error_x": {
             "color": "#f2f5fa"
            },
            "error_y": {
             "color": "#f2f5fa"
            },
            "marker": {
             "line": {
              "color": "rgb(17,17,17)",
              "width": 0.5
             },
             "pattern": {
              "fillmode": "overlay",
              "size": 10,
              "solidity": 0.2
             }
            },
            "type": "bar"
           }
          ],
          "barpolar": [
           {
            "marker": {
             "line": {
              "color": "rgb(17,17,17)",
              "width": 0.5
             },
             "pattern": {
              "fillmode": "overlay",
              "size": 10,
              "solidity": 0.2
             }
            },
            "type": "barpolar"
           }
          ],
          "carpet": [
           {
            "aaxis": {
             "endlinecolor": "#A2B1C6",
             "gridcolor": "#506784",
             "linecolor": "#506784",
             "minorgridcolor": "#506784",
             "startlinecolor": "#A2B1C6"
            },
            "baxis": {
             "endlinecolor": "#A2B1C6",
             "gridcolor": "#506784",
             "linecolor": "#506784",
             "minorgridcolor": "#506784",
             "startlinecolor": "#A2B1C6"
            },
            "type": "carpet"
           }
          ],
          "choropleth": [
           {
            "colorbar": {
             "outlinewidth": 0,
             "ticks": ""
            },
            "type": "choropleth"
           }
          ],
          "contour": [
           {
            "colorbar": {
             "outlinewidth": 0,
             "ticks": ""
            },
            "colorscale": [
             [
              0,
              "#0d0887"
             ],
             [
              0.1111111111111111,
              "#46039f"
             ],
             [
              0.2222222222222222,
              "#7201a8"
             ],
             [
              0.3333333333333333,
              "#9c179e"
             ],
             [
              0.4444444444444444,
              "#bd3786"
             ],
             [
              0.5555555555555556,
              "#d8576b"
             ],
             [
              0.6666666666666666,
              "#ed7953"
             ],
             [
              0.7777777777777778,
              "#fb9f3a"
             ],
             [
              0.8888888888888888,
              "#fdca26"
             ],
             [
              1,
              "#f0f921"
             ]
            ],
            "type": "contour"
           }
          ],
          "contourcarpet": [
           {
            "colorbar": {
             "outlinewidth": 0,
             "ticks": ""
            },
            "type": "contourcarpet"
           }
          ],
          "heatmap": [
           {
            "colorbar": {
             "outlinewidth": 0,
             "ticks": ""
            },
            "colorscale": [
             [
              0,
              "#0d0887"
             ],
             [
              0.1111111111111111,
              "#46039f"
             ],
             [
              0.2222222222222222,
              "#7201a8"
             ],
             [
              0.3333333333333333,
              "#9c179e"
             ],
             [
              0.4444444444444444,
              "#bd3786"
             ],
             [
              0.5555555555555556,
              "#d8576b"
             ],
             [
              0.6666666666666666,
              "#ed7953"
             ],
             [
              0.7777777777777778,
              "#fb9f3a"
             ],
             [
              0.8888888888888888,
              "#fdca26"
             ],
             [
              1,
              "#f0f921"
             ]
            ],
            "type": "heatmap"
           }
          ],
          "histogram": [
           {
            "marker": {
             "pattern": {
              "fillmode": "overlay",
              "size": 10,
              "solidity": 0.2
             }
            },
            "type": "histogram"
           }
          ],
          "histogram2d": [
           {
            "colorbar": {
             "outlinewidth": 0,
             "ticks": ""
            },
            "colorscale": [
             [
              0,
              "#0d0887"
             ],
             [
              0.1111111111111111,
              "#46039f"
             ],
             [
              0.2222222222222222,
              "#7201a8"
             ],
             [
              0.3333333333333333,
              "#9c179e"
             ],
             [
              0.4444444444444444,
              "#bd3786"
             ],
             [
              0.5555555555555556,
              "#d8576b"
             ],
             [
              0.6666666666666666,
              "#ed7953"
             ],
             [
              0.7777777777777778,
              "#fb9f3a"
             ],
             [
              0.8888888888888888,
              "#fdca26"
             ],
             [
              1,
              "#f0f921"
             ]
            ],
            "type": "histogram2d"
           }
          ],
          "histogram2dcontour": [
           {
            "colorbar": {
             "outlinewidth": 0,
             "ticks": ""
            },
            "colorscale": [
             [
              0,
              "#0d0887"
             ],
             [
              0.1111111111111111,
              "#46039f"
             ],
             [
              0.2222222222222222,
              "#7201a8"
             ],
             [
              0.3333333333333333,
              "#9c179e"
             ],
             [
              0.4444444444444444,
              "#bd3786"
             ],
             [
              0.5555555555555556,
              "#d8576b"
             ],
             [
              0.6666666666666666,
              "#ed7953"
             ],
             [
              0.7777777777777778,
              "#fb9f3a"
             ],
             [
              0.8888888888888888,
              "#fdca26"
             ],
             [
              1,
              "#f0f921"
             ]
            ],
            "type": "histogram2dcontour"
           }
          ],
          "mesh3d": [
           {
            "colorbar": {
             "outlinewidth": 0,
             "ticks": ""
            },
            "type": "mesh3d"
           }
          ],
          "parcoords": [
           {
            "line": {
             "colorbar": {
              "outlinewidth": 0,
              "ticks": ""
             }
            },
            "type": "parcoords"
           }
          ],
          "pie": [
           {
            "automargin": true,
            "type": "pie"
           }
          ],
          "scatter": [
           {
            "marker": {
             "line": {
              "color": "#283442"
             }
            },
            "type": "scatter"
           }
          ],
          "scatter3d": [
           {
            "line": {
             "colorbar": {
              "outlinewidth": 0,
              "ticks": ""
             }
            },
            "marker": {
             "colorbar": {
              "outlinewidth": 0,
              "ticks": ""
             }
            },
            "type": "scatter3d"
           }
          ],
          "scattercarpet": [
           {
            "marker": {
             "colorbar": {
              "outlinewidth": 0,
              "ticks": ""
             }
            },
            "type": "scattercarpet"
           }
          ],
          "scattergeo": [
           {
            "marker": {
             "colorbar": {
              "outlinewidth": 0,
              "ticks": ""
             }
            },
            "type": "scattergeo"
           }
          ],
          "scattergl": [
           {
            "marker": {
             "line": {
              "color": "#283442"
             }
            },
            "type": "scattergl"
           }
          ],
          "scattermap": [
           {
            "marker": {
             "colorbar": {
              "outlinewidth": 0,
              "ticks": ""
             }
            },
            "type": "scattermap"
           }
          ],
          "scattermapbox": [
           {
            "marker": {
             "colorbar": {
              "outlinewidth": 0,
              "ticks": ""
             }
            },
            "type": "scattermapbox"
           }
          ],
          "scatterpolar": [
           {
            "marker": {
             "colorbar": {
              "outlinewidth": 0,
              "ticks": ""
             }
            },
            "type": "scatterpolar"
           }
          ],
          "scatterpolargl": [
           {
            "marker": {
             "colorbar": {
              "outlinewidth": 0,
              "ticks": ""
             }
            },
            "type": "scatterpolargl"
           }
          ],
          "scatterternary": [
           {
            "marker": {
             "colorbar": {
              "outlinewidth": 0,
              "ticks": ""
             }
            },
            "type": "scatterternary"
           }
          ],
          "surface": [
           {
            "colorbar": {
             "outlinewidth": 0,
             "ticks": ""
            },
            "colorscale": [
             [
              0,
              "#0d0887"
             ],
             [
              0.1111111111111111,
              "#46039f"
             ],
             [
              0.2222222222222222,
              "#7201a8"
             ],
             [
              0.3333333333333333,
              "#9c179e"
             ],
             [
              0.4444444444444444,
              "#bd3786"
             ],
             [
              0.5555555555555556,
              "#d8576b"
             ],
             [
              0.6666666666666666,
              "#ed7953"
             ],
             [
              0.7777777777777778,
              "#fb9f3a"
             ],
             [
              0.8888888888888888,
              "#fdca26"
             ],
             [
              1,
              "#f0f921"
             ]
            ],
            "type": "surface"
           }
          ],
          "table": [
           {
            "cells": {
             "fill": {
              "color": "#506784"
             },
             "line": {
              "color": "rgb(17,17,17)"
             }
            },
            "header": {
             "fill": {
              "color": "#2a3f5f"
             },
             "line": {
              "color": "rgb(17,17,17)"
             }
            },
            "type": "table"
           }
          ]
         },
         "layout": {
          "annotationdefaults": {
           "arrowcolor": "#f2f5fa",
           "arrowhead": 0,
           "arrowwidth": 1
          },
          "autotypenumbers": "strict",
          "coloraxis": {
           "colorbar": {
            "outlinewidth": 0,
            "ticks": ""
           }
          },
          "colorscale": {
           "diverging": [
            [
             0,
             "#8e0152"
            ],
            [
             0.1,
             "#c51b7d"
            ],
            [
             0.2,
             "#de77ae"
            ],
            [
             0.3,
             "#f1b6da"
            ],
            [
             0.4,
             "#fde0ef"
            ],
            [
             0.5,
             "#f7f7f7"
            ],
            [
             0.6,
             "#e6f5d0"
            ],
            [
             0.7,
             "#b8e186"
            ],
            [
             0.8,
             "#7fbc41"
            ],
            [
             0.9,
             "#4d9221"
            ],
            [
             1,
             "#276419"
            ]
           ],
           "sequential": [
            [
             0,
             "#0d0887"
            ],
            [
             0.1111111111111111,
             "#46039f"
            ],
            [
             0.2222222222222222,
             "#7201a8"
            ],
            [
             0.3333333333333333,
             "#9c179e"
            ],
            [
             0.4444444444444444,
             "#bd3786"
            ],
            [
             0.5555555555555556,
             "#d8576b"
            ],
            [
             0.6666666666666666,
             "#ed7953"
            ],
            [
             0.7777777777777778,
             "#fb9f3a"
            ],
            [
             0.8888888888888888,
             "#fdca26"
            ],
            [
             1,
             "#f0f921"
            ]
           ],
           "sequentialminus": [
            [
             0,
             "#0d0887"
            ],
            [
             0.1111111111111111,
             "#46039f"
            ],
            [
             0.2222222222222222,
             "#7201a8"
            ],
            [
             0.3333333333333333,
             "#9c179e"
            ],
            [
             0.4444444444444444,
             "#bd3786"
            ],
            [
             0.5555555555555556,
             "#d8576b"
            ],
            [
             0.6666666666666666,
             "#ed7953"
            ],
            [
             0.7777777777777778,
             "#fb9f3a"
            ],
            [
             0.8888888888888888,
             "#fdca26"
            ],
            [
             1,
             "#f0f921"
            ]
           ]
          },
          "colorway": [
           "#636efa",
           "#EF553B",
           "#00cc96",
           "#ab63fa",
           "#FFA15A",
           "#19d3f3",
           "#FF6692",
           "#B6E880",
           "#FF97FF",
           "#FECB52"
          ],
          "font": {
           "color": "#f2f5fa"
          },
          "geo": {
           "bgcolor": "rgb(17,17,17)",
           "lakecolor": "rgb(17,17,17)",
           "landcolor": "rgb(17,17,17)",
           "showlakes": true,
           "showland": true,
           "subunitcolor": "#506784"
          },
          "hoverlabel": {
           "align": "left"
          },
          "hovermode": "closest",
          "mapbox": {
           "style": "dark"
          },
          "paper_bgcolor": "rgb(17,17,17)",
          "plot_bgcolor": "rgb(17,17,17)",
          "polar": {
           "angularaxis": {
            "gridcolor": "#506784",
            "linecolor": "#506784",
            "ticks": ""
           },
           "bgcolor": "rgb(17,17,17)",
           "radialaxis": {
            "gridcolor": "#506784",
            "linecolor": "#506784",
            "ticks": ""
           }
          },
          "scene": {
           "xaxis": {
            "backgroundcolor": "rgb(17,17,17)",
            "gridcolor": "#506784",
            "gridwidth": 2,
            "linecolor": "#506784",
            "showbackground": true,
            "ticks": "",
            "zerolinecolor": "#C8D4E3"
           },
           "yaxis": {
            "backgroundcolor": "rgb(17,17,17)",
            "gridcolor": "#506784",
            "gridwidth": 2,
            "linecolor": "#506784",
            "showbackground": true,
            "ticks": "",
            "zerolinecolor": "#C8D4E3"
           },
           "zaxis": {
            "backgroundcolor": "rgb(17,17,17)",
            "gridcolor": "#506784",
            "gridwidth": 2,
            "linecolor": "#506784",
            "showbackground": true,
            "ticks": "",
            "zerolinecolor": "#C8D4E3"
           }
          },
          "shapedefaults": {
           "line": {
            "color": "#f2f5fa"
           }
          },
          "sliderdefaults": {
           "bgcolor": "#C8D4E3",
           "bordercolor": "rgb(17,17,17)",
           "borderwidth": 1,
           "tickwidth": 0
          },
          "ternary": {
           "aaxis": {
            "gridcolor": "#506784",
            "linecolor": "#506784",
            "ticks": ""
           },
           "baxis": {
            "gridcolor": "#506784",
            "linecolor": "#506784",
            "ticks": ""
           },
           "bgcolor": "rgb(17,17,17)",
           "caxis": {
            "gridcolor": "#506784",
            "linecolor": "#506784",
            "ticks": ""
           }
          },
          "title": {
           "x": 0.05
          },
          "updatemenudefaults": {
           "bgcolor": "#506784",
           "borderwidth": 0
          },
          "xaxis": {
           "automargin": true,
           "gridcolor": "#283442",
           "linecolor": "#506784",
           "ticks": "",
           "title": {
            "standoff": 15
           },
           "zerolinecolor": "#283442",
           "zerolinewidth": 2
          },
          "yaxis": {
           "automargin": true,
           "gridcolor": "#283442",
           "linecolor": "#506784",
           "ticks": "",
           "title": {
            "standoff": 15
           },
           "zerolinecolor": "#283442",
           "zerolinewidth": 2
          }
         }
        },
        "title": {
         "text": "Sentiment Proportion and Stock Percentage Change with Forecast"
        },
        "xaxis": {
         "title": {
          "text": "Date"
         }
        },
        "yaxis": {
         "title": {
          "font": {
           "color": "yellow"
          },
          "text": "Standardized Sentiment Proportion"
         }
        },
        "yaxis2": {
         "overlaying": "y",
         "side": "right",
         "title": {
          "font": {
           "color": "yellow"
          },
          "text": "Stock Pct Change"
         }
        }
       }
      }
     },
     "metadata": {},
     "output_type": "display_data"
    }
   ],
   "source": [
    "create_plot(combined_df, forecast_mean_from_start_std, forecast_ci_from_start_std, forecast_index_from_start)"
   ]
  },
  {
   "cell_type": "markdown",
   "metadata": {},
   "source": [
    "Graficos"
   ]
  },
  {
   "cell_type": "code",
   "execution_count": 478,
   "metadata": {},
   "outputs": [
    {
     "data": {
      "text/html": [
       "<div>\n",
       "<style scoped>\n",
       "    .dataframe tbody tr th:only-of-type {\n",
       "        vertical-align: middle;\n",
       "    }\n",
       "\n",
       "    .dataframe tbody tr th {\n",
       "        vertical-align: top;\n",
       "    }\n",
       "\n",
       "    .dataframe thead th {\n",
       "        text-align: right;\n",
       "    }\n",
       "</style>\n",
       "<table border=\"1\" class=\"dataframe\">\n",
       "  <thead>\n",
       "    <tr style=\"text-align: right;\">\n",
       "      <th></th>\n",
       "      <th>POSITIVE</th>\n",
       "      <th>NEGATIVE</th>\n",
       "      <th>7day_avg_positive</th>\n",
       "      <th>7day_avg_negative</th>\n",
       "      <th>7day_pct_positive</th>\n",
       "      <th>Pct_Change</th>\n",
       "      <th>lagged_7day_pct_positive</th>\n",
       "    </tr>\n",
       "  </thead>\n",
       "  <tbody>\n",
       "    <tr>\n",
       "      <th>2025-02-10</th>\n",
       "      <td>8</td>\n",
       "      <td>2</td>\n",
       "      <td>8.0</td>\n",
       "      <td>2.0</td>\n",
       "      <td>0.800000</td>\n",
       "      <td>NaN</td>\n",
       "      <td>NaN</td>\n",
       "    </tr>\n",
       "    <tr>\n",
       "      <th>2025-02-11</th>\n",
       "      <td>4</td>\n",
       "      <td>1</td>\n",
       "      <td>12.0</td>\n",
       "      <td>3.0</td>\n",
       "      <td>0.800000</td>\n",
       "      <td>-0.376850</td>\n",
       "      <td>0.800000</td>\n",
       "    </tr>\n",
       "    <tr>\n",
       "      <th>2025-02-12</th>\n",
       "      <td>3</td>\n",
       "      <td>1</td>\n",
       "      <td>15.0</td>\n",
       "      <td>4.0</td>\n",
       "      <td>0.789474</td>\n",
       "      <td>1.810325</td>\n",
       "      <td>0.800000</td>\n",
       "    </tr>\n",
       "    <tr>\n",
       "      <th>2025-02-13</th>\n",
       "      <td>1</td>\n",
       "      <td>1</td>\n",
       "      <td>16.0</td>\n",
       "      <td>5.0</td>\n",
       "      <td>0.761905</td>\n",
       "      <td>-0.035389</td>\n",
       "      <td>0.789474</td>\n",
       "    </tr>\n",
       "    <tr>\n",
       "      <th>2025-02-14</th>\n",
       "      <td>3</td>\n",
       "      <td>1</td>\n",
       "      <td>19.0</td>\n",
       "      <td>6.0</td>\n",
       "      <td>0.760000</td>\n",
       "      <td>0.142365</td>\n",
       "      <td>0.761905</td>\n",
       "    </tr>\n",
       "    <tr>\n",
       "      <th>2025-02-17</th>\n",
       "      <td>2</td>\n",
       "      <td>0</td>\n",
       "      <td>13.0</td>\n",
       "      <td>4.0</td>\n",
       "      <td>0.777778</td>\n",
       "      <td>NaN</td>\n",
       "      <td>0.760000</td>\n",
       "    </tr>\n",
       "    <tr>\n",
       "      <th>2025-02-18</th>\n",
       "      <td>0</td>\n",
       "      <td>1</td>\n",
       "      <td>9.0</td>\n",
       "      <td>4.0</td>\n",
       "      <td>0.750000</td>\n",
       "      <td>0.426473</td>\n",
       "      <td>0.777778</td>\n",
       "    </tr>\n",
       "    <tr>\n",
       "      <th>2025-02-19</th>\n",
       "      <td>5</td>\n",
       "      <td>1</td>\n",
       "      <td>11.0</td>\n",
       "      <td>4.0</td>\n",
       "      <td>0.764706</td>\n",
       "      <td>-0.477750</td>\n",
       "      <td>0.750000</td>\n",
       "    </tr>\n",
       "  </tbody>\n",
       "</table>\n",
       "</div>"
      ],
      "text/plain": [
       "            POSITIVE  NEGATIVE  7day_avg_positive  7day_avg_negative  \\\n",
       "2025-02-10         8         2                8.0                2.0   \n",
       "2025-02-11         4         1               12.0                3.0   \n",
       "2025-02-12         3         1               15.0                4.0   \n",
       "2025-02-13         1         1               16.0                5.0   \n",
       "2025-02-14         3         1               19.0                6.0   \n",
       "2025-02-17         2         0               13.0                4.0   \n",
       "2025-02-18         0         1                9.0                4.0   \n",
       "2025-02-19         5         1               11.0                4.0   \n",
       "\n",
       "            7day_pct_positive  Pct_Change  lagged_7day_pct_positive  \n",
       "2025-02-10           0.800000         NaN                       NaN  \n",
       "2025-02-11           0.800000   -0.376850                  0.800000  \n",
       "2025-02-12           0.789474    1.810325                  0.800000  \n",
       "2025-02-13           0.761905   -0.035389                  0.789474  \n",
       "2025-02-14           0.760000    0.142365                  0.761905  \n",
       "2025-02-17           0.777778         NaN                  0.760000  \n",
       "2025-02-18           0.750000    0.426473                  0.777778  \n",
       "2025-02-19           0.764706   -0.477750                  0.750000  "
      ]
     },
     "execution_count": 478,
     "metadata": {},
     "output_type": "execute_result"
    }
   ],
   "source": [
    "combined_df"
   ]
  },
  {
   "cell_type": "code",
   "execution_count": 479,
   "metadata": {},
   "outputs": [
    {
     "name": "stdout",
     "output_type": "stream",
     "text": [
      "DatetimeIndex(['2025-02-19', '2025-02-20', '2025-02-21', '2025-02-24'], dtype='datetime64[ns]', freq=None)\n"
     ]
    },
    {
     "data": {
      "text/plain": [
       "2025-02-19 00:00:00   -0.869995\n",
       "6                     -0.514002\n",
       "7                     -0.836638\n",
       "8                     -0.544233\n",
       "dtype: float64"
      ]
     },
     "execution_count": 479,
     "metadata": {},
     "output_type": "execute_result"
    }
   ],
   "source": [
    "print(forecast_index_from_start)\n",
    "forecast_mean_from_start_std"
   ]
  },
  {
   "cell_type": "code",
   "execution_count": 480,
   "metadata": {},
   "outputs": [
    {
     "data": {
      "application/vnd.plotly.v1+json": {
       "config": {
        "plotlyServerURL": "https://plot.ly"
       },
       "data": [
        {
         "line": {
          "color": "blue"
         },
         "mode": "lines",
         "name": "Standardized Sentiment Proportion",
         "type": "scatter",
         "x": [
          "2025-02-10T00:00:00",
          "2025-02-11T00:00:00",
          "2025-02-12T00:00:00",
          "2025-02-13T00:00:00",
          "2025-02-14T00:00:00",
          "2025-02-17T00:00:00",
          "2025-02-18T00:00:00",
          "2025-02-19T00:00:00"
         ],
         "y": {
          "bdata": "yhyz2Ohh9D/KHLPY6GH0PzDqY6hEQ+c/Z1OuDYKT5r+NjaI9Rr7pv/06J7oGh74/q1+yHGYv9b9ro79dNOvhvw==",
          "dtype": "f8"
         }
        },
        {
         "line": {
          "color": "yellow"
         },
         "mode": "lines+markers",
         "name": "Stock Pct Change (Standardized)",
         "type": "scatter",
         "x": [
          "2025-02-10T00:00:00",
          "2025-02-11T00:00:00",
          "2025-02-12T00:00:00",
          "2025-02-13T00:00:00",
          "2025-02-14T00:00:00",
          "2025-02-17T00:00:00",
          "2025-02-18T00:00:00",
          "2025-02-19T00:00:00"
         ],
         "y": {
          "bdata": "AAAAAAAA+H8AESVZaPjnv1r503Ag9P0/I5g53jHA1b+X7PYX/zvAvwAAAAAAAPh/h2/Ti/xYyz9fNl32/tbrvw==",
          "dtype": "f8"
         },
         "yaxis": "y2"
        },
        {
         "line": {
          "color": "red"
         },
         "mode": "lines+markers",
         "name": "Forecasted Stock Pct Change",
         "type": "scatter",
         "x": [
          "2025-02-19T00:00:00",
          "2025-02-20T00:00:00",
          "2025-02-21T00:00:00",
          "2025-02-24T00:00:00"
         ],
         "y": {
          "bdata": "XzZd9v7W678+8g6WtHLgv5ZtEVS9xeq/tdLKkFtq4b8=",
          "dtype": "f8"
         },
         "yaxis": "y2"
        },
        {
         "fill": "toself",
         "fillcolor": "rgba(255,0,0,0.2)",
         "hoverinfo": "skip",
         "line": {
          "color": "rgba(255,255,255,0)"
         },
         "showlegend": false,
         "type": "scatter",
         "x": [
          "2025-02-19T00:00:00",
          "2025-02-20T00:00:00",
          "2025-02-21T00:00:00",
          "2025-02-24T00:00:00",
          "2025-02-24T00:00:00",
          "2025-02-21T00:00:00",
          "2025-02-20T00:00:00",
          "2025-02-19T00:00:00"
         ],
         "y": {
          "bdata": "XzZd9v7W67+2a/yCVwv2v7J4QKOFbf6/kbBtAZRN/b+5u0XhcMbnP+hYeHlCPs0/3+W1s4ti1j9fNl32/tbrvw==",
          "dtype": "f8"
         }
        }
       ],
       "layout": {
        "template": {
         "data": {
          "bar": [
           {
            "error_x": {
             "color": "#f2f5fa"
            },
            "error_y": {
             "color": "#f2f5fa"
            },
            "marker": {
             "line": {
              "color": "rgb(17,17,17)",
              "width": 0.5
             },
             "pattern": {
              "fillmode": "overlay",
              "size": 10,
              "solidity": 0.2
             }
            },
            "type": "bar"
           }
          ],
          "barpolar": [
           {
            "marker": {
             "line": {
              "color": "rgb(17,17,17)",
              "width": 0.5
             },
             "pattern": {
              "fillmode": "overlay",
              "size": 10,
              "solidity": 0.2
             }
            },
            "type": "barpolar"
           }
          ],
          "carpet": [
           {
            "aaxis": {
             "endlinecolor": "#A2B1C6",
             "gridcolor": "#506784",
             "linecolor": "#506784",
             "minorgridcolor": "#506784",
             "startlinecolor": "#A2B1C6"
            },
            "baxis": {
             "endlinecolor": "#A2B1C6",
             "gridcolor": "#506784",
             "linecolor": "#506784",
             "minorgridcolor": "#506784",
             "startlinecolor": "#A2B1C6"
            },
            "type": "carpet"
           }
          ],
          "choropleth": [
           {
            "colorbar": {
             "outlinewidth": 0,
             "ticks": ""
            },
            "type": "choropleth"
           }
          ],
          "contour": [
           {
            "colorbar": {
             "outlinewidth": 0,
             "ticks": ""
            },
            "colorscale": [
             [
              0,
              "#0d0887"
             ],
             [
              0.1111111111111111,
              "#46039f"
             ],
             [
              0.2222222222222222,
              "#7201a8"
             ],
             [
              0.3333333333333333,
              "#9c179e"
             ],
             [
              0.4444444444444444,
              "#bd3786"
             ],
             [
              0.5555555555555556,
              "#d8576b"
             ],
             [
              0.6666666666666666,
              "#ed7953"
             ],
             [
              0.7777777777777778,
              "#fb9f3a"
             ],
             [
              0.8888888888888888,
              "#fdca26"
             ],
             [
              1,
              "#f0f921"
             ]
            ],
            "type": "contour"
           }
          ],
          "contourcarpet": [
           {
            "colorbar": {
             "outlinewidth": 0,
             "ticks": ""
            },
            "type": "contourcarpet"
           }
          ],
          "heatmap": [
           {
            "colorbar": {
             "outlinewidth": 0,
             "ticks": ""
            },
            "colorscale": [
             [
              0,
              "#0d0887"
             ],
             [
              0.1111111111111111,
              "#46039f"
             ],
             [
              0.2222222222222222,
              "#7201a8"
             ],
             [
              0.3333333333333333,
              "#9c179e"
             ],
             [
              0.4444444444444444,
              "#bd3786"
             ],
             [
              0.5555555555555556,
              "#d8576b"
             ],
             [
              0.6666666666666666,
              "#ed7953"
             ],
             [
              0.7777777777777778,
              "#fb9f3a"
             ],
             [
              0.8888888888888888,
              "#fdca26"
             ],
             [
              1,
              "#f0f921"
             ]
            ],
            "type": "heatmap"
           }
          ],
          "histogram": [
           {
            "marker": {
             "pattern": {
              "fillmode": "overlay",
              "size": 10,
              "solidity": 0.2
             }
            },
            "type": "histogram"
           }
          ],
          "histogram2d": [
           {
            "colorbar": {
             "outlinewidth": 0,
             "ticks": ""
            },
            "colorscale": [
             [
              0,
              "#0d0887"
             ],
             [
              0.1111111111111111,
              "#46039f"
             ],
             [
              0.2222222222222222,
              "#7201a8"
             ],
             [
              0.3333333333333333,
              "#9c179e"
             ],
             [
              0.4444444444444444,
              "#bd3786"
             ],
             [
              0.5555555555555556,
              "#d8576b"
             ],
             [
              0.6666666666666666,
              "#ed7953"
             ],
             [
              0.7777777777777778,
              "#fb9f3a"
             ],
             [
              0.8888888888888888,
              "#fdca26"
             ],
             [
              1,
              "#f0f921"
             ]
            ],
            "type": "histogram2d"
           }
          ],
          "histogram2dcontour": [
           {
            "colorbar": {
             "outlinewidth": 0,
             "ticks": ""
            },
            "colorscale": [
             [
              0,
              "#0d0887"
             ],
             [
              0.1111111111111111,
              "#46039f"
             ],
             [
              0.2222222222222222,
              "#7201a8"
             ],
             [
              0.3333333333333333,
              "#9c179e"
             ],
             [
              0.4444444444444444,
              "#bd3786"
             ],
             [
              0.5555555555555556,
              "#d8576b"
             ],
             [
              0.6666666666666666,
              "#ed7953"
             ],
             [
              0.7777777777777778,
              "#fb9f3a"
             ],
             [
              0.8888888888888888,
              "#fdca26"
             ],
             [
              1,
              "#f0f921"
             ]
            ],
            "type": "histogram2dcontour"
           }
          ],
          "mesh3d": [
           {
            "colorbar": {
             "outlinewidth": 0,
             "ticks": ""
            },
            "type": "mesh3d"
           }
          ],
          "parcoords": [
           {
            "line": {
             "colorbar": {
              "outlinewidth": 0,
              "ticks": ""
             }
            },
            "type": "parcoords"
           }
          ],
          "pie": [
           {
            "automargin": true,
            "type": "pie"
           }
          ],
          "scatter": [
           {
            "marker": {
             "line": {
              "color": "#283442"
             }
            },
            "type": "scatter"
           }
          ],
          "scatter3d": [
           {
            "line": {
             "colorbar": {
              "outlinewidth": 0,
              "ticks": ""
             }
            },
            "marker": {
             "colorbar": {
              "outlinewidth": 0,
              "ticks": ""
             }
            },
            "type": "scatter3d"
           }
          ],
          "scattercarpet": [
           {
            "marker": {
             "colorbar": {
              "outlinewidth": 0,
              "ticks": ""
             }
            },
            "type": "scattercarpet"
           }
          ],
          "scattergeo": [
           {
            "marker": {
             "colorbar": {
              "outlinewidth": 0,
              "ticks": ""
             }
            },
            "type": "scattergeo"
           }
          ],
          "scattergl": [
           {
            "marker": {
             "line": {
              "color": "#283442"
             }
            },
            "type": "scattergl"
           }
          ],
          "scattermap": [
           {
            "marker": {
             "colorbar": {
              "outlinewidth": 0,
              "ticks": ""
             }
            },
            "type": "scattermap"
           }
          ],
          "scattermapbox": [
           {
            "marker": {
             "colorbar": {
              "outlinewidth": 0,
              "ticks": ""
             }
            },
            "type": "scattermapbox"
           }
          ],
          "scatterpolar": [
           {
            "marker": {
             "colorbar": {
              "outlinewidth": 0,
              "ticks": ""
             }
            },
            "type": "scatterpolar"
           }
          ],
          "scatterpolargl": [
           {
            "marker": {
             "colorbar": {
              "outlinewidth": 0,
              "ticks": ""
             }
            },
            "type": "scatterpolargl"
           }
          ],
          "scatterternary": [
           {
            "marker": {
             "colorbar": {
              "outlinewidth": 0,
              "ticks": ""
             }
            },
            "type": "scatterternary"
           }
          ],
          "surface": [
           {
            "colorbar": {
             "outlinewidth": 0,
             "ticks": ""
            },
            "colorscale": [
             [
              0,
              "#0d0887"
             ],
             [
              0.1111111111111111,
              "#46039f"
             ],
             [
              0.2222222222222222,
              "#7201a8"
             ],
             [
              0.3333333333333333,
              "#9c179e"
             ],
             [
              0.4444444444444444,
              "#bd3786"
             ],
             [
              0.5555555555555556,
              "#d8576b"
             ],
             [
              0.6666666666666666,
              "#ed7953"
             ],
             [
              0.7777777777777778,
              "#fb9f3a"
             ],
             [
              0.8888888888888888,
              "#fdca26"
             ],
             [
              1,
              "#f0f921"
             ]
            ],
            "type": "surface"
           }
          ],
          "table": [
           {
            "cells": {
             "fill": {
              "color": "#506784"
             },
             "line": {
              "color": "rgb(17,17,17)"
             }
            },
            "header": {
             "fill": {
              "color": "#2a3f5f"
             },
             "line": {
              "color": "rgb(17,17,17)"
             }
            },
            "type": "table"
           }
          ]
         },
         "layout": {
          "annotationdefaults": {
           "arrowcolor": "#f2f5fa",
           "arrowhead": 0,
           "arrowwidth": 1
          },
          "autotypenumbers": "strict",
          "coloraxis": {
           "colorbar": {
            "outlinewidth": 0,
            "ticks": ""
           }
          },
          "colorscale": {
           "diverging": [
            [
             0,
             "#8e0152"
            ],
            [
             0.1,
             "#c51b7d"
            ],
            [
             0.2,
             "#de77ae"
            ],
            [
             0.3,
             "#f1b6da"
            ],
            [
             0.4,
             "#fde0ef"
            ],
            [
             0.5,
             "#f7f7f7"
            ],
            [
             0.6,
             "#e6f5d0"
            ],
            [
             0.7,
             "#b8e186"
            ],
            [
             0.8,
             "#7fbc41"
            ],
            [
             0.9,
             "#4d9221"
            ],
            [
             1,
             "#276419"
            ]
           ],
           "sequential": [
            [
             0,
             "#0d0887"
            ],
            [
             0.1111111111111111,
             "#46039f"
            ],
            [
             0.2222222222222222,
             "#7201a8"
            ],
            [
             0.3333333333333333,
             "#9c179e"
            ],
            [
             0.4444444444444444,
             "#bd3786"
            ],
            [
             0.5555555555555556,
             "#d8576b"
            ],
            [
             0.6666666666666666,
             "#ed7953"
            ],
            [
             0.7777777777777778,
             "#fb9f3a"
            ],
            [
             0.8888888888888888,
             "#fdca26"
            ],
            [
             1,
             "#f0f921"
            ]
           ],
           "sequentialminus": [
            [
             0,
             "#0d0887"
            ],
            [
             0.1111111111111111,
             "#46039f"
            ],
            [
             0.2222222222222222,
             "#7201a8"
            ],
            [
             0.3333333333333333,
             "#9c179e"
            ],
            [
             0.4444444444444444,
             "#bd3786"
            ],
            [
             0.5555555555555556,
             "#d8576b"
            ],
            [
             0.6666666666666666,
             "#ed7953"
            ],
            [
             0.7777777777777778,
             "#fb9f3a"
            ],
            [
             0.8888888888888888,
             "#fdca26"
            ],
            [
             1,
             "#f0f921"
            ]
           ]
          },
          "colorway": [
           "#636efa",
           "#EF553B",
           "#00cc96",
           "#ab63fa",
           "#FFA15A",
           "#19d3f3",
           "#FF6692",
           "#B6E880",
           "#FF97FF",
           "#FECB52"
          ],
          "font": {
           "color": "#f2f5fa"
          },
          "geo": {
           "bgcolor": "rgb(17,17,17)",
           "lakecolor": "rgb(17,17,17)",
           "landcolor": "rgb(17,17,17)",
           "showlakes": true,
           "showland": true,
           "subunitcolor": "#506784"
          },
          "hoverlabel": {
           "align": "left"
          },
          "hovermode": "closest",
          "mapbox": {
           "style": "dark"
          },
          "paper_bgcolor": "rgb(17,17,17)",
          "plot_bgcolor": "rgb(17,17,17)",
          "polar": {
           "angularaxis": {
            "gridcolor": "#506784",
            "linecolor": "#506784",
            "ticks": ""
           },
           "bgcolor": "rgb(17,17,17)",
           "radialaxis": {
            "gridcolor": "#506784",
            "linecolor": "#506784",
            "ticks": ""
           }
          },
          "scene": {
           "xaxis": {
            "backgroundcolor": "rgb(17,17,17)",
            "gridcolor": "#506784",
            "gridwidth": 2,
            "linecolor": "#506784",
            "showbackground": true,
            "ticks": "",
            "zerolinecolor": "#C8D4E3"
           },
           "yaxis": {
            "backgroundcolor": "rgb(17,17,17)",
            "gridcolor": "#506784",
            "gridwidth": 2,
            "linecolor": "#506784",
            "showbackground": true,
            "ticks": "",
            "zerolinecolor": "#C8D4E3"
           },
           "zaxis": {
            "backgroundcolor": "rgb(17,17,17)",
            "gridcolor": "#506784",
            "gridwidth": 2,
            "linecolor": "#506784",
            "showbackground": true,
            "ticks": "",
            "zerolinecolor": "#C8D4E3"
           }
          },
          "shapedefaults": {
           "line": {
            "color": "#f2f5fa"
           }
          },
          "sliderdefaults": {
           "bgcolor": "#C8D4E3",
           "bordercolor": "rgb(17,17,17)",
           "borderwidth": 1,
           "tickwidth": 0
          },
          "ternary": {
           "aaxis": {
            "gridcolor": "#506784",
            "linecolor": "#506784",
            "ticks": ""
           },
           "baxis": {
            "gridcolor": "#506784",
            "linecolor": "#506784",
            "ticks": ""
           },
           "bgcolor": "rgb(17,17,17)",
           "caxis": {
            "gridcolor": "#506784",
            "linecolor": "#506784",
            "ticks": ""
           }
          },
          "title": {
           "x": 0.05
          },
          "updatemenudefaults": {
           "bgcolor": "#506784",
           "borderwidth": 0
          },
          "xaxis": {
           "automargin": true,
           "gridcolor": "#283442",
           "linecolor": "#506784",
           "ticks": "",
           "title": {
            "standoff": 15
           },
           "zerolinecolor": "#283442",
           "zerolinewidth": 2
          },
          "yaxis": {
           "automargin": true,
           "gridcolor": "#283442",
           "linecolor": "#506784",
           "ticks": "",
           "title": {
            "standoff": 15
           },
           "zerolinecolor": "#283442",
           "zerolinewidth": 2
          }
         }
        },
        "title": {
         "text": "Sentiment Proportion and Stock Percentage Change with Forecast"
        },
        "xaxis": {
         "title": {
          "text": "Date"
         }
        },
        "yaxis": {
         "title": {
          "font": {
           "color": "yellow"
          },
          "text": "Standardized Sentiment Proportion"
         }
        },
        "yaxis2": {
         "overlaying": "y",
         "side": "right",
         "title": {
          "font": {
           "color": "yellow"
          },
          "text": "Stock Pct Change"
         }
        }
       }
      }
     },
     "metadata": {},
     "output_type": "display_data"
    }
   ],
   "source": [
    "create_plot(combined_df, forecast_mean_from_start_std, forecast_ci_from_start_std, forecast_index_from_start)"
   ]
  },
  {
   "cell_type": "markdown",
   "metadata": {},
   "source": [
    "# Function"
   ]
  },
  {
   "cell_type": "markdown",
   "metadata": {},
   "source": [
    "We define the functions for the .py file"
   ]
  },
  {
   "cell_type": "code",
   "execution_count": 490,
   "metadata": {},
   "outputs": [],
   "source": [
    "def preprocessing_data(combined_df):\n",
    "\n",
    "    last_real_date = combined_df.dropna(subset=['Pct_Change']).index[-1]\n",
    "    last_real_value = combined_df['Pct_Change'].dropna().iloc[-1]\n",
    "\n",
    "    forecast_mean_from_start = pd.Series(\n",
    "    [last_real_value] + forecast_mean.tolist(),\n",
    "    index=[last_real_date] + forecast_index\n",
    "    )\n",
    "\n",
    "    forecast_index_from_start = forecast_mean_from_start.index\n",
    "\n",
    "    forecast_mean_from_start = pd.concat([\n",
    "        pd.Series([last_real_value], index=[last_real_date]),\n",
    "        forecast_mean\n",
    "    ])\n",
    "\n",
    "    forecast_ci_first_point = pd.DataFrame({\n",
    "        'lower Pct_Change': [last_real_value], \n",
    "        'upper Pct_Change': [last_real_value]\n",
    "    }, index=[last_real_date])\n",
    "\n",
    "    forecast_ci_from_start = pd.concat([forecast_ci_first_point, forecast_ci])\n",
    "\n",
    "    pct_change_mean = combined_df['Pct_Change'].mean()\n",
    "    pct_change_std = combined_df['Pct_Change'].std()\n",
    "\n",
    "    forecast_mean_from_start_std = (forecast_mean_from_start - pct_change_mean) / pct_change_std\n",
    "\n",
    "    forecast_ci_from_start_std = pd.DataFrame({\n",
    "        'lower Pct_Change': (forecast_ci_from_start['lower Pct_Change'] - pct_change_mean) / pct_change_std,\n",
    "        'upper Pct_Change': (forecast_ci_from_start['upper Pct_Change'] - pct_change_mean) / pct_change_std\n",
    "    }, index=forecast_ci_from_start.index)\n",
    "\n",
    "    return combined_df, forecast_mean_from_start_std, forecast_ci_from_start_std, forecast_index_from_start"
   ]
  },
  {
   "cell_type": "code",
   "execution_count": 491,
   "metadata": {},
   "outputs": [],
   "source": [
    "def create_plot(combined_df, forecast_mean, forecast_ci, forecast_index):\n",
    "\n",
    "\n",
    "    sentiment_std = (combined_df['7day_pct_positive'] - combined_df['7day_pct_positive'].mean()) / combined_df['7day_pct_positive'].std()\n",
    "\n",
    "    pct_change_std = (combined_df['Pct_Change'] - combined_df['Pct_Change'].mean()) / combined_df['Pct_Change'].std()\n",
    "\n",
    "\n",
    "    fig = go.Figure()\n",
    "\n",
    "    fig.add_trace(go.Scatter(\n",
    "        x=combined_df.index,\n",
    "        y=sentiment_std,\n",
    "        name='Standardized Sentiment Proportion',\n",
    "        line=dict(color='blue'),\n",
    "        mode='lines'\n",
    "    ))\n",
    "\n",
    "    fig.add_trace(go.Scatter(\n",
    "        x=combined_df.index,\n",
    "        y=pct_change_std,\n",
    "        name='Stock Pct Change (Standardized)',\n",
    "        line=dict(color='yellow'),\n",
    "        mode='lines+markers'\n",
    "    ))\n",
    "\n",
    "\n",
    "    fig.add_trace(go.Scatter(\n",
    "        x=forecast_index,\n",
    "        y=forecast_mean,\n",
    "        name='Forecasted Stock Pct Change',\n",
    "        line=dict(color='red'),\n",
    "        mode='lines+markers'\n",
    "    ))\n",
    "\n",
    "    fig.add_trace(go.Scatter(\n",
    "        x=np.concatenate([forecast_index, forecast_index[::-1]]),\n",
    "        y=np.concatenate([forecast_ci.iloc[:, 0], forecast_ci.iloc[:, 1][::-1]]),\n",
    "        fill='toself',\n",
    "        fillcolor='rgba(255,0,0,0.2)',\n",
    "        line=dict(color='rgba(255,255,255,0)'),\n",
    "        hoverinfo=\"skip\",\n",
    "        showlegend=False\n",
    "    ))\n",
    "\n",
    "    fig.update_layout(\n",
    "        title='Sentiment Proportion and Stock Percentage Change with Forecast',\n",
    "        xaxis_title='Date',\n",
    "        yaxis=dict(\n",
    "            title=dict(text='Standardized Sentiment Proportion', font=dict(color='yellow'))\n",
    "        ),\n",
    "        yaxis2=dict(\n",
    "            title=dict(text='Stock Pct Change', font=dict(color='yellow')),\n",
    "            overlaying='y',\n",
    "            side='right'\n",
    "        ),\n",
    "        template='plotly_dark'\n",
    "    )\n",
    "\n",
    "\n",
    "    fig.show()"
   ]
  },
  {
   "cell_type": "code",
   "execution_count": 492,
   "metadata": {},
   "outputs": [],
   "source": [
    "combined_df, forecast_mean_from_start_std, forecast_ci_from_start_std, forecast_index_from_start = preprocessing_data(combined_df)"
   ]
  },
  {
   "cell_type": "code",
   "execution_count": 493,
   "metadata": {},
   "outputs": [
    {
     "data": {
      "application/vnd.plotly.v1+json": {
       "config": {
        "plotlyServerURL": "https://plot.ly"
       },
       "data": [
        {
         "line": {
          "color": "blue"
         },
         "mode": "lines",
         "name": "Standardized Sentiment Proportion",
         "type": "scatter",
         "x": [
          "2025-02-10T00:00:00",
          "2025-02-11T00:00:00",
          "2025-02-12T00:00:00",
          "2025-02-13T00:00:00",
          "2025-02-14T00:00:00",
          "2025-02-17T00:00:00",
          "2025-02-18T00:00:00",
          "2025-02-19T00:00:00"
         ],
         "y": {
          "bdata": "yhyz2Ohh9D/KHLPY6GH0PzDqY6hEQ+c/Z1OuDYKT5r+NjaI9Rr7pv/06J7oGh74/q1+yHGYv9b9ro79dNOvhvw==",
          "dtype": "f8"
         }
        },
        {
         "line": {
          "color": "yellow"
         },
         "mode": "lines+markers",
         "name": "Stock Pct Change (Standardized)",
         "type": "scatter",
         "x": [
          "2025-02-10T00:00:00",
          "2025-02-11T00:00:00",
          "2025-02-12T00:00:00",
          "2025-02-13T00:00:00",
          "2025-02-14T00:00:00",
          "2025-02-17T00:00:00",
          "2025-02-18T00:00:00",
          "2025-02-19T00:00:00"
         ],
         "y": {
          "bdata": "AAAAAAAA+H8AESVZaPjnv1r503Ag9P0/I5g53jHA1b+X7PYX/zvAvwAAAAAAAPh/h2/Ti/xYyz9fNl32/tbrvw==",
          "dtype": "f8"
         }
        },
        {
         "line": {
          "color": "red"
         },
         "mode": "lines+markers",
         "name": "Forecasted Stock Pct Change",
         "type": "scatter",
         "x": [
          "2025-02-19T00:00:00",
          "2025-02-20T00:00:00",
          "2025-02-21T00:00:00",
          "2025-02-24T00:00:00"
         ],
         "y": {
          "bdata": "XzZd9v7W678+8g6WtHLgv5ZtEVS9xeq/tdLKkFtq4b8=",
          "dtype": "f8"
         }
        },
        {
         "fill": "toself",
         "fillcolor": "rgba(255,0,0,0.2)",
         "hoverinfo": "skip",
         "line": {
          "color": "rgba(255,255,255,0)"
         },
         "showlegend": false,
         "type": "scatter",
         "x": [
          "2025-02-19T00:00:00",
          "2025-02-20T00:00:00",
          "2025-02-21T00:00:00",
          "2025-02-24T00:00:00",
          "2025-02-24T00:00:00",
          "2025-02-21T00:00:00",
          "2025-02-20T00:00:00",
          "2025-02-19T00:00:00"
         ],
         "y": {
          "bdata": "XzZd9v7W67+2a/yCVwv2v7J4QKOFbf6/kbBtAZRN/b+5u0XhcMbnP+hYeHlCPs0/3+W1s4ti1j9fNl32/tbrvw==",
          "dtype": "f8"
         }
        }
       ],
       "layout": {
        "template": {
         "data": {
          "bar": [
           {
            "error_x": {
             "color": "#f2f5fa"
            },
            "error_y": {
             "color": "#f2f5fa"
            },
            "marker": {
             "line": {
              "color": "rgb(17,17,17)",
              "width": 0.5
             },
             "pattern": {
              "fillmode": "overlay",
              "size": 10,
              "solidity": 0.2
             }
            },
            "type": "bar"
           }
          ],
          "barpolar": [
           {
            "marker": {
             "line": {
              "color": "rgb(17,17,17)",
              "width": 0.5
             },
             "pattern": {
              "fillmode": "overlay",
              "size": 10,
              "solidity": 0.2
             }
            },
            "type": "barpolar"
           }
          ],
          "carpet": [
           {
            "aaxis": {
             "endlinecolor": "#A2B1C6",
             "gridcolor": "#506784",
             "linecolor": "#506784",
             "minorgridcolor": "#506784",
             "startlinecolor": "#A2B1C6"
            },
            "baxis": {
             "endlinecolor": "#A2B1C6",
             "gridcolor": "#506784",
             "linecolor": "#506784",
             "minorgridcolor": "#506784",
             "startlinecolor": "#A2B1C6"
            },
            "type": "carpet"
           }
          ],
          "choropleth": [
           {
            "colorbar": {
             "outlinewidth": 0,
             "ticks": ""
            },
            "type": "choropleth"
           }
          ],
          "contour": [
           {
            "colorbar": {
             "outlinewidth": 0,
             "ticks": ""
            },
            "colorscale": [
             [
              0,
              "#0d0887"
             ],
             [
              0.1111111111111111,
              "#46039f"
             ],
             [
              0.2222222222222222,
              "#7201a8"
             ],
             [
              0.3333333333333333,
              "#9c179e"
             ],
             [
              0.4444444444444444,
              "#bd3786"
             ],
             [
              0.5555555555555556,
              "#d8576b"
             ],
             [
              0.6666666666666666,
              "#ed7953"
             ],
             [
              0.7777777777777778,
              "#fb9f3a"
             ],
             [
              0.8888888888888888,
              "#fdca26"
             ],
             [
              1,
              "#f0f921"
             ]
            ],
            "type": "contour"
           }
          ],
          "contourcarpet": [
           {
            "colorbar": {
             "outlinewidth": 0,
             "ticks": ""
            },
            "type": "contourcarpet"
           }
          ],
          "heatmap": [
           {
            "colorbar": {
             "outlinewidth": 0,
             "ticks": ""
            },
            "colorscale": [
             [
              0,
              "#0d0887"
             ],
             [
              0.1111111111111111,
              "#46039f"
             ],
             [
              0.2222222222222222,
              "#7201a8"
             ],
             [
              0.3333333333333333,
              "#9c179e"
             ],
             [
              0.4444444444444444,
              "#bd3786"
             ],
             [
              0.5555555555555556,
              "#d8576b"
             ],
             [
              0.6666666666666666,
              "#ed7953"
             ],
             [
              0.7777777777777778,
              "#fb9f3a"
             ],
             [
              0.8888888888888888,
              "#fdca26"
             ],
             [
              1,
              "#f0f921"
             ]
            ],
            "type": "heatmap"
           }
          ],
          "histogram": [
           {
            "marker": {
             "pattern": {
              "fillmode": "overlay",
              "size": 10,
              "solidity": 0.2
             }
            },
            "type": "histogram"
           }
          ],
          "histogram2d": [
           {
            "colorbar": {
             "outlinewidth": 0,
             "ticks": ""
            },
            "colorscale": [
             [
              0,
              "#0d0887"
             ],
             [
              0.1111111111111111,
              "#46039f"
             ],
             [
              0.2222222222222222,
              "#7201a8"
             ],
             [
              0.3333333333333333,
              "#9c179e"
             ],
             [
              0.4444444444444444,
              "#bd3786"
             ],
             [
              0.5555555555555556,
              "#d8576b"
             ],
             [
              0.6666666666666666,
              "#ed7953"
             ],
             [
              0.7777777777777778,
              "#fb9f3a"
             ],
             [
              0.8888888888888888,
              "#fdca26"
             ],
             [
              1,
              "#f0f921"
             ]
            ],
            "type": "histogram2d"
           }
          ],
          "histogram2dcontour": [
           {
            "colorbar": {
             "outlinewidth": 0,
             "ticks": ""
            },
            "colorscale": [
             [
              0,
              "#0d0887"
             ],
             [
              0.1111111111111111,
              "#46039f"
             ],
             [
              0.2222222222222222,
              "#7201a8"
             ],
             [
              0.3333333333333333,
              "#9c179e"
             ],
             [
              0.4444444444444444,
              "#bd3786"
             ],
             [
              0.5555555555555556,
              "#d8576b"
             ],
             [
              0.6666666666666666,
              "#ed7953"
             ],
             [
              0.7777777777777778,
              "#fb9f3a"
             ],
             [
              0.8888888888888888,
              "#fdca26"
             ],
             [
              1,
              "#f0f921"
             ]
            ],
            "type": "histogram2dcontour"
           }
          ],
          "mesh3d": [
           {
            "colorbar": {
             "outlinewidth": 0,
             "ticks": ""
            },
            "type": "mesh3d"
           }
          ],
          "parcoords": [
           {
            "line": {
             "colorbar": {
              "outlinewidth": 0,
              "ticks": ""
             }
            },
            "type": "parcoords"
           }
          ],
          "pie": [
           {
            "automargin": true,
            "type": "pie"
           }
          ],
          "scatter": [
           {
            "marker": {
             "line": {
              "color": "#283442"
             }
            },
            "type": "scatter"
           }
          ],
          "scatter3d": [
           {
            "line": {
             "colorbar": {
              "outlinewidth": 0,
              "ticks": ""
             }
            },
            "marker": {
             "colorbar": {
              "outlinewidth": 0,
              "ticks": ""
             }
            },
            "type": "scatter3d"
           }
          ],
          "scattercarpet": [
           {
            "marker": {
             "colorbar": {
              "outlinewidth": 0,
              "ticks": ""
             }
            },
            "type": "scattercarpet"
           }
          ],
          "scattergeo": [
           {
            "marker": {
             "colorbar": {
              "outlinewidth": 0,
              "ticks": ""
             }
            },
            "type": "scattergeo"
           }
          ],
          "scattergl": [
           {
            "marker": {
             "line": {
              "color": "#283442"
             }
            },
            "type": "scattergl"
           }
          ],
          "scattermap": [
           {
            "marker": {
             "colorbar": {
              "outlinewidth": 0,
              "ticks": ""
             }
            },
            "type": "scattermap"
           }
          ],
          "scattermapbox": [
           {
            "marker": {
             "colorbar": {
              "outlinewidth": 0,
              "ticks": ""
             }
            },
            "type": "scattermapbox"
           }
          ],
          "scatterpolar": [
           {
            "marker": {
             "colorbar": {
              "outlinewidth": 0,
              "ticks": ""
             }
            },
            "type": "scatterpolar"
           }
          ],
          "scatterpolargl": [
           {
            "marker": {
             "colorbar": {
              "outlinewidth": 0,
              "ticks": ""
             }
            },
            "type": "scatterpolargl"
           }
          ],
          "scatterternary": [
           {
            "marker": {
             "colorbar": {
              "outlinewidth": 0,
              "ticks": ""
             }
            },
            "type": "scatterternary"
           }
          ],
          "surface": [
           {
            "colorbar": {
             "outlinewidth": 0,
             "ticks": ""
            },
            "colorscale": [
             [
              0,
              "#0d0887"
             ],
             [
              0.1111111111111111,
              "#46039f"
             ],
             [
              0.2222222222222222,
              "#7201a8"
             ],
             [
              0.3333333333333333,
              "#9c179e"
             ],
             [
              0.4444444444444444,
              "#bd3786"
             ],
             [
              0.5555555555555556,
              "#d8576b"
             ],
             [
              0.6666666666666666,
              "#ed7953"
             ],
             [
              0.7777777777777778,
              "#fb9f3a"
             ],
             [
              0.8888888888888888,
              "#fdca26"
             ],
             [
              1,
              "#f0f921"
             ]
            ],
            "type": "surface"
           }
          ],
          "table": [
           {
            "cells": {
             "fill": {
              "color": "#506784"
             },
             "line": {
              "color": "rgb(17,17,17)"
             }
            },
            "header": {
             "fill": {
              "color": "#2a3f5f"
             },
             "line": {
              "color": "rgb(17,17,17)"
             }
            },
            "type": "table"
           }
          ]
         },
         "layout": {
          "annotationdefaults": {
           "arrowcolor": "#f2f5fa",
           "arrowhead": 0,
           "arrowwidth": 1
          },
          "autotypenumbers": "strict",
          "coloraxis": {
           "colorbar": {
            "outlinewidth": 0,
            "ticks": ""
           }
          },
          "colorscale": {
           "diverging": [
            [
             0,
             "#8e0152"
            ],
            [
             0.1,
             "#c51b7d"
            ],
            [
             0.2,
             "#de77ae"
            ],
            [
             0.3,
             "#f1b6da"
            ],
            [
             0.4,
             "#fde0ef"
            ],
            [
             0.5,
             "#f7f7f7"
            ],
            [
             0.6,
             "#e6f5d0"
            ],
            [
             0.7,
             "#b8e186"
            ],
            [
             0.8,
             "#7fbc41"
            ],
            [
             0.9,
             "#4d9221"
            ],
            [
             1,
             "#276419"
            ]
           ],
           "sequential": [
            [
             0,
             "#0d0887"
            ],
            [
             0.1111111111111111,
             "#46039f"
            ],
            [
             0.2222222222222222,
             "#7201a8"
            ],
            [
             0.3333333333333333,
             "#9c179e"
            ],
            [
             0.4444444444444444,
             "#bd3786"
            ],
            [
             0.5555555555555556,
             "#d8576b"
            ],
            [
             0.6666666666666666,
             "#ed7953"
            ],
            [
             0.7777777777777778,
             "#fb9f3a"
            ],
            [
             0.8888888888888888,
             "#fdca26"
            ],
            [
             1,
             "#f0f921"
            ]
           ],
           "sequentialminus": [
            [
             0,
             "#0d0887"
            ],
            [
             0.1111111111111111,
             "#46039f"
            ],
            [
             0.2222222222222222,
             "#7201a8"
            ],
            [
             0.3333333333333333,
             "#9c179e"
            ],
            [
             0.4444444444444444,
             "#bd3786"
            ],
            [
             0.5555555555555556,
             "#d8576b"
            ],
            [
             0.6666666666666666,
             "#ed7953"
            ],
            [
             0.7777777777777778,
             "#fb9f3a"
            ],
            [
             0.8888888888888888,
             "#fdca26"
            ],
            [
             1,
             "#f0f921"
            ]
           ]
          },
          "colorway": [
           "#636efa",
           "#EF553B",
           "#00cc96",
           "#ab63fa",
           "#FFA15A",
           "#19d3f3",
           "#FF6692",
           "#B6E880",
           "#FF97FF",
           "#FECB52"
          ],
          "font": {
           "color": "#f2f5fa"
          },
          "geo": {
           "bgcolor": "rgb(17,17,17)",
           "lakecolor": "rgb(17,17,17)",
           "landcolor": "rgb(17,17,17)",
           "showlakes": true,
           "showland": true,
           "subunitcolor": "#506784"
          },
          "hoverlabel": {
           "align": "left"
          },
          "hovermode": "closest",
          "mapbox": {
           "style": "dark"
          },
          "paper_bgcolor": "rgb(17,17,17)",
          "plot_bgcolor": "rgb(17,17,17)",
          "polar": {
           "angularaxis": {
            "gridcolor": "#506784",
            "linecolor": "#506784",
            "ticks": ""
           },
           "bgcolor": "rgb(17,17,17)",
           "radialaxis": {
            "gridcolor": "#506784",
            "linecolor": "#506784",
            "ticks": ""
           }
          },
          "scene": {
           "xaxis": {
            "backgroundcolor": "rgb(17,17,17)",
            "gridcolor": "#506784",
            "gridwidth": 2,
            "linecolor": "#506784",
            "showbackground": true,
            "ticks": "",
            "zerolinecolor": "#C8D4E3"
           },
           "yaxis": {
            "backgroundcolor": "rgb(17,17,17)",
            "gridcolor": "#506784",
            "gridwidth": 2,
            "linecolor": "#506784",
            "showbackground": true,
            "ticks": "",
            "zerolinecolor": "#C8D4E3"
           },
           "zaxis": {
            "backgroundcolor": "rgb(17,17,17)",
            "gridcolor": "#506784",
            "gridwidth": 2,
            "linecolor": "#506784",
            "showbackground": true,
            "ticks": "",
            "zerolinecolor": "#C8D4E3"
           }
          },
          "shapedefaults": {
           "line": {
            "color": "#f2f5fa"
           }
          },
          "sliderdefaults": {
           "bgcolor": "#C8D4E3",
           "bordercolor": "rgb(17,17,17)",
           "borderwidth": 1,
           "tickwidth": 0
          },
          "ternary": {
           "aaxis": {
            "gridcolor": "#506784",
            "linecolor": "#506784",
            "ticks": ""
           },
           "baxis": {
            "gridcolor": "#506784",
            "linecolor": "#506784",
            "ticks": ""
           },
           "bgcolor": "rgb(17,17,17)",
           "caxis": {
            "gridcolor": "#506784",
            "linecolor": "#506784",
            "ticks": ""
           }
          },
          "title": {
           "x": 0.05
          },
          "updatemenudefaults": {
           "bgcolor": "#506784",
           "borderwidth": 0
          },
          "xaxis": {
           "automargin": true,
           "gridcolor": "#283442",
           "linecolor": "#506784",
           "ticks": "",
           "title": {
            "standoff": 15
           },
           "zerolinecolor": "#283442",
           "zerolinewidth": 2
          },
          "yaxis": {
           "automargin": true,
           "gridcolor": "#283442",
           "linecolor": "#506784",
           "ticks": "",
           "title": {
            "standoff": 15
           },
           "zerolinecolor": "#283442",
           "zerolinewidth": 2
          }
         }
        },
        "title": {
         "text": "Sentiment Proportion and Stock Percentage Change with Forecast"
        },
        "xaxis": {
         "title": {
          "text": "Date"
         }
        },
        "yaxis": {
         "title": {
          "font": {
           "color": "yellow"
          },
          "text": "Standardized Sentiment Proportion"
         }
        },
        "yaxis2": {
         "overlaying": "y",
         "side": "right",
         "title": {
          "font": {
           "color": "yellow"
          },
          "text": "Stock Pct Change"
         }
        }
       }
      }
     },
     "metadata": {},
     "output_type": "display_data"
    }
   ],
   "source": [
    "create_plot(combined_df, forecast_mean_from_start_std, forecast_ci_from_start_std, forecast_index_from_start)"
   ]
  },
  {
   "cell_type": "markdown",
   "metadata": {},
   "source": [
    "Streamlit?"
   ]
  },
  {
   "cell_type": "code",
   "execution_count": null,
   "metadata": {},
   "outputs": [],
   "source": [
    "\"\"\"\n",
    "# Streamlit app\n",
    "st.sidebar.title(\"Predicting Stock Prices by News Sentiment\")\n",
    "ticker = st.sidebar.text_input(\"Enter stock ticker, SBUX?:\", value='SBUX')\n",
    "run_button = st.sidebar.button(\"Run Analysis\")\n",
    "\n",
    "if run_button:\n",
    "    news_df = get_news_data(ticker)\n",
    "    result_df = process_sentiment_data(news_df)\n",
    "\n",
    "    start_date = result_df['DateOnly'].min().strftime('%Y-%m-%d')\n",
    "    end_date = result_df['DateOnly'].max().strftime('%Y-%m-%d')\n",
    "    stock_data = get_stock_data(ticker, start_date, end_date)\n",
    "\n",
    "    combined_df = combine_data(result_df, stock_data)\n",
    "    correlation_pct_change = calculate_correlation(combined_df)\n",
    "\n",
    "    st.write(f\"Pearson correlation between lagged sentiment score and stock percentage change: {correlation_pct_change}\")\n",
    "\n",
    "    forecast_mean, forecast_ci, forecast_index = fit_and_forecast(combined_df, get_future_dates_next_day)\n",
    "\n",
    "    combined_df, forecast_mean, forecast_ci, forecast_index = preprocessing_data(combined_df)\n",
    "    create_plot(combined_df, forecast_mean, forecast_ci, forecast_index)\n",
    "\n",
    "\"\"\""
   ]
  },
  {
   "cell_type": "markdown",
   "metadata": {},
   "source": [
    "# Final Test"
   ]
  },
  {
   "cell_type": "code",
   "execution_count": 6,
   "metadata": {},
   "outputs": [],
   "source": [
    "#############\n",
    "##LIBRARIES##\n",
    "#############\n",
    "\n",
    "import re\n",
    "import math\n",
    "\n",
    "import yfinance as yf\n",
    "from finvizfinance.quote import finvizfinance\n",
    "\n",
    "from statsmodels.tsa.statespace.sarimax import SARIMAX\n",
    "\n",
    "import plotly.graph_objects as go\n",
    "import pandas as pd\n",
    "import numpy as np\n",
    "\n",
    "import holidays\n",
    "\n",
    "from langchain_community.llms import Ollama\n",
    "\n",
    "\n",
    "import streamlit as st\n",
    "\n",
    "llm = Ollama(model='llama3')\n",
    "\n",
    "def classify_sentiment(title):\n",
    "    output = llm.invoke(f\"Classify the sentiment as 'POSITIVE' or 'NEGATIVE' or 'NEUTRAL' with just that one\")\n",
    "    return output.strip()\n",
    "\n",
    "\n",
    "\n",
    "def classify_sentiment_batch(titles):\n",
    "    print(f\"Clasificando {len(titles)} títulos de noticias.\")\n",
    "\n",
    "    prompt = (\n",
    "        \"For each news title below, classify the sentiment as 'POSITIVE', 'NEGATIVE' or 'NEUTRAL'.\\n\"\n",
    "        \"Return exactly one sentiment per title, in the same order as the titles, and NOTHING ELSE.\\n\"\n",
    "        \"Make sure to return exactly the same number of lines as the number of news titles.\\n\"\n",
    "    )\n",
    "\n",
    "    prompt += \"\\n\".join(f\"- {title}\" for title in titles)\n",
    "\n",
    "    output = llm.invoke(prompt)\n",
    "    print(f\"🔹 Respuesta de Ollama:\\n{output}\\n\")\n",
    "\n",
    "    valid_sentiments = {\"POSITIVE\", \"NEGATIVE\", \"NEUTRAL\"}\n",
    "    sentiments = []\n",
    "\n",
    "    for line in output.split(\"\\n\"):\n",
    "        print(\"Otro\")\n",
    "        line = line.strip().upper()\n",
    "\n",
    "        sentiment = next((s for s in valid_sentiments if s in line), None)\n",
    "\n",
    "        if sentiment:\n",
    "            sentiments.append(sentiment)\n",
    "        else:\n",
    "            sentiments.append('NEUTRAL') \n",
    "\n",
    "\n",
    "        \n",
    "        while len(sentiments) < len(titles):\n",
    "            sentiments.append(\"NEUTRAL\")\n",
    "    print(f\"La longitud de los sentiments es {len(sentiments)}\")\n",
    "    print(sentiments)\n",
    "    return sentiments\n",
    "\n",
    "\n",
    "def get_news_ticker(ticker):\n",
    "    stock = finvizfinance(ticker)\n",
    "    news_df = stock.ticker_news()\n",
    "    return news_df\n",
    "\n",
    "# Function to get and process news data\n",
    "def get_news_data(news_df_original):\n",
    "    \n",
    "    news_df =news_df_original.copy()\n",
    "    news_df['Title'] = news_df['Title'].str.lower()\n",
    "\n",
    "\n",
    "    news_df['sentiment'] = classify_sentiment_batch(news_df['Title'].tolist())\n",
    "\n",
    "    news_df_sent = news_df.copy()\n",
    "    news_df_sent = news_df_sent[news_df_sent['sentiment'] != 'NEUTRAL'].copy()\n",
    "\n",
    "    news_df_sent['Date'] = pd.to_datetime(news_df_sent['Date'])\n",
    "    news_df_sent['DateOnly'] = news_df_sent['Date'].dt.date\n",
    "\n",
    "\n",
    "    return news_df_sent\n",
    "\n",
    "\n",
    "# Function to group and process sentiment data\n",
    "def process_sentiment_data(news_df):\n",
    "    \"\"\"\n",
    "    Agrupa las noticias por día de cotización y calcula el sentimiento promedio en los últimos 7 días hábiles.\n",
    "    \"\"\"\n",
    "    print(f\"Procesamos los datos de news_df con columnas: {news_df.columns}\")\n",
    "\n",
    "    grouped = news_df.groupby(['Trading_Day', 'sentiment']).size().unstack(fill_value=0)\n",
    "    grouped = grouped.reindex(columns=['POSITIVE', 'NEGATIVE'], fill_value=0)\n",
    "\n",
    "    print(\"Grouped inicial\")\n",
    "    print(grouped)\n",
    "\n",
    "   \n",
    "    all_trading_days = pd.date_range(start=grouped.index.min(), end=grouped.index.max(), freq='B')\n",
    "    grouped = grouped.reindex(all_trading_days, fill_value=0)\n",
    "\n",
    "    grouped['7day_avg_positive'] = grouped['POSITIVE'].rolling('7D', min_periods=1).sum()\n",
    "    grouped['7day_avg_negative'] = grouped['NEGATIVE'].rolling('7D', min_periods=1).sum()\n",
    "\n",
    "    grouped['7day_pct_positive'] = grouped['POSITIVE'].expanding().sum() / (grouped['POSITIVE'].expanding().sum() + grouped['NEGATIVE'].expanding().sum())\n",
    "\n",
    "    result_df = grouped.reset_index().rename(columns={'index': 'Trading_Day'})\n",
    "\n",
    "    print(\"Final result_df\")\n",
    "    print(result_df)\n",
    "\n",
    "    return result_df\n",
    "\n",
    "# Function to fetch and process stock data\n",
    "def get_stock_data(ticker, start_date, end_date):\n",
    "    stock_data = yf.download(ticker, start=start_date, end=end_date)  \n",
    "    stock_data['Pct_Change'] = stock_data['Close'].pct_change() * 100 \n",
    "    return stock_data\n",
    "\n",
    "\n",
    "#We fill the weekends too\n",
    "def fill_missing_stock_dates(stock_data):\n",
    "    all_dates = pd.date_range(start=stock_data.index.min(), end=stock_data.index.max(), freq=\"D\")\n",
    "    \n",
    "    stock_data = stock_data.reindex(all_dates)\n",
    "    return stock_data\n",
    "\n",
    "\n",
    "\n",
    "def next_trading_day(stock_dates, news_date):\n",
    "    news_date = np.datetime64(news_date) \n",
    "\n",
    "    pos = np.searchsorted(stock_dates, news_date)\n",
    "    if pos == len(stock_dates): \n",
    "        return stock_dates[-1]\n",
    "    \n",
    "    return stock_dates[pos]\n",
    "\n",
    "def trading_day(stock_data, result_df):\n",
    "    stock_dates = np.array(stock_data.index)\n",
    "\n",
    "    result_df['Trading_Day'] = result_df['DateOnly'].apply(lambda date: next_trading_day(stock_dates, date))\n",
    "    return result_df\n",
    "\n",
    "\n",
    "\n",
    "\n",
    "# Function to combine sentiment and stock data\n",
    "def combine_data(result_df, stock_data):\n",
    "    combined_df = result_df.set_index('DateOnly').join(stock_data[['Pct_Change']], how='inner')\n",
    "    combined_df['lagged_7day_pct_positive'] = combined_df['7day_pct_positive'].shift(1)  # Lag sentiment feature\n",
    "\n",
    "    return combined_df\n",
    "\n",
    "# Function to calculate Pearson correlation\n",
    "def calculate_correlation(combined_df):\n",
    "    correlation_pct_change = combined_df[['lagged_7day_pct_positive', 'Pct_Change']].corr().iloc[0, 1]\n",
    "    return correlation_pct_change\n",
    "\n",
    "# Function to get future dates excluding weekends and holidays\n",
    "def get_future_dates(start_date, num_days):\n",
    "    print(\"get future dates\")\n",
    "    us_holidays = holidays.US()\n",
    "    future_dates = []\n",
    "    current_date = start_date\n",
    "\n",
    "    while len(future_dates) < num_days:\n",
    "        if current_date.weekday() < 5 and current_date not in us_holidays:\n",
    "            future_dates.append(current_date)\n",
    "        current_date += pd.Timedelta(days=1)\n",
    "\n",
    "    return future_dates\n",
    "\n",
    "\n",
    "# Function to get future dates excluding weekends or holidays from the next day\n",
    "def get_future_dates_next_day(combined_df, num_days):\n",
    "\n",
    "    print(\"get future dates\")\n",
    "    us_holidays = holidays.US()\n",
    "    future_dates = []\n",
    "\n",
    "\n",
    "    last_real_date = combined_df.dropna(subset=['Pct_Change']).index[-1]\n",
    "    current_date = last_real_date + pd.Timedelta(days=1)\n",
    "\n",
    "    while len(future_dates) < num_days:\n",
    "        if current_date.weekday() < 5 and current_date not in us_holidays:\n",
    "            if current_date not in combined_df.index:\n",
    "                future_dates.append(current_date)\n",
    "        current_date += pd.Timedelta(days=1)\n",
    "\n",
    "    return future_dates\n",
    "\n",
    "\n",
    "\n",
    "def fit_and_forecast(combined_df, function_future_dates=get_future_dates ,forecast_steps=3):\n",
    "    print(\"A predecir\")\n",
    "    endog = combined_df['Pct_Change'].dropna() \n",
    "    exog = combined_df['lagged_7day_pct_positive'].dropna() \n",
    "    print(\"GOING FOR THE ARIMAX MODEL\")\n",
    "    endog = endog.tail(200)\n",
    "    exog = exog.loc[endog.index]  \n",
    "\n",
    "    model = SARIMAX(endog, exog=exog, order=(1, 1, 1))\n",
    "    fit = model.fit(disp=False, maxiter=50) \n",
    "\n",
    "    if function_future_dates == get_future_dates_next_day:\n",
    "        future_dates = function_future_dates(combined_df, forecast_steps)\n",
    "    else:\n",
    "        print(combined_df)\n",
    "        future_dates = function_future_dates(combined_df.index[-1], forecast_steps)\n",
    "    \n",
    "    future_exog = []\n",
    "    for date in future_dates:\n",
    "        if date in combined_df.index:\n",
    "            future_exog.append(combined_df.loc[date, 'lagged_7day_pct_positive'])\n",
    "        else:\n",
    "            future_exog.append(combined_df['lagged_7day_pct_positive'].iloc[-1])\n",
    "    \n",
    "    future_exog = np.array(future_exog).reshape(-1, 1)\n",
    "\n",
    "    forecast = fit.get_forecast(steps=forecast_steps, exog=future_exog)\n",
    "    forecast_mean = forecast.predicted_mean\n",
    "    forecast_ci = forecast.conf_int()\n",
    "\n",
    "    return forecast_mean, forecast_ci, future_dates\n",
    "\n",
    "\n",
    "\n",
    "def preprocessing_data(combined_df):\n",
    "\n",
    "    last_real_date = combined_df.dropna(subset=['Pct_Change']).index[-1]\n",
    "    last_real_value = combined_df['Pct_Change'].dropna().iloc[-1]\n",
    "\n",
    "    forecast_mean_from_start = pd.Series(\n",
    "    [last_real_value] + forecast_mean.tolist(),\n",
    "    index=[last_real_date] + forecast_index\n",
    "    )\n",
    "\n",
    "    forecast_index_from_start = forecast_mean_from_start.index\n",
    "\n",
    "    forecast_mean_from_start = pd.concat([\n",
    "        pd.Series([last_real_value], index=[last_real_date]),\n",
    "        forecast_mean\n",
    "    ])\n",
    "\n",
    "    forecast_ci_first_point = pd.DataFrame({\n",
    "        'lower Pct_Change': [last_real_value], \n",
    "        'upper Pct_Change': [last_real_value]\n",
    "    }, index=[last_real_date])\n",
    "\n",
    "    forecast_ci_from_start = pd.concat([forecast_ci_first_point, forecast_ci])\n",
    "\n",
    "    pct_change_mean = combined_df['Pct_Change'].mean()\n",
    "    pct_change_std = combined_df['Pct_Change'].std()\n",
    "\n",
    "    forecast_mean_from_start_std = (forecast_mean_from_start - pct_change_mean) / pct_change_std\n",
    "\n",
    "    forecast_ci_from_start_std = pd.DataFrame({\n",
    "        'lower Pct_Change': (forecast_ci_from_start['lower Pct_Change'] - pct_change_mean) / pct_change_std,\n",
    "        'upper Pct_Change': (forecast_ci_from_start['upper Pct_Change'] - pct_change_mean) / pct_change_std\n",
    "    }, index=forecast_ci_from_start.index)\n",
    "\n",
    "    return combined_df, forecast_mean_from_start_std, forecast_ci_from_start_std, forecast_index_from_start\n",
    "\n",
    "\n",
    "\n",
    "# Function to create and display plot\n",
    "def create_plot(combined_df, forecast_mean, forecast_ci, forecast_index):\n",
    "\n",
    "\n",
    "    sentiment_std = (combined_df['7day_pct_positive'] - combined_df['7day_pct_positive'].mean()) / combined_df['7day_pct_positive'].std()\n",
    "\n",
    "    pct_change_std = (combined_df['Pct_Change'] - combined_df['Pct_Change'].mean()) / combined_df['Pct_Change'].std()\n",
    "\n",
    "\n",
    "    fig = go.Figure()\n",
    "\n",
    "    fig.add_trace(go.Scatter(\n",
    "        x=combined_df.index,\n",
    "        y=sentiment_std,\n",
    "        name='Standardized Sentiment Proportion',\n",
    "        line=dict(color='blue'),\n",
    "        mode='lines'\n",
    "    ))\n",
    "\n",
    "    fig.add_trace(go.Scatter(\n",
    "        x=combined_df.index,\n",
    "        y=pct_change_std,\n",
    "        name='Stock Pct Change (Standardized)',\n",
    "        line=dict(color='yellow'),\n",
    "        mode='lines+markers'\n",
    "    ))\n",
    "\n",
    "\n",
    "    fig.add_trace(go.Scatter(\n",
    "        x=forecast_index,\n",
    "        y=forecast_mean,\n",
    "        name='Forecasted Stock Pct Change',\n",
    "        line=dict(color='red'),\n",
    "        mode='lines+markers'\n",
    "    ))\n",
    "\n",
    "    fig.add_trace(go.Scatter(\n",
    "        x=np.concatenate([forecast_index, forecast_index[::-1]]),\n",
    "        y=np.concatenate([forecast_ci.iloc[:, 0], forecast_ci.iloc[:, 1][::-1]]),\n",
    "        fill='toself',\n",
    "        fillcolor='rgba(255,0,0,0.2)',\n",
    "        line=dict(color='rgba(255,255,255,0)'),\n",
    "        hoverinfo=\"skip\",\n",
    "        showlegend=False\n",
    "    ))\n",
    "\n",
    "    fig.update_layout(\n",
    "        title='Sentiment Proportion and Stock Percentage Change with Forecast',\n",
    "        xaxis_title='Date',\n",
    "        yaxis=dict(\n",
    "            title=dict(text='Standardized Sentiment Proportion', font=dict(color='yellow'))\n",
    "        ),\n",
    "        yaxis2=dict(\n",
    "            title=dict(text='Stock Pct Change', font=dict(color='yellow')),\n",
    "            overlaying='y',\n",
    "            side='right'\n",
    "        ),\n",
    "        template='plotly_dark'\n",
    "    )\n",
    "\n",
    "\n",
    "    fig.show()"
   ]
  },
  {
   "cell_type": "code",
   "execution_count": 7,
   "metadata": {},
   "outputs": [],
   "source": [
    "def classify_sentiment(title):\n",
    "    output = llm.invoke(f\"Classify the sentiment as 'POSITIVE' or 'NEGATIVE' or 'NEUTRAL' with just that one\")\n",
    "    return output.strip()\n",
    "\n",
    "\n",
    "\n",
    "def classify_sentiment_batch(titles, batch_size = 10):\n",
    "    print(f\"Clasificando {len(titles)} títulos de noticias.\")\n",
    "\n",
    "\n",
    "    valid_sentiments = {\"POSITIVE\", \"NEGATIVE\", \"NEUTRAL\"}\n",
    "    sentiments = [\"NEUTRAL\"] * len(titles)\n",
    "\n",
    "    num_batches = math.ceil(len(titles)/batch_size)\n",
    "\n",
    "    for i in range(num_batches):\n",
    "        print(f\"Batch {i}\")\n",
    "        batch_titles = titles[i * batch_size:(i + 1) * batch_size]\n",
    "\n",
    "        prompt = (\n",
    "            \"For each news title below, classify the sentiment as 'POSITIVE', 'NEGATIVE' or 'NEUTRAL'.\\n\"\n",
    "            \"Return exactly one sentiment per title, and a number with the order of the titles in the same order as the titles, and NOTHING ELSE.\\n\"\n",
    "            \"The answer can only contain a number with the order of the title and the words POSITIVE, NEGATIVE or NEUTRAL.\\n\"\n",
    "            \"Example:\\n\"\n",
    "            \"1 - POSITIVE\\n\"\n",
    "            \"2 - NEGATIVE\\n\"\n",
    "            \"3 - NEUTRAL\\n\"\n",
    "        )\n",
    "\n",
    "        prompt += \"\\n\".join(f\"{idx+1} - {title}\" for idx, title in enumerate(batch_titles))\n",
    "\n",
    "        output = llm.invoke(prompt)\n",
    "        print(f\"🔹 Respuesta de Ollama para el batch {i + 1}/{num_batches}:\\n{output}\\n\")\n",
    "\n",
    "        for line in output.split(\"\\n\"):\n",
    "            line = line.strip().upper()\n",
    "            match = re.match(r\"(\\d+)\\s*-\\s*(POSITIVE|NEGATIVE|NEUTRAL)\", line)\n",
    "            \n",
    "            if match:\n",
    "                index = int(match.group(1)) - 1 + (i * batch_size)  # Convertir a índice global\n",
    "                sentiment = match.group(2)\n",
    "                \n",
    "                if 0 <= index < len(sentiments):  # Verificar que el índice sea válido\n",
    "                    sentiments[index] = sentiment\n",
    "\n",
    "\n",
    "        \n",
    "    while len(sentiments) < len(titles):\n",
    "        sentiments.append(\"NEUTRAL\")\n",
    "        \n",
    "    if len(sentiments) > len(titles):\n",
    "        sentiments = sentiments[:len(titles)]\n",
    "\n",
    "    print(f\"La longitud de los sentiments es {len(sentiments)}\")\n",
    "    print(f\"Classification completed!:\\n{sentiments}\")\n",
    "    return sentiments\n",
    "\n",
    "\n",
    "def get_news_ticker(ticker):\n",
    "    stock = finvizfinance(ticker)\n",
    "    news_df = stock.ticker_news()\n",
    "    return news_df\n",
    "\n",
    "# Function to get and process news data\n",
    "def get_news_data(news_df_original):\n",
    "    \n",
    "    news_df =news_df_original.copy()\n",
    "    news_df['Title'] = news_df['Title'].str.lower()\n",
    "\n",
    "\n",
    "    news_df['sentiment'] = classify_sentiment_batch(news_df['Title'].tolist())\n",
    "\n",
    "    news_df_sent = news_df.copy()\n",
    "    news_df_sent = news_df_sent[news_df_sent['sentiment'] != 'NEUTRAL'].copy()\n",
    "\n",
    "    news_df_sent['Date'] = pd.to_datetime(news_df_sent['Date'])\n",
    "    news_df_sent['DateOnly'] = news_df_sent['Date'].dt.date\n",
    "\n",
    "\n",
    "    return news_df_sent"
   ]
  },
  {
   "cell_type": "code",
   "execution_count": 9,
   "metadata": {},
   "outputs": [],
   "source": [
    "ticker ='SBUX'\n",
    "news_df_original = get_news_ticker(ticker)\n"
   ]
  },
  {
   "cell_type": "code",
   "execution_count": 10,
   "metadata": {},
   "outputs": [
    {
     "name": "stdout",
     "output_type": "stream",
     "text": [
      "Clasificando 100 títulos de noticias.\n",
      "Batch 0\n",
      "🔹 Respuesta de Ollama para el batch 1/10:\n",
      "1 - NEUTRAL\n",
      "2 - POSITIVE\n",
      "3 - NEUTRAL\n",
      "4 - NEGATIVE\n",
      "5 - POSITIVE\n",
      "6 - POSITIVE\n",
      "7 - POSITIVE\n",
      "8 - NEGATIVE\n",
      "9 - NEUTRAL\n",
      "10 - POSITIVE\n",
      "\n",
      "Batch 1\n",
      "🔹 Respuesta de Ollama para el batch 2/10:\n",
      "1 - NEGATIVE\n",
      "2 - POSITIVE\n",
      "3 - NEUTRAL\n",
      "4 - POSITIVE\n",
      "5 - NEUTRAL\n",
      "6 - POSITIVE\n",
      "7 - NEGATIVE\n",
      "8 - POSITIVE\n",
      "9 - NEGATIVE\n",
      "10 - POSITIVE\n",
      "\n",
      "Batch 2\n",
      "🔹 Respuesta de Ollama para el batch 3/10:\n",
      "1 - NEGATIVE\n",
      "2 - NEGATIVE\n",
      "3 - NEUTRAL\n",
      "4 - POSITIVE\n",
      "5 - NEUTRAL\n",
      "6 - NEGATIVE\n",
      "7 - NEGATIVE\n",
      "8 - NEUTRAL\n",
      "9 - POSITIVE\n",
      "10 - NEGATIVE\n",
      "\n",
      "Batch 3\n",
      "🔹 Respuesta de Ollama para el batch 4/10:\n",
      "1 - POSITIVE\n",
      "2 - NEUTRAL\n",
      "3 - NEGATIVE\n",
      "4 - POSITIVE\n",
      "5 - NEGATIVE\n",
      "6 - NEUTRAL\n",
      "7 - POSITIVE\n",
      "8 - NEGATIVE\n",
      "9 - NEUTRAL\n",
      "10 - POSITIVE\n",
      "\n",
      "Batch 4\n",
      "🔹 Respuesta de Ollama para el batch 5/10:\n",
      "1 - NEGATIVE\n",
      "2 - POSITIVE\n",
      "3 - NEUTRAL\n",
      "4 - NEGATIVE\n",
      "5 - NEGATIVE\n",
      "6 - NEUTRAL\n",
      "7 - NEUTRAL\n",
      "8 - NEGATIVE\n",
      "9 - NEGATIVE\n",
      "10 - POSITIVE\n",
      "\n",
      "Batch 5\n",
      "🔹 Respuesta de Ollama para el batch 6/10:\n",
      "1 - NEGATIVE\n",
      "2 - POSITIVE\n",
      "3 - NEUTRAL\n",
      "4 - NEUTRAL\n",
      "5 - NEUTRAL\n",
      "6 - NEGATIVE\n",
      "7 - NEGATIVE\n",
      "8 - NEGATIVE\n",
      "9 - POSITIVE\n",
      "10 - POSITIVE\n",
      "\n",
      "Batch 6\n",
      "🔹 Respuesta de Ollama para el batch 7/10:\n",
      "1 - NEGATIVE\n",
      "2 - NEUTRAL\n",
      "3 - POSITIVE\n",
      "4 - NEGATIVE\n",
      "5 - POSITIVE\n",
      "6 - NEGATIVE\n",
      "7 - NEUTRAL\n",
      "8 - NEUTRAL\n",
      "9 - POSITIVE\n",
      "10 - POSITIVE\n",
      "\n",
      "Batch 7\n",
      "🔹 Respuesta de Ollama para el batch 8/10:\n",
      "Here are the sentiment classifications:\n",
      "\n",
      "1 - POSITIVE\n",
      "2 - POSITIVE\n",
      "3 - NEGATIVE\n",
      "4 - POSITIVE\n",
      "5 - NEUTRAL\n",
      "6 - NEGATIVE\n",
      "7 - NEGATIVE\n",
      "8 - POSITIVE\n",
      "9 - NEUTRAL\n",
      "10 - POSITIVE\n",
      "\n",
      "Batch 8\n",
      "🔹 Respuesta de Ollama para el batch 9/10:\n",
      "1 - POSITIVE\n",
      "2 - NEUTRAL\n",
      "3 - NEUTRAL\n",
      "4 - POSITIVE\n",
      "5 - NEUTRAL\n",
      "6 - POSITIVE\n",
      "7 - NEGATIVE\n",
      "8 - POSITIVE\n",
      "9 - NEUTRAL\n",
      "10 - NEUTRAL\n",
      "\n",
      "Batch 9\n",
      "🔹 Respuesta de Ollama para el batch 10/10:\n",
      "1 - POSITIVE\n",
      "2 - NEUTRAL\n",
      "3 - NEUTRAL\n",
      "4 - POSITIVE\n",
      "5 - NEGATIVE\n",
      "6 - NEGATIVE\n",
      "7 - NEUTRAL\n",
      "8 - NEGATIVE\n",
      "9 - POSITIVE\n",
      "10 - NEUTRAL\n",
      "\n",
      "La longitud de los sentiments es 100\n",
      "Classification completed!:\n",
      "['NEUTRAL', 'POSITIVE', 'NEUTRAL', 'NEGATIVE', 'POSITIVE', 'POSITIVE', 'POSITIVE', 'NEGATIVE', 'NEUTRAL', 'POSITIVE', 'NEGATIVE', 'POSITIVE', 'NEUTRAL', 'POSITIVE', 'NEUTRAL', 'POSITIVE', 'NEGATIVE', 'POSITIVE', 'NEGATIVE', 'POSITIVE', 'NEGATIVE', 'NEGATIVE', 'NEUTRAL', 'POSITIVE', 'NEUTRAL', 'NEGATIVE', 'NEGATIVE', 'NEUTRAL', 'POSITIVE', 'NEGATIVE', 'POSITIVE', 'NEUTRAL', 'NEGATIVE', 'POSITIVE', 'NEGATIVE', 'NEUTRAL', 'POSITIVE', 'NEGATIVE', 'NEUTRAL', 'POSITIVE', 'NEGATIVE', 'POSITIVE', 'NEUTRAL', 'NEGATIVE', 'NEGATIVE', 'NEUTRAL', 'NEUTRAL', 'NEGATIVE', 'NEGATIVE', 'POSITIVE', 'NEGATIVE', 'POSITIVE', 'NEUTRAL', 'NEUTRAL', 'NEUTRAL', 'NEGATIVE', 'NEGATIVE', 'NEGATIVE', 'POSITIVE', 'POSITIVE', 'NEGATIVE', 'NEUTRAL', 'POSITIVE', 'NEGATIVE', 'POSITIVE', 'NEGATIVE', 'NEUTRAL', 'NEUTRAL', 'POSITIVE', 'POSITIVE', 'POSITIVE', 'POSITIVE', 'NEGATIVE', 'POSITIVE', 'NEUTRAL', 'NEGATIVE', 'NEGATIVE', 'POSITIVE', 'NEUTRAL', 'POSITIVE', 'POSITIVE', 'NEUTRAL', 'NEUTRAL', 'POSITIVE', 'NEUTRAL', 'POSITIVE', 'NEGATIVE', 'POSITIVE', 'NEUTRAL', 'NEUTRAL', 'POSITIVE', 'NEUTRAL', 'NEUTRAL', 'POSITIVE', 'NEGATIVE', 'NEGATIVE', 'NEUTRAL', 'NEGATIVE', 'POSITIVE', 'NEUTRAL']\n"
     ]
    }
   ],
   "source": [
    "news_df = get_news_data(news_df_original)"
   ]
  },
  {
   "cell_type": "code",
   "execution_count": 11,
   "metadata": {},
   "outputs": [
    {
     "data": {
      "text/html": [
       "<div>\n",
       "<style scoped>\n",
       "    .dataframe tbody tr th:only-of-type {\n",
       "        vertical-align: middle;\n",
       "    }\n",
       "\n",
       "    .dataframe tbody tr th {\n",
       "        vertical-align: top;\n",
       "    }\n",
       "\n",
       "    .dataframe thead th {\n",
       "        text-align: right;\n",
       "    }\n",
       "</style>\n",
       "<table border=\"1\" class=\"dataframe\">\n",
       "  <thead>\n",
       "    <tr style=\"text-align: right;\">\n",
       "      <th></th>\n",
       "      <th>Date</th>\n",
       "      <th>Title</th>\n",
       "      <th>Link</th>\n",
       "      <th>Source</th>\n",
       "      <th>sentiment</th>\n",
       "      <th>DateOnly</th>\n",
       "    </tr>\n",
       "  </thead>\n",
       "  <tbody>\n",
       "    <tr>\n",
       "      <th>1</th>\n",
       "      <td>2025-02-20 21:00:00</td>\n",
       "      <td>smaller menus, better vibes: how starbuckss ce...</td>\n",
       "      <td>https://finance.yahoo.com/m/3d366a5e-a0a4-3087...</td>\n",
       "      <td>The Wall Street Journal</td>\n",
       "      <td>POSITIVE</td>\n",
       "      <td>2025-02-20</td>\n",
       "    </tr>\n",
       "    <tr>\n",
       "      <th>3</th>\n",
       "      <td>2025-02-20 09:49:00</td>\n",
       "      <td>starbucks hoped mobile orders and the drive-th...</td>\n",
       "      <td>https://finance.yahoo.com/news/starbucks-hoped...</td>\n",
       "      <td>Fortune</td>\n",
       "      <td>NEGATIVE</td>\n",
       "      <td>2025-02-20</td>\n",
       "    </tr>\n",
       "    <tr>\n",
       "      <th>4</th>\n",
       "      <td>2025-02-20 09:45:00</td>\n",
       "      <td>these were the 5 top-performing stocks in the ...</td>\n",
       "      <td>https://finance.yahoo.com/m/c242fba6-9817-3913...</td>\n",
       "      <td>Motley Fool</td>\n",
       "      <td>POSITIVE</td>\n",
       "      <td>2025-02-20</td>\n",
       "    </tr>\n",
       "    <tr>\n",
       "      <th>5</th>\n",
       "      <td>2025-02-20 00:01:00</td>\n",
       "      <td>starbucks ceo tells us his plan to turn around...</td>\n",
       "      <td>https://finance.yahoo.com/m/2bfaf6ce-4259-35ae...</td>\n",
       "      <td>The Wall Street Journal</td>\n",
       "      <td>POSITIVE</td>\n",
       "      <td>2025-02-20</td>\n",
       "    </tr>\n",
       "    <tr>\n",
       "      <th>6</th>\n",
       "      <td>2025-02-20 00:01:00</td>\n",
       "      <td>how ceo brian niccol aims to fix starbucks</td>\n",
       "      <td>https://finance.yahoo.com/video/ceo-brian-nicc...</td>\n",
       "      <td>WSJ</td>\n",
       "      <td>POSITIVE</td>\n",
       "      <td>2025-02-20</td>\n",
       "    </tr>\n",
       "    <tr>\n",
       "      <th>...</th>\n",
       "      <td>...</td>\n",
       "      <td>...</td>\n",
       "      <td>...</td>\n",
       "      <td>...</td>\n",
       "      <td>...</td>\n",
       "      <td>...</td>\n",
       "    </tr>\n",
       "    <tr>\n",
       "      <th>93</th>\n",
       "      <td>2025-01-30 14:28:00</td>\n",
       "      <td>starbucks stock perks up as new ceo pours expe...</td>\n",
       "      <td>https://finance.yahoo.com/m/f1718684-6105-3a94...</td>\n",
       "      <td>Investor's Business Daily</td>\n",
       "      <td>POSITIVE</td>\n",
       "      <td>2025-01-30</td>\n",
       "    </tr>\n",
       "    <tr>\n",
       "      <th>94</th>\n",
       "      <td>2025-01-30 13:51:00</td>\n",
       "      <td>epic construction site in the saudi desert is ...</td>\n",
       "      <td>https://finance.yahoo.com/m/54bd398b-08ea-3127...</td>\n",
       "      <td>The Wall Street Journal</td>\n",
       "      <td>NEGATIVE</td>\n",
       "      <td>2025-01-30</td>\n",
       "    </tr>\n",
       "    <tr>\n",
       "      <th>95</th>\n",
       "      <td>2025-01-30 13:32:00</td>\n",
       "      <td>starbucks would rather close down stores than ...</td>\n",
       "      <td>https://finance.yahoo.com/news/starbucks-ceo-r...</td>\n",
       "      <td>Quartz</td>\n",
       "      <td>NEGATIVE</td>\n",
       "      <td>2025-01-30</td>\n",
       "    </tr>\n",
       "    <tr>\n",
       "      <th>97</th>\n",
       "      <td>2025-01-30 12:23:00</td>\n",
       "      <td>starbucks ceo would rather close down stores t...</td>\n",
       "      <td>https://qz.com/starbucks-ceo-brian-niccol-open...</td>\n",
       "      <td>Quartz</td>\n",
       "      <td>NEGATIVE</td>\n",
       "      <td>2025-01-30</td>\n",
       "    </tr>\n",
       "    <tr>\n",
       "      <th>98</th>\n",
       "      <td>2025-01-30 11:40:00</td>\n",
       "      <td>u.s. gdp grew 2.5% in 2024</td>\n",
       "      <td>https://finance.yahoo.com/m/10e7ecea-d897-39e0...</td>\n",
       "      <td>The Wall Street Journal</td>\n",
       "      <td>POSITIVE</td>\n",
       "      <td>2025-01-30</td>\n",
       "    </tr>\n",
       "  </tbody>\n",
       "</table>\n",
       "<p>69 rows × 6 columns</p>\n",
       "</div>"
      ],
      "text/plain": [
       "                  Date                                              Title  \\\n",
       "1  2025-02-20 21:00:00  smaller menus, better vibes: how starbuckss ce...   \n",
       "3  2025-02-20 09:49:00  starbucks hoped mobile orders and the drive-th...   \n",
       "4  2025-02-20 09:45:00  these were the 5 top-performing stocks in the ...   \n",
       "5  2025-02-20 00:01:00  starbucks ceo tells us his plan to turn around...   \n",
       "6  2025-02-20 00:01:00         how ceo brian niccol aims to fix starbucks   \n",
       "..                 ...                                                ...   \n",
       "93 2025-01-30 14:28:00  starbucks stock perks up as new ceo pours expe...   \n",
       "94 2025-01-30 13:51:00  epic construction site in the saudi desert is ...   \n",
       "95 2025-01-30 13:32:00  starbucks would rather close down stores than ...   \n",
       "97 2025-01-30 12:23:00  starbucks ceo would rather close down stores t...   \n",
       "98 2025-01-30 11:40:00                         u.s. gdp grew 2.5% in 2024   \n",
       "\n",
       "                                                 Link  \\\n",
       "1   https://finance.yahoo.com/m/3d366a5e-a0a4-3087...   \n",
       "3   https://finance.yahoo.com/news/starbucks-hoped...   \n",
       "4   https://finance.yahoo.com/m/c242fba6-9817-3913...   \n",
       "5   https://finance.yahoo.com/m/2bfaf6ce-4259-35ae...   \n",
       "6   https://finance.yahoo.com/video/ceo-brian-nicc...   \n",
       "..                                                ...   \n",
       "93  https://finance.yahoo.com/m/f1718684-6105-3a94...   \n",
       "94  https://finance.yahoo.com/m/54bd398b-08ea-3127...   \n",
       "95  https://finance.yahoo.com/news/starbucks-ceo-r...   \n",
       "97  https://qz.com/starbucks-ceo-brian-niccol-open...   \n",
       "98  https://finance.yahoo.com/m/10e7ecea-d897-39e0...   \n",
       "\n",
       "                       Source sentiment    DateOnly  \n",
       "1     The Wall Street Journal  POSITIVE  2025-02-20  \n",
       "3                     Fortune  NEGATIVE  2025-02-20  \n",
       "4                 Motley Fool  POSITIVE  2025-02-20  \n",
       "5     The Wall Street Journal  POSITIVE  2025-02-20  \n",
       "6                         WSJ  POSITIVE  2025-02-20  \n",
       "..                        ...       ...         ...  \n",
       "93  Investor's Business Daily  POSITIVE  2025-01-30  \n",
       "94    The Wall Street Journal  NEGATIVE  2025-01-30  \n",
       "95                     Quartz  NEGATIVE  2025-01-30  \n",
       "97                     Quartz  NEGATIVE  2025-01-30  \n",
       "98    The Wall Street Journal  POSITIVE  2025-01-30  \n",
       "\n",
       "[69 rows x 6 columns]"
      ]
     },
     "execution_count": 11,
     "metadata": {},
     "output_type": "execute_result"
    }
   ],
   "source": [
    "news_df"
   ]
  },
  {
   "cell_type": "code",
   "execution_count": 135,
   "metadata": {},
   "outputs": [
    {
     "name": "stderr",
     "output_type": "stream",
     "text": [
      "[*********************100%***********************]  1 of 1 completed\n"
     ]
    }
   ],
   "source": [
    "start_date = news_df['DateOnly'].min().strftime('%Y-%m-%d')\n",
    "end_date = news_df['DateOnly'].max().strftime('%Y-%m-%d')\n",
    "\n",
    "stock_data = get_stock_data(ticker, start_date, end_date)"
   ]
  },
  {
   "cell_type": "code",
   "execution_count": 136,
   "metadata": {},
   "outputs": [
    {
     "data": {
      "text/html": [
       "<div>\n",
       "<style scoped>\n",
       "    .dataframe tbody tr th:only-of-type {\n",
       "        vertical-align: middle;\n",
       "    }\n",
       "\n",
       "    .dataframe tbody tr th {\n",
       "        vertical-align: top;\n",
       "    }\n",
       "\n",
       "    .dataframe thead tr th {\n",
       "        text-align: left;\n",
       "    }\n",
       "\n",
       "    .dataframe thead tr:last-of-type th {\n",
       "        text-align: right;\n",
       "    }\n",
       "</style>\n",
       "<table border=\"1\" class=\"dataframe\">\n",
       "  <thead>\n",
       "    <tr>\n",
       "      <th>Price</th>\n",
       "      <th>Close</th>\n",
       "      <th>High</th>\n",
       "      <th>Low</th>\n",
       "      <th>Open</th>\n",
       "      <th>Volume</th>\n",
       "      <th>Pct_Change</th>\n",
       "    </tr>\n",
       "    <tr>\n",
       "      <th>Ticker</th>\n",
       "      <th>SBUX</th>\n",
       "      <th>SBUX</th>\n",
       "      <th>SBUX</th>\n",
       "      <th>SBUX</th>\n",
       "      <th>SBUX</th>\n",
       "      <th></th>\n",
       "    </tr>\n",
       "    <tr>\n",
       "      <th>Date</th>\n",
       "      <th></th>\n",
       "      <th></th>\n",
       "      <th></th>\n",
       "      <th></th>\n",
       "      <th></th>\n",
       "      <th></th>\n",
       "    </tr>\n",
       "  </thead>\n",
       "  <tbody>\n",
       "    <tr>\n",
       "      <th>2025-01-30</th>\n",
       "      <td>108.411598</td>\n",
       "      <td>109.744361</td>\n",
       "      <td>107.446833</td>\n",
       "      <td>108.411598</td>\n",
       "      <td>15023000</td>\n",
       "      <td>NaN</td>\n",
       "    </tr>\n",
       "    <tr>\n",
       "      <th>2025-01-31</th>\n",
       "      <td>107.098724</td>\n",
       "      <td>108.769656</td>\n",
       "      <td>106.919696</td>\n",
       "      <td>108.411598</td>\n",
       "      <td>19142500</td>\n",
       "      <td>-1.211009</td>\n",
       "    </tr>\n",
       "    <tr>\n",
       "      <th>2025-02-03</th>\n",
       "      <td>107.576134</td>\n",
       "      <td>107.854621</td>\n",
       "      <td>104.950378</td>\n",
       "      <td>105.149303</td>\n",
       "      <td>8894100</td>\n",
       "      <td>0.445766</td>\n",
       "    </tr>\n",
       "    <tr>\n",
       "      <th>2025-02-04</th>\n",
       "      <td>110.002953</td>\n",
       "      <td>110.470417</td>\n",
       "      <td>107.546285</td>\n",
       "      <td>108.083371</td>\n",
       "      <td>11123700</td>\n",
       "      <td>2.255908</td>\n",
       "    </tr>\n",
       "    <tr>\n",
       "      <th>2025-02-05</th>\n",
       "      <td>111.644051</td>\n",
       "      <td>111.813131</td>\n",
       "      <td>109.266953</td>\n",
       "      <td>109.585225</td>\n",
       "      <td>12826000</td>\n",
       "      <td>1.491867</td>\n",
       "    </tr>\n",
       "  </tbody>\n",
       "</table>\n",
       "</div>"
      ],
      "text/plain": [
       "Price            Close        High         Low        Open    Volume  \\\n",
       "Ticker            SBUX        SBUX        SBUX        SBUX      SBUX   \n",
       "Date                                                                   \n",
       "2025-01-30  108.411598  109.744361  107.446833  108.411598  15023000   \n",
       "2025-01-31  107.098724  108.769656  106.919696  108.411598  19142500   \n",
       "2025-02-03  107.576134  107.854621  104.950378  105.149303   8894100   \n",
       "2025-02-04  110.002953  110.470417  107.546285  108.083371  11123700   \n",
       "2025-02-05  111.644051  111.813131  109.266953  109.585225  12826000   \n",
       "\n",
       "Price      Pct_Change  \n",
       "Ticker                 \n",
       "Date                   \n",
       "2025-01-30        NaN  \n",
       "2025-01-31  -1.211009  \n",
       "2025-02-03   0.445766  \n",
       "2025-02-04   2.255908  \n",
       "2025-02-05   1.491867  "
      ]
     },
     "execution_count": 136,
     "metadata": {},
     "output_type": "execute_result"
    }
   ],
   "source": [
    "stock_data.head()"
   ]
  },
  {
   "cell_type": "code",
   "execution_count": 137,
   "metadata": {},
   "outputs": [
    {
     "data": {
      "text/plain": [
       "MultiIndex([(     'Close', 'SBUX'),\n",
       "            (      'High', 'SBUX'),\n",
       "            (       'Low', 'SBUX'),\n",
       "            (      'Open', 'SBUX'),\n",
       "            (    'Volume', 'SBUX'),\n",
       "            ('Pct_Change',     '')],\n",
       "           names=['Price', 'Ticker'])"
      ]
     },
     "execution_count": 137,
     "metadata": {},
     "output_type": "execute_result"
    }
   ],
   "source": [
    "stock_data.columns"
   ]
  },
  {
   "cell_type": "code",
   "execution_count": 138,
   "metadata": {},
   "outputs": [],
   "source": [
    "#We fill the weekends too\n",
    "def fill_missing_stock_dates(stock_data):\n",
    "    all_dates = pd.date_range(start=stock_data.index.min(), end=stock_data.index.max(), freq=\"D\")\n",
    "    \n",
    "    stock_data = stock_data.reindex(all_dates)\n",
    "    return stock_data"
   ]
  },
  {
   "cell_type": "code",
   "execution_count": 139,
   "metadata": {},
   "outputs": [],
   "source": [
    "stock_data = fill_missing_stock_dates(stock_data)"
   ]
  },
  {
   "cell_type": "code",
   "execution_count": 140,
   "metadata": {},
   "outputs": [
    {
     "data": {
      "text/html": [
       "<div>\n",
       "<style scoped>\n",
       "    .dataframe tbody tr th:only-of-type {\n",
       "        vertical-align: middle;\n",
       "    }\n",
       "\n",
       "    .dataframe tbody tr th {\n",
       "        vertical-align: top;\n",
       "    }\n",
       "\n",
       "    .dataframe thead tr th {\n",
       "        text-align: left;\n",
       "    }\n",
       "</style>\n",
       "<table border=\"1\" class=\"dataframe\">\n",
       "  <thead>\n",
       "    <tr>\n",
       "      <th>Price</th>\n",
       "      <th>Close</th>\n",
       "      <th>High</th>\n",
       "      <th>Low</th>\n",
       "      <th>Open</th>\n",
       "      <th>Volume</th>\n",
       "      <th>Pct_Change</th>\n",
       "    </tr>\n",
       "    <tr>\n",
       "      <th>Ticker</th>\n",
       "      <th>SBUX</th>\n",
       "      <th>SBUX</th>\n",
       "      <th>SBUX</th>\n",
       "      <th>SBUX</th>\n",
       "      <th>SBUX</th>\n",
       "      <th></th>\n",
       "    </tr>\n",
       "  </thead>\n",
       "  <tbody>\n",
       "    <tr>\n",
       "      <th>2025-01-30</th>\n",
       "      <td>108.411598</td>\n",
       "      <td>109.744361</td>\n",
       "      <td>107.446833</td>\n",
       "      <td>108.411598</td>\n",
       "      <td>15023000.0</td>\n",
       "      <td>NaN</td>\n",
       "    </tr>\n",
       "    <tr>\n",
       "      <th>2025-01-31</th>\n",
       "      <td>107.098724</td>\n",
       "      <td>108.769656</td>\n",
       "      <td>106.919696</td>\n",
       "      <td>108.411598</td>\n",
       "      <td>19142500.0</td>\n",
       "      <td>-1.211009</td>\n",
       "    </tr>\n",
       "    <tr>\n",
       "      <th>2025-02-01</th>\n",
       "      <td>NaN</td>\n",
       "      <td>NaN</td>\n",
       "      <td>NaN</td>\n",
       "      <td>NaN</td>\n",
       "      <td>NaN</td>\n",
       "      <td>NaN</td>\n",
       "    </tr>\n",
       "    <tr>\n",
       "      <th>2025-02-02</th>\n",
       "      <td>NaN</td>\n",
       "      <td>NaN</td>\n",
       "      <td>NaN</td>\n",
       "      <td>NaN</td>\n",
       "      <td>NaN</td>\n",
       "      <td>NaN</td>\n",
       "    </tr>\n",
       "    <tr>\n",
       "      <th>2025-02-03</th>\n",
       "      <td>107.576134</td>\n",
       "      <td>107.854621</td>\n",
       "      <td>104.950378</td>\n",
       "      <td>105.149303</td>\n",
       "      <td>8894100.0</td>\n",
       "      <td>0.445766</td>\n",
       "    </tr>\n",
       "  </tbody>\n",
       "</table>\n",
       "</div>"
      ],
      "text/plain": [
       "Price            Close        High         Low        Open      Volume  \\\n",
       "Ticker            SBUX        SBUX        SBUX        SBUX        SBUX   \n",
       "2025-01-30  108.411598  109.744361  107.446833  108.411598  15023000.0   \n",
       "2025-01-31  107.098724  108.769656  106.919696  108.411598  19142500.0   \n",
       "2025-02-01         NaN         NaN         NaN         NaN         NaN   \n",
       "2025-02-02         NaN         NaN         NaN         NaN         NaN   \n",
       "2025-02-03  107.576134  107.854621  104.950378  105.149303   8894100.0   \n",
       "\n",
       "Price      Pct_Change  \n",
       "Ticker                 \n",
       "2025-01-30        NaN  \n",
       "2025-01-31  -1.211009  \n",
       "2025-02-01        NaN  \n",
       "2025-02-02        NaN  \n",
       "2025-02-03   0.445766  "
      ]
     },
     "execution_count": 140,
     "metadata": {},
     "output_type": "execute_result"
    }
   ],
   "source": [
    "stock_data.head()"
   ]
  },
  {
   "cell_type": "code",
   "execution_count": 141,
   "metadata": {},
   "outputs": [],
   "source": [
    "news_df = trading_day(stock_data, news_df)"
   ]
  },
  {
   "cell_type": "code",
   "execution_count": 142,
   "metadata": {},
   "outputs": [
    {
     "name": "stdout",
     "output_type": "stream",
     "text": [
      "Procesamos los datos de news_df con columnas: Index(['Date', 'Title', 'Link', 'Source', 'sentiment', 'DateOnly',\n",
      "       'Trading_Day'],\n",
      "      dtype='object')\n",
      "Grouped inicial\n",
      "sentiment    POSITIVE  NEGATIVE\n",
      "Trading_Day                    \n",
      "2025-01-30          2         3\n",
      "2025-01-31          5         1\n",
      "2025-02-01          2         0\n",
      "2025-02-02          0         2\n",
      "2025-02-03          2         1\n",
      "2025-02-04          4         2\n",
      "2025-02-05          3         3\n",
      "2025-02-06          2         2\n",
      "2025-02-07          0         2\n",
      "2025-02-08          0         2\n",
      "2025-02-09          1         1\n",
      "2025-02-10          3         2\n",
      "2025-02-11          2         2\n",
      "2025-02-12          1         2\n",
      "2025-02-13          0         2\n",
      "2025-02-14          2         2\n",
      "2025-02-16          1         0\n",
      "2025-02-17          1         0\n",
      "2025-02-19          6         3\n",
      "Final result_df\n",
      "sentiment Trading_Day  POSITIVE  NEGATIVE  7day_avg_positive  \\\n",
      "0          2025-01-30         2         3                2.0   \n",
      "1          2025-01-31         5         1                7.0   \n",
      "2          2025-02-03         2         1                9.0   \n",
      "3          2025-02-04         4         2               13.0   \n",
      "4          2025-02-05         3         3               16.0   \n",
      "5          2025-02-06         2         2               16.0   \n",
      "6          2025-02-07         0         2               11.0   \n",
      "7          2025-02-10         3         2               12.0   \n",
      "8          2025-02-11         2         2               10.0   \n",
      "9          2025-02-12         1         2                8.0   \n",
      "10         2025-02-13         0         2                6.0   \n",
      "11         2025-02-14         2         2                8.0   \n",
      "12         2025-02-17         1         0                6.0   \n",
      "13         2025-02-18         0         0                4.0   \n",
      "14         2025-02-19         6         3                9.0   \n",
      "\n",
      "sentiment  7day_avg_negative  7day_pct_positive  \n",
      "0                        3.0           0.400000  \n",
      "1                        4.0           0.636364  \n",
      "2                        5.0           0.642857  \n",
      "3                        7.0           0.650000  \n",
      "4                       10.0           0.615385  \n",
      "5                        9.0           0.600000  \n",
      "6                       10.0           0.562500  \n",
      "7                       11.0           0.567568  \n",
      "8                       11.0           0.560976  \n",
      "9                       10.0           0.545455  \n",
      "10                      10.0           0.521739  \n",
      "11                      10.0           0.520000  \n",
      "12                       8.0           0.529412  \n",
      "13                       6.0           0.529412  \n",
      "14                       7.0           0.550000  \n"
     ]
    }
   ],
   "source": [
    "result_df = process_sentiment_data(news_df)"
   ]
  },
  {
   "cell_type": "code",
   "execution_count": 143,
   "metadata": {},
   "outputs": [
    {
     "data": {
      "text/html": [
       "<div>\n",
       "<style scoped>\n",
       "    .dataframe tbody tr th:only-of-type {\n",
       "        vertical-align: middle;\n",
       "    }\n",
       "\n",
       "    .dataframe tbody tr th {\n",
       "        vertical-align: top;\n",
       "    }\n",
       "\n",
       "    .dataframe thead th {\n",
       "        text-align: right;\n",
       "    }\n",
       "</style>\n",
       "<table border=\"1\" class=\"dataframe\">\n",
       "  <thead>\n",
       "    <tr style=\"text-align: right;\">\n",
       "      <th>sentiment</th>\n",
       "      <th>Trading_Day</th>\n",
       "      <th>POSITIVE</th>\n",
       "      <th>NEGATIVE</th>\n",
       "      <th>7day_avg_positive</th>\n",
       "      <th>7day_avg_negative</th>\n",
       "      <th>7day_pct_positive</th>\n",
       "    </tr>\n",
       "  </thead>\n",
       "  <tbody>\n",
       "    <tr>\n",
       "      <th>0</th>\n",
       "      <td>2025-01-30</td>\n",
       "      <td>2</td>\n",
       "      <td>3</td>\n",
       "      <td>2.0</td>\n",
       "      <td>3.0</td>\n",
       "      <td>0.400000</td>\n",
       "    </tr>\n",
       "    <tr>\n",
       "      <th>1</th>\n",
       "      <td>2025-01-31</td>\n",
       "      <td>5</td>\n",
       "      <td>1</td>\n",
       "      <td>7.0</td>\n",
       "      <td>4.0</td>\n",
       "      <td>0.636364</td>\n",
       "    </tr>\n",
       "    <tr>\n",
       "      <th>2</th>\n",
       "      <td>2025-02-03</td>\n",
       "      <td>2</td>\n",
       "      <td>1</td>\n",
       "      <td>9.0</td>\n",
       "      <td>5.0</td>\n",
       "      <td>0.642857</td>\n",
       "    </tr>\n",
       "    <tr>\n",
       "      <th>3</th>\n",
       "      <td>2025-02-04</td>\n",
       "      <td>4</td>\n",
       "      <td>2</td>\n",
       "      <td>13.0</td>\n",
       "      <td>7.0</td>\n",
       "      <td>0.650000</td>\n",
       "    </tr>\n",
       "    <tr>\n",
       "      <th>4</th>\n",
       "      <td>2025-02-05</td>\n",
       "      <td>3</td>\n",
       "      <td>3</td>\n",
       "      <td>16.0</td>\n",
       "      <td>10.0</td>\n",
       "      <td>0.615385</td>\n",
       "    </tr>\n",
       "  </tbody>\n",
       "</table>\n",
       "</div>"
      ],
      "text/plain": [
       "sentiment Trading_Day  POSITIVE  NEGATIVE  7day_avg_positive  \\\n",
       "0          2025-01-30         2         3                2.0   \n",
       "1          2025-01-31         5         1                7.0   \n",
       "2          2025-02-03         2         1                9.0   \n",
       "3          2025-02-04         4         2               13.0   \n",
       "4          2025-02-05         3         3               16.0   \n",
       "\n",
       "sentiment  7day_avg_negative  7day_pct_positive  \n",
       "0                        3.0           0.400000  \n",
       "1                        4.0           0.636364  \n",
       "2                        5.0           0.642857  \n",
       "3                        7.0           0.650000  \n",
       "4                       10.0           0.615385  "
      ]
     },
     "execution_count": 143,
     "metadata": {},
     "output_type": "execute_result"
    }
   ],
   "source": [
    "result_df.head()"
   ]
  },
  {
   "cell_type": "code",
   "execution_count": 144,
   "metadata": {},
   "outputs": [
    {
     "data": {
      "text/html": [
       "<div>\n",
       "<style scoped>\n",
       "    .dataframe tbody tr th:only-of-type {\n",
       "        vertical-align: middle;\n",
       "    }\n",
       "\n",
       "    .dataframe tbody tr th {\n",
       "        vertical-align: top;\n",
       "    }\n",
       "\n",
       "    .dataframe thead tr th {\n",
       "        text-align: left;\n",
       "    }\n",
       "</style>\n",
       "<table border=\"1\" class=\"dataframe\">\n",
       "  <thead>\n",
       "    <tr>\n",
       "      <th>Price</th>\n",
       "      <th>Close</th>\n",
       "      <th>High</th>\n",
       "      <th>Low</th>\n",
       "      <th>Open</th>\n",
       "      <th>Volume</th>\n",
       "      <th>Pct_Change</th>\n",
       "    </tr>\n",
       "    <tr>\n",
       "      <th>Ticker</th>\n",
       "      <th>SBUX</th>\n",
       "      <th>SBUX</th>\n",
       "      <th>SBUX</th>\n",
       "      <th>SBUX</th>\n",
       "      <th>SBUX</th>\n",
       "      <th></th>\n",
       "    </tr>\n",
       "  </thead>\n",
       "  <tbody>\n",
       "    <tr>\n",
       "      <th>2025-01-30</th>\n",
       "      <td>108.411598</td>\n",
       "      <td>109.744361</td>\n",
       "      <td>107.446833</td>\n",
       "      <td>108.411598</td>\n",
       "      <td>15023000.0</td>\n",
       "      <td>NaN</td>\n",
       "    </tr>\n",
       "    <tr>\n",
       "      <th>2025-01-31</th>\n",
       "      <td>107.098724</td>\n",
       "      <td>108.769656</td>\n",
       "      <td>106.919696</td>\n",
       "      <td>108.411598</td>\n",
       "      <td>19142500.0</td>\n",
       "      <td>-1.211009</td>\n",
       "    </tr>\n",
       "    <tr>\n",
       "      <th>2025-02-01</th>\n",
       "      <td>NaN</td>\n",
       "      <td>NaN</td>\n",
       "      <td>NaN</td>\n",
       "      <td>NaN</td>\n",
       "      <td>NaN</td>\n",
       "      <td>NaN</td>\n",
       "    </tr>\n",
       "    <tr>\n",
       "      <th>2025-02-02</th>\n",
       "      <td>NaN</td>\n",
       "      <td>NaN</td>\n",
       "      <td>NaN</td>\n",
       "      <td>NaN</td>\n",
       "      <td>NaN</td>\n",
       "      <td>NaN</td>\n",
       "    </tr>\n",
       "    <tr>\n",
       "      <th>2025-02-03</th>\n",
       "      <td>107.576134</td>\n",
       "      <td>107.854621</td>\n",
       "      <td>104.950378</td>\n",
       "      <td>105.149303</td>\n",
       "      <td>8894100.0</td>\n",
       "      <td>0.445766</td>\n",
       "    </tr>\n",
       "  </tbody>\n",
       "</table>\n",
       "</div>"
      ],
      "text/plain": [
       "Price            Close        High         Low        Open      Volume  \\\n",
       "Ticker            SBUX        SBUX        SBUX        SBUX        SBUX   \n",
       "2025-01-30  108.411598  109.744361  107.446833  108.411598  15023000.0   \n",
       "2025-01-31  107.098724  108.769656  106.919696  108.411598  19142500.0   \n",
       "2025-02-01         NaN         NaN         NaN         NaN         NaN   \n",
       "2025-02-02         NaN         NaN         NaN         NaN         NaN   \n",
       "2025-02-03  107.576134  107.854621  104.950378  105.149303   8894100.0   \n",
       "\n",
       "Price      Pct_Change  \n",
       "Ticker                 \n",
       "2025-01-30        NaN  \n",
       "2025-01-31  -1.211009  \n",
       "2025-02-01        NaN  \n",
       "2025-02-02        NaN  \n",
       "2025-02-03   0.445766  "
      ]
     },
     "execution_count": 144,
     "metadata": {},
     "output_type": "execute_result"
    }
   ],
   "source": [
    "stock_data.head()"
   ]
  },
  {
   "cell_type": "code",
   "execution_count": 145,
   "metadata": {},
   "outputs": [],
   "source": [
    "stock_data.columns = stock_data.columns.droplevel(1)"
   ]
  },
  {
   "cell_type": "code",
   "execution_count": 146,
   "metadata": {},
   "outputs": [
    {
     "data": {
      "text/html": [
       "<div>\n",
       "<style scoped>\n",
       "    .dataframe tbody tr th:only-of-type {\n",
       "        vertical-align: middle;\n",
       "    }\n",
       "\n",
       "    .dataframe tbody tr th {\n",
       "        vertical-align: top;\n",
       "    }\n",
       "\n",
       "    .dataframe thead th {\n",
       "        text-align: right;\n",
       "    }\n",
       "</style>\n",
       "<table border=\"1\" class=\"dataframe\">\n",
       "  <thead>\n",
       "    <tr style=\"text-align: right;\">\n",
       "      <th>Price</th>\n",
       "      <th>Close</th>\n",
       "      <th>High</th>\n",
       "      <th>Low</th>\n",
       "      <th>Open</th>\n",
       "      <th>Volume</th>\n",
       "      <th>Pct_Change</th>\n",
       "    </tr>\n",
       "  </thead>\n",
       "  <tbody>\n",
       "    <tr>\n",
       "      <th>2025-01-30</th>\n",
       "      <td>108.411598</td>\n",
       "      <td>109.744361</td>\n",
       "      <td>107.446833</td>\n",
       "      <td>108.411598</td>\n",
       "      <td>15023000.0</td>\n",
       "      <td>NaN</td>\n",
       "    </tr>\n",
       "    <tr>\n",
       "      <th>2025-01-31</th>\n",
       "      <td>107.098724</td>\n",
       "      <td>108.769656</td>\n",
       "      <td>106.919696</td>\n",
       "      <td>108.411598</td>\n",
       "      <td>19142500.0</td>\n",
       "      <td>-1.211009</td>\n",
       "    </tr>\n",
       "    <tr>\n",
       "      <th>2025-02-01</th>\n",
       "      <td>NaN</td>\n",
       "      <td>NaN</td>\n",
       "      <td>NaN</td>\n",
       "      <td>NaN</td>\n",
       "      <td>NaN</td>\n",
       "      <td>NaN</td>\n",
       "    </tr>\n",
       "    <tr>\n",
       "      <th>2025-02-02</th>\n",
       "      <td>NaN</td>\n",
       "      <td>NaN</td>\n",
       "      <td>NaN</td>\n",
       "      <td>NaN</td>\n",
       "      <td>NaN</td>\n",
       "      <td>NaN</td>\n",
       "    </tr>\n",
       "    <tr>\n",
       "      <th>2025-02-03</th>\n",
       "      <td>107.576134</td>\n",
       "      <td>107.854621</td>\n",
       "      <td>104.950378</td>\n",
       "      <td>105.149303</td>\n",
       "      <td>8894100.0</td>\n",
       "      <td>0.445766</td>\n",
       "    </tr>\n",
       "  </tbody>\n",
       "</table>\n",
       "</div>"
      ],
      "text/plain": [
       "Price            Close        High         Low        Open      Volume  \\\n",
       "2025-01-30  108.411598  109.744361  107.446833  108.411598  15023000.0   \n",
       "2025-01-31  107.098724  108.769656  106.919696  108.411598  19142500.0   \n",
       "2025-02-01         NaN         NaN         NaN         NaN         NaN   \n",
       "2025-02-02         NaN         NaN         NaN         NaN         NaN   \n",
       "2025-02-03  107.576134  107.854621  104.950378  105.149303   8894100.0   \n",
       "\n",
       "Price       Pct_Change  \n",
       "2025-01-30         NaN  \n",
       "2025-01-31   -1.211009  \n",
       "2025-02-01         NaN  \n",
       "2025-02-02         NaN  \n",
       "2025-02-03    0.445766  "
      ]
     },
     "execution_count": 146,
     "metadata": {},
     "output_type": "execute_result"
    }
   ],
   "source": [
    "stock_data.head()"
   ]
  },
  {
   "cell_type": "code",
   "execution_count": 147,
   "metadata": {},
   "outputs": [],
   "source": [
    "stock_data.columns.name = None\n",
    "\n",
    "stock_data.index.name = None"
   ]
  },
  {
   "cell_type": "code",
   "execution_count": 148,
   "metadata": {},
   "outputs": [
    {
     "data": {
      "text/plain": [
       "Index(['Close', 'High', 'Low', 'Open', 'Volume', 'Pct_Change'], dtype='object')"
      ]
     },
     "execution_count": 148,
     "metadata": {},
     "output_type": "execute_result"
    }
   ],
   "source": [
    "stock_data.columns"
   ]
  },
  {
   "cell_type": "code",
   "execution_count": 149,
   "metadata": {},
   "outputs": [
    {
     "data": {
      "text/html": [
       "<div>\n",
       "<style scoped>\n",
       "    .dataframe tbody tr th:only-of-type {\n",
       "        vertical-align: middle;\n",
       "    }\n",
       "\n",
       "    .dataframe tbody tr th {\n",
       "        vertical-align: top;\n",
       "    }\n",
       "\n",
       "    .dataframe thead th {\n",
       "        text-align: right;\n",
       "    }\n",
       "</style>\n",
       "<table border=\"1\" class=\"dataframe\">\n",
       "  <thead>\n",
       "    <tr style=\"text-align: right;\">\n",
       "      <th></th>\n",
       "      <th>Close</th>\n",
       "      <th>High</th>\n",
       "      <th>Low</th>\n",
       "      <th>Open</th>\n",
       "      <th>Volume</th>\n",
       "      <th>Pct_Change</th>\n",
       "    </tr>\n",
       "  </thead>\n",
       "  <tbody>\n",
       "    <tr>\n",
       "      <th>2025-01-30</th>\n",
       "      <td>108.411598</td>\n",
       "      <td>109.744361</td>\n",
       "      <td>107.446833</td>\n",
       "      <td>108.411598</td>\n",
       "      <td>15023000.0</td>\n",
       "      <td>NaN</td>\n",
       "    </tr>\n",
       "    <tr>\n",
       "      <th>2025-01-31</th>\n",
       "      <td>107.098724</td>\n",
       "      <td>108.769656</td>\n",
       "      <td>106.919696</td>\n",
       "      <td>108.411598</td>\n",
       "      <td>19142500.0</td>\n",
       "      <td>-1.211009</td>\n",
       "    </tr>\n",
       "    <tr>\n",
       "      <th>2025-02-01</th>\n",
       "      <td>NaN</td>\n",
       "      <td>NaN</td>\n",
       "      <td>NaN</td>\n",
       "      <td>NaN</td>\n",
       "      <td>NaN</td>\n",
       "      <td>NaN</td>\n",
       "    </tr>\n",
       "    <tr>\n",
       "      <th>2025-02-02</th>\n",
       "      <td>NaN</td>\n",
       "      <td>NaN</td>\n",
       "      <td>NaN</td>\n",
       "      <td>NaN</td>\n",
       "      <td>NaN</td>\n",
       "      <td>NaN</td>\n",
       "    </tr>\n",
       "    <tr>\n",
       "      <th>2025-02-03</th>\n",
       "      <td>107.576134</td>\n",
       "      <td>107.854621</td>\n",
       "      <td>104.950378</td>\n",
       "      <td>105.149303</td>\n",
       "      <td>8894100.0</td>\n",
       "      <td>0.445766</td>\n",
       "    </tr>\n",
       "  </tbody>\n",
       "</table>\n",
       "</div>"
      ],
      "text/plain": [
       "                 Close        High         Low        Open      Volume  \\\n",
       "2025-01-30  108.411598  109.744361  107.446833  108.411598  15023000.0   \n",
       "2025-01-31  107.098724  108.769656  106.919696  108.411598  19142500.0   \n",
       "2025-02-01         NaN         NaN         NaN         NaN         NaN   \n",
       "2025-02-02         NaN         NaN         NaN         NaN         NaN   \n",
       "2025-02-03  107.576134  107.854621  104.950378  105.149303   8894100.0   \n",
       "\n",
       "            Pct_Change  \n",
       "2025-01-30         NaN  \n",
       "2025-01-31   -1.211009  \n",
       "2025-02-01         NaN  \n",
       "2025-02-02         NaN  \n",
       "2025-02-03    0.445766  "
      ]
     },
     "execution_count": 149,
     "metadata": {},
     "output_type": "execute_result"
    }
   ],
   "source": [
    "stock_data.head()"
   ]
  },
  {
   "cell_type": "code",
   "execution_count": 150,
   "metadata": {},
   "outputs": [],
   "source": [
    "def combine_data(result_df, stock_data):\n",
    "    combined_df = result_df.set_index('Trading_Day').join(stock_data[['Pct_Change']], how='inner')\n",
    "    combined_df['lagged_7day_pct_positive'] = combined_df['7day_pct_positive'].shift(1)\n",
    "\n",
    "    return combined_df"
   ]
  },
  {
   "cell_type": "code",
   "execution_count": 151,
   "metadata": {},
   "outputs": [],
   "source": [
    "combined_df = combine_data(result_df, stock_data)"
   ]
  },
  {
   "cell_type": "code",
   "execution_count": 152,
   "metadata": {},
   "outputs": [
    {
     "data": {
      "text/html": [
       "<div>\n",
       "<style scoped>\n",
       "    .dataframe tbody tr th:only-of-type {\n",
       "        vertical-align: middle;\n",
       "    }\n",
       "\n",
       "    .dataframe tbody tr th {\n",
       "        vertical-align: top;\n",
       "    }\n",
       "\n",
       "    .dataframe thead th {\n",
       "        text-align: right;\n",
       "    }\n",
       "</style>\n",
       "<table border=\"1\" class=\"dataframe\">\n",
       "  <thead>\n",
       "    <tr style=\"text-align: right;\">\n",
       "      <th></th>\n",
       "      <th>POSITIVE</th>\n",
       "      <th>NEGATIVE</th>\n",
       "      <th>7day_avg_positive</th>\n",
       "      <th>7day_avg_negative</th>\n",
       "      <th>7day_pct_positive</th>\n",
       "      <th>Pct_Change</th>\n",
       "      <th>lagged_7day_pct_positive</th>\n",
       "    </tr>\n",
       "  </thead>\n",
       "  <tbody>\n",
       "    <tr>\n",
       "      <th>2025-01-30</th>\n",
       "      <td>2</td>\n",
       "      <td>3</td>\n",
       "      <td>2.0</td>\n",
       "      <td>3.0</td>\n",
       "      <td>0.400000</td>\n",
       "      <td>NaN</td>\n",
       "      <td>NaN</td>\n",
       "    </tr>\n",
       "    <tr>\n",
       "      <th>2025-01-31</th>\n",
       "      <td>5</td>\n",
       "      <td>1</td>\n",
       "      <td>7.0</td>\n",
       "      <td>4.0</td>\n",
       "      <td>0.636364</td>\n",
       "      <td>-1.211009</td>\n",
       "      <td>0.400000</td>\n",
       "    </tr>\n",
       "    <tr>\n",
       "      <th>2025-02-03</th>\n",
       "      <td>2</td>\n",
       "      <td>1</td>\n",
       "      <td>9.0</td>\n",
       "      <td>5.0</td>\n",
       "      <td>0.642857</td>\n",
       "      <td>0.445766</td>\n",
       "      <td>0.636364</td>\n",
       "    </tr>\n",
       "    <tr>\n",
       "      <th>2025-02-04</th>\n",
       "      <td>4</td>\n",
       "      <td>2</td>\n",
       "      <td>13.0</td>\n",
       "      <td>7.0</td>\n",
       "      <td>0.650000</td>\n",
       "      <td>2.255908</td>\n",
       "      <td>0.642857</td>\n",
       "    </tr>\n",
       "    <tr>\n",
       "      <th>2025-02-05</th>\n",
       "      <td>3</td>\n",
       "      <td>3</td>\n",
       "      <td>16.0</td>\n",
       "      <td>10.0</td>\n",
       "      <td>0.615385</td>\n",
       "      <td>1.491867</td>\n",
       "      <td>0.650000</td>\n",
       "    </tr>\n",
       "  </tbody>\n",
       "</table>\n",
       "</div>"
      ],
      "text/plain": [
       "            POSITIVE  NEGATIVE  7day_avg_positive  7day_avg_negative  \\\n",
       "2025-01-30         2         3                2.0                3.0   \n",
       "2025-01-31         5         1                7.0                4.0   \n",
       "2025-02-03         2         1                9.0                5.0   \n",
       "2025-02-04         4         2               13.0                7.0   \n",
       "2025-02-05         3         3               16.0               10.0   \n",
       "\n",
       "            7day_pct_positive  Pct_Change  lagged_7day_pct_positive  \n",
       "2025-01-30           0.400000         NaN                       NaN  \n",
       "2025-01-31           0.636364   -1.211009                  0.400000  \n",
       "2025-02-03           0.642857    0.445766                  0.636364  \n",
       "2025-02-04           0.650000    2.255908                  0.642857  \n",
       "2025-02-05           0.615385    1.491867                  0.650000  "
      ]
     },
     "execution_count": 152,
     "metadata": {},
     "output_type": "execute_result"
    }
   ],
   "source": [
    "combined_df.head()"
   ]
  },
  {
   "cell_type": "code",
   "execution_count": 153,
   "metadata": {},
   "outputs": [
    {
     "name": "stdout",
     "output_type": "stream",
     "text": [
      "Pearson correlation between lagged sentiment score and stock percentage change: 0.6166285005764097\n"
     ]
    }
   ],
   "source": [
    "correlation_pct_change = calculate_correlation(combined_df)\n",
    "\n",
    "print(f\"Pearson correlation between lagged sentiment score and stock percentage change: {correlation_pct_change}\")"
   ]
  },
  {
   "cell_type": "code",
   "execution_count": 154,
   "metadata": {},
   "outputs": [
    {
     "name": "stdout",
     "output_type": "stream",
     "text": [
      "A predecir\n",
      "GOING FOR THE ARIMAX MODEL\n",
      "get future dates\n"
     ]
    },
    {
     "name": "stderr",
     "output_type": "stream",
     "text": [
      "c:\\Users\\jaime\\AppData\\Local\\pypoetry\\Cache\\virtualenvs\\b402-bLnqn39v-py3.11\\Lib\\site-packages\\statsmodels\\tsa\\base\\tsa_model.py:473: ValueWarning: A date index has been provided, but it has no associated frequency information and so will be ignored when e.g. forecasting.\n",
      "  self._init_dates(dates, freq)\n",
      "c:\\Users\\jaime\\AppData\\Local\\pypoetry\\Cache\\virtualenvs\\b402-bLnqn39v-py3.11\\Lib\\site-packages\\statsmodels\\tsa\\base\\tsa_model.py:473: ValueWarning: A date index has been provided, but it has no associated frequency information and so will be ignored when e.g. forecasting.\n",
      "  self._init_dates(dates, freq)\n",
      "c:\\Users\\jaime\\AppData\\Local\\pypoetry\\Cache\\virtualenvs\\b402-bLnqn39v-py3.11\\Lib\\site-packages\\statsmodels\\tsa\\base\\tsa_model.py:837: ValueWarning: No supported index is available. Prediction results will be given with an integer index beginning at `start`.\n",
      "  return get_prediction_index(\n",
      "c:\\Users\\jaime\\AppData\\Local\\pypoetry\\Cache\\virtualenvs\\b402-bLnqn39v-py3.11\\Lib\\site-packages\\statsmodels\\tsa\\base\\tsa_model.py:837: FutureWarning: No supported index is available. In the next version, calling this method in a model without a supported index will result in an exception.\n",
      "  return get_prediction_index(\n"
     ]
    }
   ],
   "source": [
    "\n",
    "forecast_mean, forecast_ci, forecast_index = fit_and_forecast(combined_df, get_future_dates_next_day)"
   ]
  },
  {
   "cell_type": "code",
   "execution_count": 155,
   "metadata": {},
   "outputs": [],
   "source": [
    "combined_df, forecast_mean, forecast_ci, forecast_index = preprocessing_data(combined_df)\n"
   ]
  },
  {
   "cell_type": "code",
   "execution_count": 156,
   "metadata": {},
   "outputs": [
    {
     "data": {
      "application/vnd.plotly.v1+json": {
       "config": {
        "plotlyServerURL": "https://plot.ly"
       },
       "data": [
        {
         "line": {
          "color": "blue"
         },
         "mode": "lines",
         "name": "Standardized Sentiment Proportion",
         "type": "scatter",
         "x": [
          "2025-01-30T00:00:00",
          "2025-01-31T00:00:00",
          "2025-02-03T00:00:00",
          "2025-02-04T00:00:00",
          "2025-02-05T00:00:00",
          "2025-02-06T00:00:00",
          "2025-02-07T00:00:00",
          "2025-02-10T00:00:00",
          "2025-02-11T00:00:00",
          "2025-02-12T00:00:00",
          "2025-02-13T00:00:00",
          "2025-02-14T00:00:00",
          "2025-02-17T00:00:00",
          "2025-02-18T00:00:00",
          "2025-02-19T00:00:00"
         ],
         "y": {
          "bdata": "JUt1pAhzBMAuUOYYqbvyP2Dgm3UMX/Q/kJhjKGAs9j9k1V6zbeHqP1we24ksHuM/aSgIVdoeeT/VKfvQnAa2P2o/vXdWVZK/SEke5BfP0L/MmlNJ517kvwFma7SMP+W/f2WuQ9F/4L9/Za5D0X/gv2HRQ/Sccci/",
          "dtype": "f8"
         }
        },
        {
         "line": {
          "color": "yellow"
         },
         "mode": "lines+markers",
         "name": "Stock Pct Change (Standardized)",
         "type": "scatter",
         "x": [
          "2025-01-30T00:00:00",
          "2025-01-31T00:00:00",
          "2025-02-03T00:00:00",
          "2025-02-04T00:00:00",
          "2025-02-05T00:00:00",
          "2025-02-06T00:00:00",
          "2025-02-07T00:00:00",
          "2025-02-10T00:00:00",
          "2025-02-11T00:00:00",
          "2025-02-12T00:00:00",
          "2025-02-13T00:00:00",
          "2025-02-14T00:00:00",
          "2025-02-17T00:00:00",
          "2025-02-18T00:00:00",
          "2025-02-19T00:00:00"
         ],
         "y": {
          "bdata": "AAAAAAAA+H9/r0Ok/GX3v4pnj7uBhcM/3r/4ua+r/j9YvWtLQMHyP1fyrqKRTui/hFOhXe3Awz+Bbz26nd/tv84gKOU2x+S/NHx7j7G49z+UCKTISEHUvxO3x3EgVcK/AAAAAAAA+H/mscbdTh3BP1/6HZzm7Oe/",
          "dtype": "f8"
         }
        },
        {
         "line": {
          "color": "red"
         },
         "mode": "lines+markers",
         "name": "Forecasted Stock Pct Change",
         "type": "scatter",
         "x": [
          "2025-02-19T00:00:00",
          "2025-02-20T00:00:00",
          "2025-02-21T00:00:00",
          "2025-02-24T00:00:00"
         ],
         "y": {
          "bdata": "X/odnObs57+VBzBWhxXUvwEO+hkVyNW/zf2GQYSt1b8=",
          "dtype": "f8"
         }
        },
        {
         "fill": "toself",
         "fillcolor": "rgba(255,0,0,0.2)",
         "hoverinfo": "skip",
         "line": {
          "color": "rgba(255,255,255,0)"
         },
         "showlegend": false,
         "type": "scatter",
         "x": [
          "2025-02-19T00:00:00",
          "2025-02-20T00:00:00",
          "2025-02-21T00:00:00",
          "2025-02-24T00:00:00",
          "2025-02-24T00:00:00",
          "2025-02-21T00:00:00",
          "2025-02-20T00:00:00",
          "2025-02-19T00:00:00"
         ],
         "y": {
          "bdata": "X/odnObs57+En+PGoHv+v+/ZVmO71/6/WWw/XczS/r9y7Xs8CvzzP+7SWdaw8/M/uZvLG91w9D9f+h2c5uznvw==",
          "dtype": "f8"
         }
        }
       ],
       "layout": {
        "template": {
         "data": {
          "bar": [
           {
            "error_x": {
             "color": "#f2f5fa"
            },
            "error_y": {
             "color": "#f2f5fa"
            },
            "marker": {
             "line": {
              "color": "rgb(17,17,17)",
              "width": 0.5
             },
             "pattern": {
              "fillmode": "overlay",
              "size": 10,
              "solidity": 0.2
             }
            },
            "type": "bar"
           }
          ],
          "barpolar": [
           {
            "marker": {
             "line": {
              "color": "rgb(17,17,17)",
              "width": 0.5
             },
             "pattern": {
              "fillmode": "overlay",
              "size": 10,
              "solidity": 0.2
             }
            },
            "type": "barpolar"
           }
          ],
          "carpet": [
           {
            "aaxis": {
             "endlinecolor": "#A2B1C6",
             "gridcolor": "#506784",
             "linecolor": "#506784",
             "minorgridcolor": "#506784",
             "startlinecolor": "#A2B1C6"
            },
            "baxis": {
             "endlinecolor": "#A2B1C6",
             "gridcolor": "#506784",
             "linecolor": "#506784",
             "minorgridcolor": "#506784",
             "startlinecolor": "#A2B1C6"
            },
            "type": "carpet"
           }
          ],
          "choropleth": [
           {
            "colorbar": {
             "outlinewidth": 0,
             "ticks": ""
            },
            "type": "choropleth"
           }
          ],
          "contour": [
           {
            "colorbar": {
             "outlinewidth": 0,
             "ticks": ""
            },
            "colorscale": [
             [
              0,
              "#0d0887"
             ],
             [
              0.1111111111111111,
              "#46039f"
             ],
             [
              0.2222222222222222,
              "#7201a8"
             ],
             [
              0.3333333333333333,
              "#9c179e"
             ],
             [
              0.4444444444444444,
              "#bd3786"
             ],
             [
              0.5555555555555556,
              "#d8576b"
             ],
             [
              0.6666666666666666,
              "#ed7953"
             ],
             [
              0.7777777777777778,
              "#fb9f3a"
             ],
             [
              0.8888888888888888,
              "#fdca26"
             ],
             [
              1,
              "#f0f921"
             ]
            ],
            "type": "contour"
           }
          ],
          "contourcarpet": [
           {
            "colorbar": {
             "outlinewidth": 0,
             "ticks": ""
            },
            "type": "contourcarpet"
           }
          ],
          "heatmap": [
           {
            "colorbar": {
             "outlinewidth": 0,
             "ticks": ""
            },
            "colorscale": [
             [
              0,
              "#0d0887"
             ],
             [
              0.1111111111111111,
              "#46039f"
             ],
             [
              0.2222222222222222,
              "#7201a8"
             ],
             [
              0.3333333333333333,
              "#9c179e"
             ],
             [
              0.4444444444444444,
              "#bd3786"
             ],
             [
              0.5555555555555556,
              "#d8576b"
             ],
             [
              0.6666666666666666,
              "#ed7953"
             ],
             [
              0.7777777777777778,
              "#fb9f3a"
             ],
             [
              0.8888888888888888,
              "#fdca26"
             ],
             [
              1,
              "#f0f921"
             ]
            ],
            "type": "heatmap"
           }
          ],
          "histogram": [
           {
            "marker": {
             "pattern": {
              "fillmode": "overlay",
              "size": 10,
              "solidity": 0.2
             }
            },
            "type": "histogram"
           }
          ],
          "histogram2d": [
           {
            "colorbar": {
             "outlinewidth": 0,
             "ticks": ""
            },
            "colorscale": [
             [
              0,
              "#0d0887"
             ],
             [
              0.1111111111111111,
              "#46039f"
             ],
             [
              0.2222222222222222,
              "#7201a8"
             ],
             [
              0.3333333333333333,
              "#9c179e"
             ],
             [
              0.4444444444444444,
              "#bd3786"
             ],
             [
              0.5555555555555556,
              "#d8576b"
             ],
             [
              0.6666666666666666,
              "#ed7953"
             ],
             [
              0.7777777777777778,
              "#fb9f3a"
             ],
             [
              0.8888888888888888,
              "#fdca26"
             ],
             [
              1,
              "#f0f921"
             ]
            ],
            "type": "histogram2d"
           }
          ],
          "histogram2dcontour": [
           {
            "colorbar": {
             "outlinewidth": 0,
             "ticks": ""
            },
            "colorscale": [
             [
              0,
              "#0d0887"
             ],
             [
              0.1111111111111111,
              "#46039f"
             ],
             [
              0.2222222222222222,
              "#7201a8"
             ],
             [
              0.3333333333333333,
              "#9c179e"
             ],
             [
              0.4444444444444444,
              "#bd3786"
             ],
             [
              0.5555555555555556,
              "#d8576b"
             ],
             [
              0.6666666666666666,
              "#ed7953"
             ],
             [
              0.7777777777777778,
              "#fb9f3a"
             ],
             [
              0.8888888888888888,
              "#fdca26"
             ],
             [
              1,
              "#f0f921"
             ]
            ],
            "type": "histogram2dcontour"
           }
          ],
          "mesh3d": [
           {
            "colorbar": {
             "outlinewidth": 0,
             "ticks": ""
            },
            "type": "mesh3d"
           }
          ],
          "parcoords": [
           {
            "line": {
             "colorbar": {
              "outlinewidth": 0,
              "ticks": ""
             }
            },
            "type": "parcoords"
           }
          ],
          "pie": [
           {
            "automargin": true,
            "type": "pie"
           }
          ],
          "scatter": [
           {
            "marker": {
             "line": {
              "color": "#283442"
             }
            },
            "type": "scatter"
           }
          ],
          "scatter3d": [
           {
            "line": {
             "colorbar": {
              "outlinewidth": 0,
              "ticks": ""
             }
            },
            "marker": {
             "colorbar": {
              "outlinewidth": 0,
              "ticks": ""
             }
            },
            "type": "scatter3d"
           }
          ],
          "scattercarpet": [
           {
            "marker": {
             "colorbar": {
              "outlinewidth": 0,
              "ticks": ""
             }
            },
            "type": "scattercarpet"
           }
          ],
          "scattergeo": [
           {
            "marker": {
             "colorbar": {
              "outlinewidth": 0,
              "ticks": ""
             }
            },
            "type": "scattergeo"
           }
          ],
          "scattergl": [
           {
            "marker": {
             "line": {
              "color": "#283442"
             }
            },
            "type": "scattergl"
           }
          ],
          "scattermap": [
           {
            "marker": {
             "colorbar": {
              "outlinewidth": 0,
              "ticks": ""
             }
            },
            "type": "scattermap"
           }
          ],
          "scattermapbox": [
           {
            "marker": {
             "colorbar": {
              "outlinewidth": 0,
              "ticks": ""
             }
            },
            "type": "scattermapbox"
           }
          ],
          "scatterpolar": [
           {
            "marker": {
             "colorbar": {
              "outlinewidth": 0,
              "ticks": ""
             }
            },
            "type": "scatterpolar"
           }
          ],
          "scatterpolargl": [
           {
            "marker": {
             "colorbar": {
              "outlinewidth": 0,
              "ticks": ""
             }
            },
            "type": "scatterpolargl"
           }
          ],
          "scatterternary": [
           {
            "marker": {
             "colorbar": {
              "outlinewidth": 0,
              "ticks": ""
             }
            },
            "type": "scatterternary"
           }
          ],
          "surface": [
           {
            "colorbar": {
             "outlinewidth": 0,
             "ticks": ""
            },
            "colorscale": [
             [
              0,
              "#0d0887"
             ],
             [
              0.1111111111111111,
              "#46039f"
             ],
             [
              0.2222222222222222,
              "#7201a8"
             ],
             [
              0.3333333333333333,
              "#9c179e"
             ],
             [
              0.4444444444444444,
              "#bd3786"
             ],
             [
              0.5555555555555556,
              "#d8576b"
             ],
             [
              0.6666666666666666,
              "#ed7953"
             ],
             [
              0.7777777777777778,
              "#fb9f3a"
             ],
             [
              0.8888888888888888,
              "#fdca26"
             ],
             [
              1,
              "#f0f921"
             ]
            ],
            "type": "surface"
           }
          ],
          "table": [
           {
            "cells": {
             "fill": {
              "color": "#506784"
             },
             "line": {
              "color": "rgb(17,17,17)"
             }
            },
            "header": {
             "fill": {
              "color": "#2a3f5f"
             },
             "line": {
              "color": "rgb(17,17,17)"
             }
            },
            "type": "table"
           }
          ]
         },
         "layout": {
          "annotationdefaults": {
           "arrowcolor": "#f2f5fa",
           "arrowhead": 0,
           "arrowwidth": 1
          },
          "autotypenumbers": "strict",
          "coloraxis": {
           "colorbar": {
            "outlinewidth": 0,
            "ticks": ""
           }
          },
          "colorscale": {
           "diverging": [
            [
             0,
             "#8e0152"
            ],
            [
             0.1,
             "#c51b7d"
            ],
            [
             0.2,
             "#de77ae"
            ],
            [
             0.3,
             "#f1b6da"
            ],
            [
             0.4,
             "#fde0ef"
            ],
            [
             0.5,
             "#f7f7f7"
            ],
            [
             0.6,
             "#e6f5d0"
            ],
            [
             0.7,
             "#b8e186"
            ],
            [
             0.8,
             "#7fbc41"
            ],
            [
             0.9,
             "#4d9221"
            ],
            [
             1,
             "#276419"
            ]
           ],
           "sequential": [
            [
             0,
             "#0d0887"
            ],
            [
             0.1111111111111111,
             "#46039f"
            ],
            [
             0.2222222222222222,
             "#7201a8"
            ],
            [
             0.3333333333333333,
             "#9c179e"
            ],
            [
             0.4444444444444444,
             "#bd3786"
            ],
            [
             0.5555555555555556,
             "#d8576b"
            ],
            [
             0.6666666666666666,
             "#ed7953"
            ],
            [
             0.7777777777777778,
             "#fb9f3a"
            ],
            [
             0.8888888888888888,
             "#fdca26"
            ],
            [
             1,
             "#f0f921"
            ]
           ],
           "sequentialminus": [
            [
             0,
             "#0d0887"
            ],
            [
             0.1111111111111111,
             "#46039f"
            ],
            [
             0.2222222222222222,
             "#7201a8"
            ],
            [
             0.3333333333333333,
             "#9c179e"
            ],
            [
             0.4444444444444444,
             "#bd3786"
            ],
            [
             0.5555555555555556,
             "#d8576b"
            ],
            [
             0.6666666666666666,
             "#ed7953"
            ],
            [
             0.7777777777777778,
             "#fb9f3a"
            ],
            [
             0.8888888888888888,
             "#fdca26"
            ],
            [
             1,
             "#f0f921"
            ]
           ]
          },
          "colorway": [
           "#636efa",
           "#EF553B",
           "#00cc96",
           "#ab63fa",
           "#FFA15A",
           "#19d3f3",
           "#FF6692",
           "#B6E880",
           "#FF97FF",
           "#FECB52"
          ],
          "font": {
           "color": "#f2f5fa"
          },
          "geo": {
           "bgcolor": "rgb(17,17,17)",
           "lakecolor": "rgb(17,17,17)",
           "landcolor": "rgb(17,17,17)",
           "showlakes": true,
           "showland": true,
           "subunitcolor": "#506784"
          },
          "hoverlabel": {
           "align": "left"
          },
          "hovermode": "closest",
          "mapbox": {
           "style": "dark"
          },
          "paper_bgcolor": "rgb(17,17,17)",
          "plot_bgcolor": "rgb(17,17,17)",
          "polar": {
           "angularaxis": {
            "gridcolor": "#506784",
            "linecolor": "#506784",
            "ticks": ""
           },
           "bgcolor": "rgb(17,17,17)",
           "radialaxis": {
            "gridcolor": "#506784",
            "linecolor": "#506784",
            "ticks": ""
           }
          },
          "scene": {
           "xaxis": {
            "backgroundcolor": "rgb(17,17,17)",
            "gridcolor": "#506784",
            "gridwidth": 2,
            "linecolor": "#506784",
            "showbackground": true,
            "ticks": "",
            "zerolinecolor": "#C8D4E3"
           },
           "yaxis": {
            "backgroundcolor": "rgb(17,17,17)",
            "gridcolor": "#506784",
            "gridwidth": 2,
            "linecolor": "#506784",
            "showbackground": true,
            "ticks": "",
            "zerolinecolor": "#C8D4E3"
           },
           "zaxis": {
            "backgroundcolor": "rgb(17,17,17)",
            "gridcolor": "#506784",
            "gridwidth": 2,
            "linecolor": "#506784",
            "showbackground": true,
            "ticks": "",
            "zerolinecolor": "#C8D4E3"
           }
          },
          "shapedefaults": {
           "line": {
            "color": "#f2f5fa"
           }
          },
          "sliderdefaults": {
           "bgcolor": "#C8D4E3",
           "bordercolor": "rgb(17,17,17)",
           "borderwidth": 1,
           "tickwidth": 0
          },
          "ternary": {
           "aaxis": {
            "gridcolor": "#506784",
            "linecolor": "#506784",
            "ticks": ""
           },
           "baxis": {
            "gridcolor": "#506784",
            "linecolor": "#506784",
            "ticks": ""
           },
           "bgcolor": "rgb(17,17,17)",
           "caxis": {
            "gridcolor": "#506784",
            "linecolor": "#506784",
            "ticks": ""
           }
          },
          "title": {
           "x": 0.05
          },
          "updatemenudefaults": {
           "bgcolor": "#506784",
           "borderwidth": 0
          },
          "xaxis": {
           "automargin": true,
           "gridcolor": "#283442",
           "linecolor": "#506784",
           "ticks": "",
           "title": {
            "standoff": 15
           },
           "zerolinecolor": "#283442",
           "zerolinewidth": 2
          },
          "yaxis": {
           "automargin": true,
           "gridcolor": "#283442",
           "linecolor": "#506784",
           "ticks": "",
           "title": {
            "standoff": 15
           },
           "zerolinecolor": "#283442",
           "zerolinewidth": 2
          }
         }
        },
        "title": {
         "text": "Sentiment Proportion and Stock Percentage Change with Forecast"
        },
        "xaxis": {
         "title": {
          "text": "Date"
         }
        },
        "yaxis": {
         "title": {
          "font": {
           "color": "yellow"
          },
          "text": "Standardized Sentiment Proportion"
         }
        },
        "yaxis2": {
         "overlaying": "y",
         "side": "right",
         "title": {
          "font": {
           "color": "yellow"
          },
          "text": "Stock Pct Change"
         }
        }
       }
      }
     },
     "metadata": {},
     "output_type": "display_data"
    }
   ],
   "source": [
    "create_plot(combined_df, forecast_mean, forecast_ci, forecast_index)"
   ]
  },
  {
   "cell_type": "markdown",
   "metadata": {},
   "source": [
    "# Functions"
   ]
  },
  {
   "cell_type": "code",
   "execution_count": 1,
   "metadata": {},
   "outputs": [],
   "source": [
    "#############\n",
    "##LIBRARIES##\n",
    "#############\n",
    "\n",
    "import re\n",
    "import math\n",
    "\n",
    "import yfinance as yf\n",
    "from finvizfinance.quote import finvizfinance\n",
    "\n",
    "from statsmodels.tsa.statespace.sarimax import SARIMAX\n",
    "\n",
    "import plotly.graph_objects as go\n",
    "import pandas as pd\n",
    "import numpy as np\n",
    "\n",
    "import holidays\n",
    "\n",
    "from langchain_community.llms import Ollama\n",
    "\n",
    "\n",
    "import streamlit as st\n",
    "\n",
    "llm = Ollama(model='llama3')\n",
    "\n",
    "def classify_sentiment(title):\n",
    "    output = llm.invoke(f\"Classify the sentiment as 'POSITIVE' or 'NEGATIVE' or 'NEUTRAL' with just that one\")\n",
    "    return output.strip()\n",
    "\n",
    "\n",
    "\n",
    "def classify_sentiment_batch(titles, batch_size = 10):\n",
    "    print(f\"Clasificando {len(titles)} títulos de noticias.\")\n",
    "\n",
    "\n",
    "    valid_sentiments = {\"POSITIVE\", \"NEGATIVE\", \"NEUTRAL\"}\n",
    "    sentiments = [\"NEUTRAL\"] * len(titles)\n",
    "\n",
    "    num_batches = math.ceil(len(titles)/batch_size)\n",
    "\n",
    "    for i in range(num_batches):\n",
    "        print(f\"Batch {i}\")\n",
    "        batch_titles = titles[i * batch_size:(i + 1) * batch_size]\n",
    "\n",
    "        prompt = (\n",
    "            \"For each news title below, classify the sentiment as 'POSITIVE', 'NEGATIVE' or 'NEUTRAL'.\\n\"\n",
    "            \"Return exactly one sentiment per title, and a number with the order of the titles in the same order as the titles, and NOTHING ELSE.\\n\"\n",
    "            \"The answer can only contain a number with the order of the title and the words POSITIVE, NEGATIVE or NEUTRAL.\\n\"\n",
    "            \"Example:\\n\"\n",
    "            \"1 - POSITIVE\\n\"\n",
    "            \"2 - NEGATIVE\\n\"\n",
    "            \"3 - NEUTRAL\\n\"\n",
    "        )\n",
    "\n",
    "        prompt += \"\\n\".join(f\"{idx+1} - {title}\" for idx, title in enumerate(batch_titles))\n",
    "\n",
    "        output = llm.invoke(prompt)\n",
    "        print(f\"🔹 Respuesta de Ollama para el batch {i + 1}/{num_batches}:\\n{output}\\n\")\n",
    "\n",
    "        for line in output.split(\"\\n\"):\n",
    "            line = line.strip().upper()\n",
    "            match = re.match(r\"(\\d+)\\s*-\\s*(POSITIVE|NEGATIVE|NEUTRAL)\", line)\n",
    "            \n",
    "            if match:\n",
    "                index = int(match.group(1)) - 1 + (i * batch_size)  # Convertir a índice global\n",
    "                sentiment = match.group(2)\n",
    "                \n",
    "                if 0 <= index < len(sentiments):  # Verificar que el índice sea válido\n",
    "                    sentiments[index] = sentiment\n",
    "\n",
    "\n",
    "        \n",
    "    while len(sentiments) < len(titles):\n",
    "        sentiments.append(\"NEUTRAL\")\n",
    "        \n",
    "    if len(sentiments) > len(titles):\n",
    "        sentiments = sentiments[:len(titles)]\n",
    "\n",
    "    print(f\"La longitud de los sentiments es {len(sentiments)}\")\n",
    "    print(f\"Classification completed!:\\n{sentiments}\")\n",
    "    return sentiments\n",
    "\n",
    "\n",
    "def get_news_ticker(ticker):\n",
    "    stock = finvizfinance(ticker)\n",
    "    news_df = stock.ticker_news()\n",
    "    return news_df\n",
    "\n",
    "# Function to get and process news data\n",
    "def get_news_data(news_df_original):\n",
    "    \n",
    "    news_df =news_df_original.copy()\n",
    "    news_df['Title'] = news_df['Title'].str.lower()\n",
    "\n",
    "\n",
    "    news_df['sentiment'] = classify_sentiment_batch(news_df['Title'].tolist())\n",
    "\n",
    "    news_df_sent = news_df.copy()\n",
    "    news_df_sent = news_df_sent[news_df_sent['sentiment'] != 'NEUTRAL'].copy()\n",
    "\n",
    "    news_df_sent['Date'] = pd.to_datetime(news_df_sent['Date'])\n",
    "    news_df_sent['DateOnly'] = news_df_sent['Date'].dt.date\n",
    "\n",
    "\n",
    "    return news_df_sent\n",
    "\n",
    "\n",
    "# Function to group and process sentiment data\n",
    "def process_sentiment_data(news_df):\n",
    "    \"\"\"\n",
    "    Agrupa las noticias por día de cotización y calcula el sentimiento promedio en los últimos 7 días hábiles.\n",
    "    \"\"\"\n",
    "    print(f\"Procesamos los datos de news_df con columnas: {news_df.columns}\")\n",
    "\n",
    "    grouped = news_df.groupby(['Trading_Day', 'sentiment']).size().unstack(fill_value=0)\n",
    "    grouped = grouped.reindex(columns=['POSITIVE', 'NEGATIVE'], fill_value=0)\n",
    "\n",
    "    print(\"Grouped inicial\")\n",
    "    print(grouped)\n",
    "\n",
    "   \n",
    "    all_trading_days = pd.date_range(start=grouped.index.min(), end=grouped.index.max(), freq='B')\n",
    "    grouped = grouped.reindex(all_trading_days, fill_value=0)\n",
    "\n",
    "    grouped['7day_avg_positive'] = grouped['POSITIVE'].rolling('7D', min_periods=1).sum()\n",
    "    grouped['7day_avg_negative'] = grouped['NEGATIVE'].rolling('7D', min_periods=1).sum()\n",
    "\n",
    "    grouped['7day_pct_positive'] = grouped['POSITIVE'].expanding().sum() / (grouped['POSITIVE'].expanding().sum() + grouped['NEGATIVE'].expanding().sum())\n",
    "\n",
    "    result_df = grouped.reset_index().rename(columns={'index': 'Trading_Day'})\n",
    "\n",
    "    print(\"Final result_df\")\n",
    "    print(result_df)\n",
    "\n",
    "    return result_df\n",
    "\n",
    "# Function to fetch and process stock data\n",
    "def get_stock_data(ticker, start_date, end_date):\n",
    "    stock_data = yf.download(ticker, start=start_date, end=end_date)  \n",
    "    stock_data['Pct_Change'] = stock_data['Close'].pct_change() * 100 \n",
    "    return stock_data\n",
    "\n",
    "\n",
    "#We fill the weekends too\n",
    "def fill_missing_stock_dates(stock_data):\n",
    "    all_dates = pd.date_range(start=stock_data.index.min(), end=stock_data.index.max(), freq=\"D\")\n",
    "    \n",
    "    stock_data = stock_data.reindex(all_dates)\n",
    "    return stock_data\n",
    "\n",
    "\n",
    "\n",
    "def next_trading_day(stock_dates, news_date):\n",
    "    news_date = np.datetime64(news_date) \n",
    "\n",
    "    pos = np.searchsorted(stock_dates, news_date)\n",
    "    if pos == len(stock_dates): \n",
    "        return stock_dates[-1]\n",
    "    \n",
    "    return stock_dates[pos]\n",
    "\n",
    "def trading_day(stock_data, result_df):\n",
    "    stock_dates = np.array(stock_data.index)\n",
    "\n",
    "    result_df['Trading_Day'] = result_df['DateOnly'].apply(lambda date: next_trading_day(stock_dates, date))\n",
    "    return result_df\n",
    "\n",
    "\n",
    "def preprocess_stock_data(stock_data):\n",
    "    stock_data.columns = stock_data.columns.droplevel(1)\n",
    "\n",
    "    stock_data.columns.name = None\n",
    "\n",
    "    stock_data.index.name = None\n",
    "\n",
    "    return stock_data\n",
    "\n",
    "\n",
    "\n",
    "\n",
    "# Function to combine sentiment and stock data\n",
    "def combine_data(result_df, stock_data):\n",
    "    combined_df = result_df.set_index('Trading_Day').join(stock_data[['Pct_Change']], how='inner')\n",
    "    combined_df['lagged_7day_pct_positive'] = combined_df['7day_pct_positive'].shift(1)  # Lag sentiment feature\n",
    "\n",
    "    return combined_df\n",
    "\n",
    "# Function to calculate Pearson correlation\n",
    "def calculate_correlation(combined_df):\n",
    "    correlation_pct_change = combined_df[['lagged_7day_pct_positive', 'Pct_Change']].corr().iloc[0, 1]\n",
    "    return correlation_pct_change\n",
    "\n",
    "# Function to get future dates excluding weekends and holidays\n",
    "def get_future_dates(start_date, num_days):\n",
    "    print(\"get future dates\")\n",
    "    us_holidays = holidays.US()\n",
    "    future_dates = []\n",
    "    current_date = start_date\n",
    "\n",
    "    while len(future_dates) < num_days:\n",
    "        if current_date.weekday() < 5 and current_date not in us_holidays:\n",
    "            future_dates.append(current_date)\n",
    "        current_date += pd.Timedelta(days=1)\n",
    "\n",
    "    return future_dates\n",
    "\n",
    "\n",
    "# Function to get future dates excluding weekends or holidays from the next day\n",
    "def get_future_dates_next_day(combined_df, num_days):\n",
    "\n",
    "    print(\"get future dates\")\n",
    "    us_holidays = holidays.US()\n",
    "    future_dates = []\n",
    "\n",
    "\n",
    "    last_real_date = combined_df.dropna(subset=['Pct_Change']).index[-1]\n",
    "    current_date = last_real_date + pd.Timedelta(days=1)\n",
    "\n",
    "    while len(future_dates) < num_days:\n",
    "        if current_date.weekday() < 5 and current_date not in us_holidays:\n",
    "            if current_date not in combined_df.index:\n",
    "                future_dates.append(current_date)\n",
    "        current_date += pd.Timedelta(days=1)\n",
    "\n",
    "    return future_dates\n",
    "\n",
    "\n",
    "\n",
    "def fit_and_forecast(combined_df, function_future_dates=get_future_dates ,forecast_steps=3):\n",
    "    print(\"A predecir\")\n",
    "    endog = combined_df['Pct_Change'].dropna() \n",
    "    exog = combined_df['lagged_7day_pct_positive'].dropna() \n",
    "    print(\"GOING FOR THE ARIMAX MODEL\")\n",
    "    endog = endog.tail(200)\n",
    "    exog = exog.loc[endog.index]  \n",
    "\n",
    "    model = SARIMAX(endog, exog=exog, order=(1, 1, 1))\n",
    "    fit = model.fit(disp=False, maxiter=50) \n",
    "\n",
    "    if function_future_dates == get_future_dates_next_day:\n",
    "        future_dates = function_future_dates(combined_df, forecast_steps)\n",
    "    else:\n",
    "        print(combined_df)\n",
    "        future_dates = function_future_dates(combined_df.index[-1], forecast_steps)\n",
    "    \n",
    "    future_exog = []\n",
    "    for date in future_dates:\n",
    "        if date in combined_df.index:\n",
    "            future_exog.append(combined_df.loc[date, 'lagged_7day_pct_positive'])\n",
    "        else:\n",
    "            future_exog.append(combined_df['lagged_7day_pct_positive'].iloc[-1])\n",
    "    \n",
    "    future_exog = np.array(future_exog).reshape(-1, 1)\n",
    "\n",
    "    forecast = fit.get_forecast(steps=forecast_steps, exog=future_exog)\n",
    "    forecast_mean = forecast.predicted_mean\n",
    "    forecast_ci = forecast.conf_int()\n",
    "\n",
    "    return forecast_mean, forecast_ci, future_dates\n",
    "\n",
    "\n",
    "\n",
    "def preprocessing_data(combined_df):\n",
    "\n",
    "    last_real_date = combined_df.dropna(subset=['Pct_Change']).index[-1]\n",
    "    last_real_value = combined_df['Pct_Change'].dropna().iloc[-1]\n",
    "\n",
    "    forecast_mean_from_start = pd.Series(\n",
    "    [last_real_value] + forecast_mean.tolist(),\n",
    "    index=[last_real_date] + forecast_index\n",
    "    )\n",
    "\n",
    "    forecast_index_from_start = forecast_mean_from_start.index\n",
    "\n",
    "    forecast_mean_from_start = pd.concat([\n",
    "        pd.Series([last_real_value], index=[last_real_date]),\n",
    "        forecast_mean\n",
    "    ])\n",
    "\n",
    "    forecast_ci_first_point = pd.DataFrame({\n",
    "        'lower Pct_Change': [last_real_value], \n",
    "        'upper Pct_Change': [last_real_value]\n",
    "    }, index=[last_real_date])\n",
    "\n",
    "    forecast_ci_from_start = pd.concat([forecast_ci_first_point, forecast_ci])\n",
    "\n",
    "    pct_change_mean = combined_df['Pct_Change'].mean()\n",
    "    pct_change_std = combined_df['Pct_Change'].std()\n",
    "\n",
    "    forecast_mean_from_start_std = (forecast_mean_from_start - pct_change_mean) / pct_change_std\n",
    "\n",
    "    forecast_ci_from_start_std = pd.DataFrame({\n",
    "        'lower Pct_Change': (forecast_ci_from_start['lower Pct_Change'] - pct_change_mean) / pct_change_std,\n",
    "        'upper Pct_Change': (forecast_ci_from_start['upper Pct_Change'] - pct_change_mean) / pct_change_std\n",
    "    }, index=forecast_ci_from_start.index)\n",
    "\n",
    "    return combined_df, forecast_mean_from_start_std, forecast_ci_from_start_std, forecast_index_from_start\n",
    "\n",
    "\n",
    "\n",
    "# Function to create and display plot\n",
    "def create_plot(combined_df, forecast_mean, forecast_ci, forecast_index):\n",
    "\n",
    "\n",
    "    sentiment_std = (combined_df['7day_pct_positive'] - combined_df['7day_pct_positive'].mean()) / combined_df['7day_pct_positive'].std()\n",
    "\n",
    "    pct_change_std = (combined_df['Pct_Change'] - combined_df['Pct_Change'].mean()) / combined_df['Pct_Change'].std()\n",
    "\n",
    "\n",
    "    fig = go.Figure()\n",
    "\n",
    "    fig.add_trace(go.Scatter(\n",
    "        x=combined_df.index,\n",
    "        y=sentiment_std,\n",
    "        name='Standardized Sentiment Proportion',\n",
    "        line=dict(color='blue'),\n",
    "        mode='lines'\n",
    "    ))\n",
    "\n",
    "    fig.add_trace(go.Scatter(\n",
    "        x=combined_df.index,\n",
    "        y=pct_change_std,\n",
    "        name='Stock Pct Change (Standardized)',\n",
    "        line=dict(color='yellow'),\n",
    "        mode='lines+markers'\n",
    "    ))\n",
    "\n",
    "\n",
    "    fig.add_trace(go.Scatter(\n",
    "        x=forecast_index,\n",
    "        y=forecast_mean,\n",
    "        name='Forecasted Stock Pct Change',\n",
    "        line=dict(color='red'),\n",
    "        mode='lines+markers'\n",
    "    ))\n",
    "\n",
    "    fig.add_trace(go.Scatter(\n",
    "        x=np.concatenate([forecast_index, forecast_index[::-1]]),\n",
    "        y=np.concatenate([forecast_ci.iloc[:, 0], forecast_ci.iloc[:, 1][::-1]]),\n",
    "        fill='toself',\n",
    "        fillcolor='rgba(255,0,0,0.2)',\n",
    "        line=dict(color='rgba(255,255,255,0)'),\n",
    "        hoverinfo=\"skip\",\n",
    "        showlegend=False\n",
    "    ))\n",
    "\n",
    "    fig.update_layout(\n",
    "        title='Sentiment Proportion and Stock Percentage Change with Forecast',\n",
    "        xaxis_title='Date',\n",
    "        yaxis=dict(\n",
    "            title=dict(text='Standardized Sentiment Proportion', font=dict(color='yellow'))\n",
    "        ),\n",
    "        yaxis2=dict(\n",
    "            title=dict(text='Stock Pct Change', font=dict(color='yellow')),\n",
    "            overlaying='y',\n",
    "            side='right'\n",
    "        ),\n",
    "        template='plotly_dark'\n",
    "    )\n",
    "\n",
    "\n",
    "    fig.show()"
   ]
  },
  {
   "cell_type": "code",
   "execution_count": null,
   "metadata": {},
   "outputs": [],
   "source": []
  },
  {
   "cell_type": "code",
   "execution_count": 2,
   "metadata": {},
   "outputs": [],
   "source": [
    "ticker ='SBUX'\n",
    "news_df_original = get_news_ticker(ticker)\n"
   ]
  },
  {
   "cell_type": "code",
   "execution_count": 3,
   "metadata": {},
   "outputs": [
    {
     "name": "stdout",
     "output_type": "stream",
     "text": [
      "Clasificando 100 títulos de noticias.\n",
      "Batch 0\n",
      "🔹 Respuesta de Ollama para el batch 1/10:\n",
      "1 - NEUTRAL\n",
      "2 - POSITIVE\n",
      "3 - NEGATIVE\n",
      "4 - NEGATIVE\n",
      "5 - NEUTRAL\n",
      "6 - POSITIVE\n",
      "7 - POSITIVE\n",
      "8 - NEGATIVE\n",
      "9 - NEUTRAL\n",
      "10 - POSITIVE\n",
      "\n",
      "Batch 1\n",
      "🔹 Respuesta de Ollama para el batch 2/10:\n",
      "1 - NEGATIVE\n",
      "2 - POSITIVE\n",
      "3 - POSITIVE\n",
      "4 - NEUTRAL\n",
      "5 - NEUTRAL\n",
      "6 - POSITIVE\n",
      "7 - NEGATIVE\n",
      "8 - POSITIVE\n",
      "9 - NEGATIVE\n",
      "10 - POSITIVE\n",
      "\n",
      "Batch 2\n",
      "🔹 Respuesta de Ollama para el batch 3/10:\n",
      "1 - NEGATIVE\n",
      "2 - NEGATIVE\n",
      "3 - NEUTRAL\n",
      "4 - POSITIVE\n",
      "5 - NEUTRAL\n",
      "6 - NEGATIVE\n",
      "7 - NEGATIVE\n",
      "8 - NEUTRAL\n",
      "9 - POSITIVE\n",
      "10 - NEGATIVE\n",
      "\n",
      "Batch 3\n",
      "🔹 Respuesta de Ollama para el batch 4/10:\n",
      "1 - POSITIVE\n",
      "2 - NEUTRAL\n",
      "3 - NEGATIVE\n",
      "4 - POSITIVE\n",
      "5 - NEGATIVE\n",
      "6 - NEUTRAL\n",
      "7 - POSITIVE\n",
      "8 - NEGATIVE\n",
      "9 - NEUTRAL\n",
      "10 - POSITIVE\n",
      "\n",
      "Batch 4\n",
      "🔹 Respuesta de Ollama para el batch 5/10:\n",
      "1 - POSITIVE\n",
      "2 - POSITIVE\n",
      "3 - NEUTRAL\n",
      "4 - NEGATIVE\n",
      "5 - POSITIVE\n",
      "6 - POSITIVE\n",
      "7 - NEUTRAL\n",
      "8 - NEGATIVE\n",
      "9 - NEGATIVE\n",
      "10 - POSITIVE\n",
      "\n",
      "Batch 5\n",
      "🔹 Respuesta de Ollama para el batch 6/10:\n",
      "1 - NEGATIVE\n",
      "2 - POSITIVE\n",
      "3 - NEUTRAL\n",
      "4 - POSITIVE\n",
      "5 - POSITIVE\n",
      "6 - NEGATIVE\n",
      "7 - NEGATIVE\n",
      "8 - NEGATIVE\n",
      "9 - POSITIVE\n",
      "10 - POSITIVE\n",
      "\n",
      "Batch 6\n",
      "🔹 Respuesta de Ollama para el batch 7/10:\n",
      "1 - POSITIVE\n",
      "2 - NEUTRAL\n",
      "3 - POSITIVE\n",
      "4 - NEGATIVE\n",
      "5 - POSITIVE\n",
      "6 - NEUTRAL\n",
      "7 - NEUTRAL\n",
      "8 - NEUTRAL\n",
      "9 - POSITIVE\n",
      "10 - POSITIVE\n",
      "\n",
      "Batch 7\n",
      "🔹 Respuesta de Ollama para el batch 8/10:\n",
      "1. NEGATIVE\n",
      "2. POSITIVE\n",
      "3. NEUTRAL\n",
      "4. POSITIVE\n",
      "5. NEUTRAL\n",
      "6. NEGATIVE\n",
      "7. NEUTRAL\n",
      "8. POSITIVE\n",
      "9. NEUTRAL\n",
      "10. POSITIVE\n",
      "\n",
      "Batch 8\n",
      "🔹 Respuesta de Ollama para el batch 9/10:\n",
      "1 - POSITIVE\n",
      "2 - NEUTRAL\n",
      "3 - NEUTRAL\n",
      "4 - POSITIVE\n",
      "5 - NEGATIVE\n",
      "6 - POSITIVE\n",
      "7 - POSITIVE\n",
      "8 - POSITIVE\n",
      "9 - POSITIVE\n",
      "10 - POSITIVE\n",
      "\n",
      "Batch 9\n",
      "🔹 Respuesta de Ollama para el batch 10/10:\n",
      "1 - POSITIVE\n",
      "2 - NEGATIVE\n",
      "3 - NEUTRAL\n",
      "4 - POSITIVE\n",
      "5 - NEGATIVE\n",
      "6 - NEGATIVE\n",
      "7 - NEUTRAL\n",
      "8 - NEGATIVE\n",
      "9 - NEUTRAL\n",
      "10 - NEUTRAL\n",
      "\n",
      "La longitud de los sentiments es 100\n",
      "Classification completed!:\n",
      "['NEUTRAL', 'POSITIVE', 'NEGATIVE', 'NEGATIVE', 'NEUTRAL', 'POSITIVE', 'POSITIVE', 'NEGATIVE', 'NEUTRAL', 'POSITIVE', 'NEGATIVE', 'POSITIVE', 'POSITIVE', 'NEUTRAL', 'NEUTRAL', 'POSITIVE', 'NEGATIVE', 'POSITIVE', 'NEGATIVE', 'POSITIVE', 'NEGATIVE', 'NEGATIVE', 'NEUTRAL', 'POSITIVE', 'NEUTRAL', 'NEGATIVE', 'NEGATIVE', 'NEUTRAL', 'POSITIVE', 'NEGATIVE', 'POSITIVE', 'NEUTRAL', 'NEGATIVE', 'POSITIVE', 'NEGATIVE', 'NEUTRAL', 'POSITIVE', 'NEGATIVE', 'NEUTRAL', 'POSITIVE', 'POSITIVE', 'POSITIVE', 'NEUTRAL', 'NEGATIVE', 'POSITIVE', 'POSITIVE', 'NEUTRAL', 'NEGATIVE', 'NEGATIVE', 'POSITIVE', 'NEGATIVE', 'POSITIVE', 'NEUTRAL', 'POSITIVE', 'POSITIVE', 'NEGATIVE', 'NEGATIVE', 'NEGATIVE', 'POSITIVE', 'POSITIVE', 'POSITIVE', 'NEUTRAL', 'POSITIVE', 'NEGATIVE', 'POSITIVE', 'NEUTRAL', 'NEUTRAL', 'NEUTRAL', 'POSITIVE', 'POSITIVE', 'NEUTRAL', 'NEUTRAL', 'NEUTRAL', 'NEUTRAL', 'NEUTRAL', 'NEUTRAL', 'NEUTRAL', 'NEUTRAL', 'NEUTRAL', 'NEUTRAL', 'POSITIVE', 'NEUTRAL', 'NEUTRAL', 'POSITIVE', 'NEGATIVE', 'POSITIVE', 'POSITIVE', 'POSITIVE', 'POSITIVE', 'POSITIVE', 'POSITIVE', 'NEGATIVE', 'NEUTRAL', 'POSITIVE', 'NEGATIVE', 'NEGATIVE', 'NEUTRAL', 'NEGATIVE', 'NEUTRAL', 'NEUTRAL']\n"
     ]
    }
   ],
   "source": [
    "news_df = get_news_data(news_df_original)"
   ]
  },
  {
   "cell_type": "code",
   "execution_count": 4,
   "metadata": {},
   "outputs": [
    {
     "name": "stdout",
     "output_type": "stream",
     "text": [
      "YF.download() has changed argument auto_adjust default to True\n"
     ]
    },
    {
     "name": "stderr",
     "output_type": "stream",
     "text": [
      "[*********************100%***********************]  1 of 1 completed\n"
     ]
    }
   ],
   "source": [
    "start_date = news_df['DateOnly'].min().strftime('%Y-%m-%d')\n",
    "end_date = news_df['DateOnly'].max().strftime('%Y-%m-%d')\n",
    "\n",
    "stock_data = get_stock_data(ticker, start_date, end_date)"
   ]
  },
  {
   "cell_type": "code",
   "execution_count": 5,
   "metadata": {},
   "outputs": [
    {
     "name": "stdout",
     "output_type": "stream",
     "text": [
      "Procesamos los datos de news_df con columnas: Index(['Date', 'Title', 'Link', 'Source', 'sentiment', 'DateOnly',\n",
      "       'Trading_Day'],\n",
      "      dtype='object')\n",
      "Grouped inicial\n",
      "sentiment    POSITIVE  NEGATIVE\n",
      "Trading_Day                    \n",
      "2025-01-30          1         4\n",
      "2025-01-31          8         1\n",
      "2025-02-04          3         1\n",
      "2025-02-05          4         2\n",
      "2025-02-06          4         2\n",
      "2025-02-07          1         2\n",
      "2025-02-08          1         1\n",
      "2025-02-09          2         0\n",
      "2025-02-10          3         2\n",
      "2025-02-11          2         2\n",
      "2025-02-12          1         2\n",
      "2025-02-13          0         2\n",
      "2025-02-14          2         2\n",
      "2025-02-16          1         0\n",
      "2025-02-18          1         0\n",
      "2025-02-19          5         4\n",
      "Final result_df\n",
      "sentiment Trading_Day  POSITIVE  NEGATIVE  7day_avg_positive  \\\n",
      "0          2025-01-30         1         4                1.0   \n",
      "1          2025-01-31         8         1                9.0   \n",
      "2          2025-02-03         0         0                9.0   \n",
      "3          2025-02-04         3         1               12.0   \n",
      "4          2025-02-05         4         2               16.0   \n",
      "5          2025-02-06         4         2               19.0   \n",
      "6          2025-02-07         1         2               12.0   \n",
      "7          2025-02-10         3         2               15.0   \n",
      "8          2025-02-11         2         2               14.0   \n",
      "9          2025-02-12         1         2               11.0   \n",
      "10         2025-02-13         0         2                7.0   \n",
      "11         2025-02-14         2         2                8.0   \n",
      "12         2025-02-17         0         0                5.0   \n",
      "13         2025-02-18         1         0                4.0   \n",
      "14         2025-02-19         5         4                8.0   \n",
      "\n",
      "sentiment  7day_avg_negative  7day_pct_positive  \n",
      "0                        4.0           0.200000  \n",
      "1                        5.0           0.642857  \n",
      "2                        5.0           0.642857  \n",
      "3                        6.0           0.666667  \n",
      "4                        8.0           0.666667  \n",
      "5                        6.0           0.666667  \n",
      "6                        7.0           0.636364  \n",
      "7                        9.0           0.631579  \n",
      "8                       10.0           0.619048  \n",
      "9                       10.0           0.600000  \n",
      "10                      10.0           0.574468  \n",
      "11                      10.0           0.568627  \n",
      "12                       8.0           0.568627  \n",
      "13                       6.0           0.576923  \n",
      "14                       8.0           0.573770  \n"
     ]
    }
   ],
   "source": [
    "stock_data = fill_missing_stock_dates(stock_data)\n",
    "news_df = trading_day(stock_data, news_df)\n",
    "result_df = process_sentiment_data(news_df)\n",
    "\n"
   ]
  },
  {
   "cell_type": "code",
   "execution_count": 6,
   "metadata": {},
   "outputs": [
    {
     "data": {
      "text/html": [
       "<div>\n",
       "<style scoped>\n",
       "    .dataframe tbody tr th:only-of-type {\n",
       "        vertical-align: middle;\n",
       "    }\n",
       "\n",
       "    .dataframe tbody tr th {\n",
       "        vertical-align: top;\n",
       "    }\n",
       "\n",
       "    .dataframe thead tr th {\n",
       "        text-align: left;\n",
       "    }\n",
       "</style>\n",
       "<table border=\"1\" class=\"dataframe\">\n",
       "  <thead>\n",
       "    <tr>\n",
       "      <th>Price</th>\n",
       "      <th>Close</th>\n",
       "      <th>High</th>\n",
       "      <th>Low</th>\n",
       "      <th>Open</th>\n",
       "      <th>Volume</th>\n",
       "      <th>Pct_Change</th>\n",
       "    </tr>\n",
       "    <tr>\n",
       "      <th>Ticker</th>\n",
       "      <th>SBUX</th>\n",
       "      <th>SBUX</th>\n",
       "      <th>SBUX</th>\n",
       "      <th>SBUX</th>\n",
       "      <th>SBUX</th>\n",
       "      <th></th>\n",
       "    </tr>\n",
       "  </thead>\n",
       "  <tbody>\n",
       "    <tr>\n",
       "      <th>2025-01-30</th>\n",
       "      <td>108.411598</td>\n",
       "      <td>109.744361</td>\n",
       "      <td>107.446833</td>\n",
       "      <td>108.411598</td>\n",
       "      <td>15023000.0</td>\n",
       "      <td>NaN</td>\n",
       "    </tr>\n",
       "    <tr>\n",
       "      <th>2025-01-31</th>\n",
       "      <td>107.098724</td>\n",
       "      <td>108.769656</td>\n",
       "      <td>106.919696</td>\n",
       "      <td>108.411598</td>\n",
       "      <td>19142500.0</td>\n",
       "      <td>-1.211009</td>\n",
       "    </tr>\n",
       "    <tr>\n",
       "      <th>2025-02-01</th>\n",
       "      <td>NaN</td>\n",
       "      <td>NaN</td>\n",
       "      <td>NaN</td>\n",
       "      <td>NaN</td>\n",
       "      <td>NaN</td>\n",
       "      <td>NaN</td>\n",
       "    </tr>\n",
       "    <tr>\n",
       "      <th>2025-02-02</th>\n",
       "      <td>NaN</td>\n",
       "      <td>NaN</td>\n",
       "      <td>NaN</td>\n",
       "      <td>NaN</td>\n",
       "      <td>NaN</td>\n",
       "      <td>NaN</td>\n",
       "    </tr>\n",
       "    <tr>\n",
       "      <th>2025-02-03</th>\n",
       "      <td>107.576134</td>\n",
       "      <td>107.854621</td>\n",
       "      <td>104.950378</td>\n",
       "      <td>105.149303</td>\n",
       "      <td>8894100.0</td>\n",
       "      <td>0.445766</td>\n",
       "    </tr>\n",
       "    <tr>\n",
       "      <th>2025-02-04</th>\n",
       "      <td>110.002953</td>\n",
       "      <td>110.470417</td>\n",
       "      <td>107.546285</td>\n",
       "      <td>108.083371</td>\n",
       "      <td>11123700.0</td>\n",
       "      <td>2.255908</td>\n",
       "    </tr>\n",
       "    <tr>\n",
       "      <th>2025-02-05</th>\n",
       "      <td>111.644051</td>\n",
       "      <td>111.813131</td>\n",
       "      <td>109.266953</td>\n",
       "      <td>109.585225</td>\n",
       "      <td>12826000.0</td>\n",
       "      <td>1.491867</td>\n",
       "    </tr>\n",
       "    <tr>\n",
       "      <th>2025-02-06</th>\n",
       "      <td>111.097015</td>\n",
       "      <td>111.703723</td>\n",
       "      <td>110.450530</td>\n",
       "      <td>111.445132</td>\n",
       "      <td>11967300.0</td>\n",
       "      <td>-0.489982</td>\n",
       "    </tr>\n",
       "    <tr>\n",
       "      <th>2025-02-07</th>\n",
       "      <td>111.594315</td>\n",
       "      <td>112.012053</td>\n",
       "      <td>109.465867</td>\n",
       "      <td>110.828475</td>\n",
       "      <td>11502400.0</td>\n",
       "      <td>0.447626</td>\n",
       "    </tr>\n",
       "    <tr>\n",
       "      <th>2025-02-08</th>\n",
       "      <td>NaN</td>\n",
       "      <td>NaN</td>\n",
       "      <td>NaN</td>\n",
       "      <td>NaN</td>\n",
       "      <td>NaN</td>\n",
       "      <td>NaN</td>\n",
       "    </tr>\n",
       "    <tr>\n",
       "      <th>2025-02-09</th>\n",
       "      <td>NaN</td>\n",
       "      <td>NaN</td>\n",
       "      <td>NaN</td>\n",
       "      <td>NaN</td>\n",
       "      <td>NaN</td>\n",
       "      <td>NaN</td>\n",
       "    </tr>\n",
       "    <tr>\n",
       "      <th>2025-02-10</th>\n",
       "      <td>110.848366</td>\n",
       "      <td>111.972271</td>\n",
       "      <td>110.400798</td>\n",
       "      <td>111.972271</td>\n",
       "      <td>8348400.0</td>\n",
       "      <td>-0.668447</td>\n",
       "    </tr>\n",
       "    <tr>\n",
       "      <th>2025-02-11</th>\n",
       "      <td>110.430634</td>\n",
       "      <td>111.474968</td>\n",
       "      <td>110.012903</td>\n",
       "      <td>110.281442</td>\n",
       "      <td>4683100.0</td>\n",
       "      <td>-0.376850</td>\n",
       "    </tr>\n",
       "    <tr>\n",
       "      <th>2025-02-12</th>\n",
       "      <td>112.429787</td>\n",
       "      <td>112.578978</td>\n",
       "      <td>109.804039</td>\n",
       "      <td>109.963171</td>\n",
       "      <td>7269400.0</td>\n",
       "      <td>1.810325</td>\n",
       "    </tr>\n",
       "    <tr>\n",
       "      <th>2025-02-13</th>\n",
       "      <td>112.389999</td>\n",
       "      <td>112.787842</td>\n",
       "      <td>110.927934</td>\n",
       "      <td>112.509354</td>\n",
       "      <td>10046300.0</td>\n",
       "      <td>-0.035389</td>\n",
       "    </tr>\n",
       "    <tr>\n",
       "      <th>2025-02-14</th>\n",
       "      <td>112.550003</td>\n",
       "      <td>113.470001</td>\n",
       "      <td>112.029999</td>\n",
       "      <td>112.820000</td>\n",
       "      <td>9115000.0</td>\n",
       "      <td>0.142365</td>\n",
       "    </tr>\n",
       "    <tr>\n",
       "      <th>2025-02-15</th>\n",
       "      <td>NaN</td>\n",
       "      <td>NaN</td>\n",
       "      <td>NaN</td>\n",
       "      <td>NaN</td>\n",
       "      <td>NaN</td>\n",
       "      <td>NaN</td>\n",
       "    </tr>\n",
       "    <tr>\n",
       "      <th>2025-02-16</th>\n",
       "      <td>NaN</td>\n",
       "      <td>NaN</td>\n",
       "      <td>NaN</td>\n",
       "      <td>NaN</td>\n",
       "      <td>NaN</td>\n",
       "      <td>NaN</td>\n",
       "    </tr>\n",
       "    <tr>\n",
       "      <th>2025-02-17</th>\n",
       "      <td>NaN</td>\n",
       "      <td>NaN</td>\n",
       "      <td>NaN</td>\n",
       "      <td>NaN</td>\n",
       "      <td>NaN</td>\n",
       "      <td>NaN</td>\n",
       "    </tr>\n",
       "    <tr>\n",
       "      <th>2025-02-18</th>\n",
       "      <td>113.029999</td>\n",
       "      <td>113.360001</td>\n",
       "      <td>111.620003</td>\n",
       "      <td>111.800003</td>\n",
       "      <td>7574100.0</td>\n",
       "      <td>0.426473</td>\n",
       "    </tr>\n",
       "    <tr>\n",
       "      <th>2025-02-19</th>\n",
       "      <td>112.489998</td>\n",
       "      <td>113.339996</td>\n",
       "      <td>112.339996</td>\n",
       "      <td>112.440002</td>\n",
       "      <td>8268900.0</td>\n",
       "      <td>-0.477750</td>\n",
       "    </tr>\n",
       "  </tbody>\n",
       "</table>\n",
       "</div>"
      ],
      "text/plain": [
       "Price            Close        High         Low        Open      Volume  \\\n",
       "Ticker            SBUX        SBUX        SBUX        SBUX        SBUX   \n",
       "2025-01-30  108.411598  109.744361  107.446833  108.411598  15023000.0   \n",
       "2025-01-31  107.098724  108.769656  106.919696  108.411598  19142500.0   \n",
       "2025-02-01         NaN         NaN         NaN         NaN         NaN   \n",
       "2025-02-02         NaN         NaN         NaN         NaN         NaN   \n",
       "2025-02-03  107.576134  107.854621  104.950378  105.149303   8894100.0   \n",
       "2025-02-04  110.002953  110.470417  107.546285  108.083371  11123700.0   \n",
       "2025-02-05  111.644051  111.813131  109.266953  109.585225  12826000.0   \n",
       "2025-02-06  111.097015  111.703723  110.450530  111.445132  11967300.0   \n",
       "2025-02-07  111.594315  112.012053  109.465867  110.828475  11502400.0   \n",
       "2025-02-08         NaN         NaN         NaN         NaN         NaN   \n",
       "2025-02-09         NaN         NaN         NaN         NaN         NaN   \n",
       "2025-02-10  110.848366  111.972271  110.400798  111.972271   8348400.0   \n",
       "2025-02-11  110.430634  111.474968  110.012903  110.281442   4683100.0   \n",
       "2025-02-12  112.429787  112.578978  109.804039  109.963171   7269400.0   \n",
       "2025-02-13  112.389999  112.787842  110.927934  112.509354  10046300.0   \n",
       "2025-02-14  112.550003  113.470001  112.029999  112.820000   9115000.0   \n",
       "2025-02-15         NaN         NaN         NaN         NaN         NaN   \n",
       "2025-02-16         NaN         NaN         NaN         NaN         NaN   \n",
       "2025-02-17         NaN         NaN         NaN         NaN         NaN   \n",
       "2025-02-18  113.029999  113.360001  111.620003  111.800003   7574100.0   \n",
       "2025-02-19  112.489998  113.339996  112.339996  112.440002   8268900.0   \n",
       "\n",
       "Price      Pct_Change  \n",
       "Ticker                 \n",
       "2025-01-30        NaN  \n",
       "2025-01-31  -1.211009  \n",
       "2025-02-01        NaN  \n",
       "2025-02-02        NaN  \n",
       "2025-02-03   0.445766  \n",
       "2025-02-04   2.255908  \n",
       "2025-02-05   1.491867  \n",
       "2025-02-06  -0.489982  \n",
       "2025-02-07   0.447626  \n",
       "2025-02-08        NaN  \n",
       "2025-02-09        NaN  \n",
       "2025-02-10  -0.668447  \n",
       "2025-02-11  -0.376850  \n",
       "2025-02-12   1.810325  \n",
       "2025-02-13  -0.035389  \n",
       "2025-02-14   0.142365  \n",
       "2025-02-15        NaN  \n",
       "2025-02-16        NaN  \n",
       "2025-02-17        NaN  \n",
       "2025-02-18   0.426473  \n",
       "2025-02-19  -0.477750  "
      ]
     },
     "execution_count": 6,
     "metadata": {},
     "output_type": "execute_result"
    }
   ],
   "source": [
    "stock_data"
   ]
  },
  {
   "cell_type": "code",
   "execution_count": 7,
   "metadata": {},
   "outputs": [],
   "source": [
    "stock_data = preprocess_stock_data(stock_data)"
   ]
  },
  {
   "cell_type": "code",
   "execution_count": 8,
   "metadata": {},
   "outputs": [
    {
     "name": "stdout",
     "output_type": "stream",
     "text": [
      "Pearson correlation between lagged sentiment score and stock percentage change: 0.476329693329414\n"
     ]
    }
   ],
   "source": [
    "combined_df = combine_data(result_df, stock_data)\n",
    "\n",
    "correlation_pct_change = calculate_correlation(combined_df)\n",
    "\n",
    "print(f\"Pearson correlation between lagged sentiment score and stock percentage change: {correlation_pct_change}\")"
   ]
  },
  {
   "cell_type": "code",
   "execution_count": 9,
   "metadata": {},
   "outputs": [
    {
     "name": "stderr",
     "output_type": "stream",
     "text": [
      "c:\\Users\\jaime\\AppData\\Local\\pypoetry\\Cache\\virtualenvs\\b402-bLnqn39v-py3.11\\Lib\\site-packages\\statsmodels\\tsa\\base\\tsa_model.py:473: ValueWarning: A date index has been provided, but it has no associated frequency information and so will be ignored when e.g. forecasting.\n",
      "  self._init_dates(dates, freq)\n",
      "c:\\Users\\jaime\\AppData\\Local\\pypoetry\\Cache\\virtualenvs\\b402-bLnqn39v-py3.11\\Lib\\site-packages\\statsmodels\\tsa\\base\\tsa_model.py:473: ValueWarning: A date index has been provided, but it has no associated frequency information and so will be ignored when e.g. forecasting.\n",
      "  self._init_dates(dates, freq)\n"
     ]
    },
    {
     "name": "stdout",
     "output_type": "stream",
     "text": [
      "A predecir\n",
      "GOING FOR THE ARIMAX MODEL\n",
      "get future dates\n"
     ]
    },
    {
     "name": "stderr",
     "output_type": "stream",
     "text": [
      "c:\\Users\\jaime\\AppData\\Local\\pypoetry\\Cache\\virtualenvs\\b402-bLnqn39v-py3.11\\Lib\\site-packages\\statsmodels\\tsa\\base\\tsa_model.py:837: ValueWarning: No supported index is available. Prediction results will be given with an integer index beginning at `start`.\n",
      "  return get_prediction_index(\n",
      "c:\\Users\\jaime\\AppData\\Local\\pypoetry\\Cache\\virtualenvs\\b402-bLnqn39v-py3.11\\Lib\\site-packages\\statsmodels\\tsa\\base\\tsa_model.py:837: FutureWarning: No supported index is available. In the next version, calling this method in a model without a supported index will result in an exception.\n",
      "  return get_prediction_index(\n"
     ]
    },
    {
     "data": {
      "application/vnd.plotly.v1+json": {
       "config": {
        "plotlyServerURL": "https://plot.ly"
       },
       "data": [
        {
         "line": {
          "color": "blue"
         },
         "mode": "lines",
         "name": "Standardized Sentiment Proportion",
         "type": "scatter",
         "x": [
          "2025-01-30T00:00:00.000000000",
          "2025-01-31T00:00:00.000000000",
          "2025-02-03T00:00:00.000000000",
          "2025-02-04T00:00:00.000000000",
          "2025-02-05T00:00:00.000000000",
          "2025-02-06T00:00:00.000000000",
          "2025-02-07T00:00:00.000000000",
          "2025-02-10T00:00:00.000000000",
          "2025-02-11T00:00:00.000000000",
          "2025-02-12T00:00:00.000000000",
          "2025-02-13T00:00:00.000000000",
          "2025-02-14T00:00:00.000000000",
          "2025-02-17T00:00:00.000000000",
          "2025-02-18T00:00:00.000000000",
          "2025-02-19T00:00:00.000000000"
         ],
         "y": {
          "bdata": "yAfxjthQC8B1fDPm9z/eP3V8M+b3P94/6w6yQv7P5T/rDrJC/s/lP+sOskL+z+U/HzkmLyWa2j8Y30SoEOrXPwHbAkfz39A/UmcJhfGyuD9pE9FI9FXAvw9ByKrS5ca/D0HIqtLlxr9QHnQPtie7vyYdWyOYHsG/",
          "dtype": "f8"
         }
        },
        {
         "line": {
          "color": "yellow"
         },
         "mode": "lines+markers",
         "name": "Stock Pct Change (Standardized)",
         "type": "scatter",
         "x": [
          "2025-01-30T00:00:00.000000000",
          "2025-01-31T00:00:00.000000000",
          "2025-02-03T00:00:00.000000000",
          "2025-02-04T00:00:00.000000000",
          "2025-02-05T00:00:00.000000000",
          "2025-02-06T00:00:00.000000000",
          "2025-02-07T00:00:00.000000000",
          "2025-02-10T00:00:00.000000000",
          "2025-02-11T00:00:00.000000000",
          "2025-02-12T00:00:00.000000000",
          "2025-02-13T00:00:00.000000000",
          "2025-02-14T00:00:00.000000000",
          "2025-02-17T00:00:00.000000000",
          "2025-02-18T00:00:00.000000000",
          "2025-02-19T00:00:00.000000000"
         ],
         "y": {
          "bdata": "AAAAAAAA+H9/r0Ok/GX3v4pnj7uBhcM/3r/4ua+r/j9YvWtLQMHyP1fyrqKRTui/hFOhXe3Awz+Bbz26nd/tv84gKOU2x+S/NHx7j7G49z+UCKTISEHUvxO3x3EgVcK/AAAAAAAA+H/mscbdTh3BP1/6HZzm7Oe/",
          "dtype": "f8"
         }
        },
        {
         "line": {
          "color": "red"
         },
         "mode": "lines+markers",
         "name": "Forecasted Stock Pct Change",
         "type": "scatter",
         "x": [
          "2025-02-20T00:00:00",
          "2025-02-21T00:00:00",
          "2025-02-24T00:00:00"
         ],
         "y": {
          "bdata": "YAyr9CUQxj/AAAOmo3XMP1C22eOB88w/",
          "dtype": "f8"
         }
        },
        {
         "fill": "toself",
         "fillcolor": "rgba(255,0,0,0.2)",
         "hoverinfo": "skip",
         "line": {
          "color": "rgba(255,255,255,0)"
         },
         "showlegend": false,
         "type": "scatter",
         "x": [
          "2025-02-20T00:00:00",
          "2025-02-21T00:00:00",
          "2025-02-24T00:00:00",
          "2025-02-24T00:00:00",
          "2025-02-21T00:00:00",
          "2025-02-20T00:00:00"
         ],
         "y": {
          "bdata": "mOMqMAyt+r8QfGn4Rx/6vzj8EGgPE/q/5rSD8PenAEAgHvVwWJ4AQFjTqtaKGABA",
          "dtype": "f8"
         }
        }
       ],
       "layout": {
        "template": {
         "data": {
          "bar": [
           {
            "error_x": {
             "color": "#f2f5fa"
            },
            "error_y": {
             "color": "#f2f5fa"
            },
            "marker": {
             "line": {
              "color": "rgb(17,17,17)",
              "width": 0.5
             },
             "pattern": {
              "fillmode": "overlay",
              "size": 10,
              "solidity": 0.2
             }
            },
            "type": "bar"
           }
          ],
          "barpolar": [
           {
            "marker": {
             "line": {
              "color": "rgb(17,17,17)",
              "width": 0.5
             },
             "pattern": {
              "fillmode": "overlay",
              "size": 10,
              "solidity": 0.2
             }
            },
            "type": "barpolar"
           }
          ],
          "carpet": [
           {
            "aaxis": {
             "endlinecolor": "#A2B1C6",
             "gridcolor": "#506784",
             "linecolor": "#506784",
             "minorgridcolor": "#506784",
             "startlinecolor": "#A2B1C6"
            },
            "baxis": {
             "endlinecolor": "#A2B1C6",
             "gridcolor": "#506784",
             "linecolor": "#506784",
             "minorgridcolor": "#506784",
             "startlinecolor": "#A2B1C6"
            },
            "type": "carpet"
           }
          ],
          "choropleth": [
           {
            "colorbar": {
             "outlinewidth": 0,
             "ticks": ""
            },
            "type": "choropleth"
           }
          ],
          "contour": [
           {
            "colorbar": {
             "outlinewidth": 0,
             "ticks": ""
            },
            "colorscale": [
             [
              0,
              "#0d0887"
             ],
             [
              0.1111111111111111,
              "#46039f"
             ],
             [
              0.2222222222222222,
              "#7201a8"
             ],
             [
              0.3333333333333333,
              "#9c179e"
             ],
             [
              0.4444444444444444,
              "#bd3786"
             ],
             [
              0.5555555555555556,
              "#d8576b"
             ],
             [
              0.6666666666666666,
              "#ed7953"
             ],
             [
              0.7777777777777778,
              "#fb9f3a"
             ],
             [
              0.8888888888888888,
              "#fdca26"
             ],
             [
              1,
              "#f0f921"
             ]
            ],
            "type": "contour"
           }
          ],
          "contourcarpet": [
           {
            "colorbar": {
             "outlinewidth": 0,
             "ticks": ""
            },
            "type": "contourcarpet"
           }
          ],
          "heatmap": [
           {
            "colorbar": {
             "outlinewidth": 0,
             "ticks": ""
            },
            "colorscale": [
             [
              0,
              "#0d0887"
             ],
             [
              0.1111111111111111,
              "#46039f"
             ],
             [
              0.2222222222222222,
              "#7201a8"
             ],
             [
              0.3333333333333333,
              "#9c179e"
             ],
             [
              0.4444444444444444,
              "#bd3786"
             ],
             [
              0.5555555555555556,
              "#d8576b"
             ],
             [
              0.6666666666666666,
              "#ed7953"
             ],
             [
              0.7777777777777778,
              "#fb9f3a"
             ],
             [
              0.8888888888888888,
              "#fdca26"
             ],
             [
              1,
              "#f0f921"
             ]
            ],
            "type": "heatmap"
           }
          ],
          "histogram": [
           {
            "marker": {
             "pattern": {
              "fillmode": "overlay",
              "size": 10,
              "solidity": 0.2
             }
            },
            "type": "histogram"
           }
          ],
          "histogram2d": [
           {
            "colorbar": {
             "outlinewidth": 0,
             "ticks": ""
            },
            "colorscale": [
             [
              0,
              "#0d0887"
             ],
             [
              0.1111111111111111,
              "#46039f"
             ],
             [
              0.2222222222222222,
              "#7201a8"
             ],
             [
              0.3333333333333333,
              "#9c179e"
             ],
             [
              0.4444444444444444,
              "#bd3786"
             ],
             [
              0.5555555555555556,
              "#d8576b"
             ],
             [
              0.6666666666666666,
              "#ed7953"
             ],
             [
              0.7777777777777778,
              "#fb9f3a"
             ],
             [
              0.8888888888888888,
              "#fdca26"
             ],
             [
              1,
              "#f0f921"
             ]
            ],
            "type": "histogram2d"
           }
          ],
          "histogram2dcontour": [
           {
            "colorbar": {
             "outlinewidth": 0,
             "ticks": ""
            },
            "colorscale": [
             [
              0,
              "#0d0887"
             ],
             [
              0.1111111111111111,
              "#46039f"
             ],
             [
              0.2222222222222222,
              "#7201a8"
             ],
             [
              0.3333333333333333,
              "#9c179e"
             ],
             [
              0.4444444444444444,
              "#bd3786"
             ],
             [
              0.5555555555555556,
              "#d8576b"
             ],
             [
              0.6666666666666666,
              "#ed7953"
             ],
             [
              0.7777777777777778,
              "#fb9f3a"
             ],
             [
              0.8888888888888888,
              "#fdca26"
             ],
             [
              1,
              "#f0f921"
             ]
            ],
            "type": "histogram2dcontour"
           }
          ],
          "mesh3d": [
           {
            "colorbar": {
             "outlinewidth": 0,
             "ticks": ""
            },
            "type": "mesh3d"
           }
          ],
          "parcoords": [
           {
            "line": {
             "colorbar": {
              "outlinewidth": 0,
              "ticks": ""
             }
            },
            "type": "parcoords"
           }
          ],
          "pie": [
           {
            "automargin": true,
            "type": "pie"
           }
          ],
          "scatter": [
           {
            "marker": {
             "line": {
              "color": "#283442"
             }
            },
            "type": "scatter"
           }
          ],
          "scatter3d": [
           {
            "line": {
             "colorbar": {
              "outlinewidth": 0,
              "ticks": ""
             }
            },
            "marker": {
             "colorbar": {
              "outlinewidth": 0,
              "ticks": ""
             }
            },
            "type": "scatter3d"
           }
          ],
          "scattercarpet": [
           {
            "marker": {
             "colorbar": {
              "outlinewidth": 0,
              "ticks": ""
             }
            },
            "type": "scattercarpet"
           }
          ],
          "scattergeo": [
           {
            "marker": {
             "colorbar": {
              "outlinewidth": 0,
              "ticks": ""
             }
            },
            "type": "scattergeo"
           }
          ],
          "scattergl": [
           {
            "marker": {
             "line": {
              "color": "#283442"
             }
            },
            "type": "scattergl"
           }
          ],
          "scattermap": [
           {
            "marker": {
             "colorbar": {
              "outlinewidth": 0,
              "ticks": ""
             }
            },
            "type": "scattermap"
           }
          ],
          "scattermapbox": [
           {
            "marker": {
             "colorbar": {
              "outlinewidth": 0,
              "ticks": ""
             }
            },
            "type": "scattermapbox"
           }
          ],
          "scatterpolar": [
           {
            "marker": {
             "colorbar": {
              "outlinewidth": 0,
              "ticks": ""
             }
            },
            "type": "scatterpolar"
           }
          ],
          "scatterpolargl": [
           {
            "marker": {
             "colorbar": {
              "outlinewidth": 0,
              "ticks": ""
             }
            },
            "type": "scatterpolargl"
           }
          ],
          "scatterternary": [
           {
            "marker": {
             "colorbar": {
              "outlinewidth": 0,
              "ticks": ""
             }
            },
            "type": "scatterternary"
           }
          ],
          "surface": [
           {
            "colorbar": {
             "outlinewidth": 0,
             "ticks": ""
            },
            "colorscale": [
             [
              0,
              "#0d0887"
             ],
             [
              0.1111111111111111,
              "#46039f"
             ],
             [
              0.2222222222222222,
              "#7201a8"
             ],
             [
              0.3333333333333333,
              "#9c179e"
             ],
             [
              0.4444444444444444,
              "#bd3786"
             ],
             [
              0.5555555555555556,
              "#d8576b"
             ],
             [
              0.6666666666666666,
              "#ed7953"
             ],
             [
              0.7777777777777778,
              "#fb9f3a"
             ],
             [
              0.8888888888888888,
              "#fdca26"
             ],
             [
              1,
              "#f0f921"
             ]
            ],
            "type": "surface"
           }
          ],
          "table": [
           {
            "cells": {
             "fill": {
              "color": "#506784"
             },
             "line": {
              "color": "rgb(17,17,17)"
             }
            },
            "header": {
             "fill": {
              "color": "#2a3f5f"
             },
             "line": {
              "color": "rgb(17,17,17)"
             }
            },
            "type": "table"
           }
          ]
         },
         "layout": {
          "annotationdefaults": {
           "arrowcolor": "#f2f5fa",
           "arrowhead": 0,
           "arrowwidth": 1
          },
          "autotypenumbers": "strict",
          "coloraxis": {
           "colorbar": {
            "outlinewidth": 0,
            "ticks": ""
           }
          },
          "colorscale": {
           "diverging": [
            [
             0,
             "#8e0152"
            ],
            [
             0.1,
             "#c51b7d"
            ],
            [
             0.2,
             "#de77ae"
            ],
            [
             0.3,
             "#f1b6da"
            ],
            [
             0.4,
             "#fde0ef"
            ],
            [
             0.5,
             "#f7f7f7"
            ],
            [
             0.6,
             "#e6f5d0"
            ],
            [
             0.7,
             "#b8e186"
            ],
            [
             0.8,
             "#7fbc41"
            ],
            [
             0.9,
             "#4d9221"
            ],
            [
             1,
             "#276419"
            ]
           ],
           "sequential": [
            [
             0,
             "#0d0887"
            ],
            [
             0.1111111111111111,
             "#46039f"
            ],
            [
             0.2222222222222222,
             "#7201a8"
            ],
            [
             0.3333333333333333,
             "#9c179e"
            ],
            [
             0.4444444444444444,
             "#bd3786"
            ],
            [
             0.5555555555555556,
             "#d8576b"
            ],
            [
             0.6666666666666666,
             "#ed7953"
            ],
            [
             0.7777777777777778,
             "#fb9f3a"
            ],
            [
             0.8888888888888888,
             "#fdca26"
            ],
            [
             1,
             "#f0f921"
            ]
           ],
           "sequentialminus": [
            [
             0,
             "#0d0887"
            ],
            [
             0.1111111111111111,
             "#46039f"
            ],
            [
             0.2222222222222222,
             "#7201a8"
            ],
            [
             0.3333333333333333,
             "#9c179e"
            ],
            [
             0.4444444444444444,
             "#bd3786"
            ],
            [
             0.5555555555555556,
             "#d8576b"
            ],
            [
             0.6666666666666666,
             "#ed7953"
            ],
            [
             0.7777777777777778,
             "#fb9f3a"
            ],
            [
             0.8888888888888888,
             "#fdca26"
            ],
            [
             1,
             "#f0f921"
            ]
           ]
          },
          "colorway": [
           "#636efa",
           "#EF553B",
           "#00cc96",
           "#ab63fa",
           "#FFA15A",
           "#19d3f3",
           "#FF6692",
           "#B6E880",
           "#FF97FF",
           "#FECB52"
          ],
          "font": {
           "color": "#f2f5fa"
          },
          "geo": {
           "bgcolor": "rgb(17,17,17)",
           "lakecolor": "rgb(17,17,17)",
           "landcolor": "rgb(17,17,17)",
           "showlakes": true,
           "showland": true,
           "subunitcolor": "#506784"
          },
          "hoverlabel": {
           "align": "left"
          },
          "hovermode": "closest",
          "mapbox": {
           "style": "dark"
          },
          "paper_bgcolor": "rgb(17,17,17)",
          "plot_bgcolor": "rgb(17,17,17)",
          "polar": {
           "angularaxis": {
            "gridcolor": "#506784",
            "linecolor": "#506784",
            "ticks": ""
           },
           "bgcolor": "rgb(17,17,17)",
           "radialaxis": {
            "gridcolor": "#506784",
            "linecolor": "#506784",
            "ticks": ""
           }
          },
          "scene": {
           "xaxis": {
            "backgroundcolor": "rgb(17,17,17)",
            "gridcolor": "#506784",
            "gridwidth": 2,
            "linecolor": "#506784",
            "showbackground": true,
            "ticks": "",
            "zerolinecolor": "#C8D4E3"
           },
           "yaxis": {
            "backgroundcolor": "rgb(17,17,17)",
            "gridcolor": "#506784",
            "gridwidth": 2,
            "linecolor": "#506784",
            "showbackground": true,
            "ticks": "",
            "zerolinecolor": "#C8D4E3"
           },
           "zaxis": {
            "backgroundcolor": "rgb(17,17,17)",
            "gridcolor": "#506784",
            "gridwidth": 2,
            "linecolor": "#506784",
            "showbackground": true,
            "ticks": "",
            "zerolinecolor": "#C8D4E3"
           }
          },
          "shapedefaults": {
           "line": {
            "color": "#f2f5fa"
           }
          },
          "sliderdefaults": {
           "bgcolor": "#C8D4E3",
           "bordercolor": "rgb(17,17,17)",
           "borderwidth": 1,
           "tickwidth": 0
          },
          "ternary": {
           "aaxis": {
            "gridcolor": "#506784",
            "linecolor": "#506784",
            "ticks": ""
           },
           "baxis": {
            "gridcolor": "#506784",
            "linecolor": "#506784",
            "ticks": ""
           },
           "bgcolor": "rgb(17,17,17)",
           "caxis": {
            "gridcolor": "#506784",
            "linecolor": "#506784",
            "ticks": ""
           }
          },
          "title": {
           "x": 0.05
          },
          "updatemenudefaults": {
           "bgcolor": "#506784",
           "borderwidth": 0
          },
          "xaxis": {
           "automargin": true,
           "gridcolor": "#283442",
           "linecolor": "#506784",
           "ticks": "",
           "title": {
            "standoff": 15
           },
           "zerolinecolor": "#283442",
           "zerolinewidth": 2
          },
          "yaxis": {
           "automargin": true,
           "gridcolor": "#283442",
           "linecolor": "#506784",
           "ticks": "",
           "title": {
            "standoff": 15
           },
           "zerolinecolor": "#283442",
           "zerolinewidth": 2
          }
         }
        },
        "title": {
         "text": "Sentiment Proportion and Stock Percentage Change with Forecast"
        },
        "xaxis": {
         "title": {
          "text": "Date"
         }
        },
        "yaxis": {
         "title": {
          "font": {
           "color": "yellow"
          },
          "text": "Standardized Sentiment Proportion"
         }
        },
        "yaxis2": {
         "overlaying": "y",
         "side": "right",
         "title": {
          "font": {
           "color": "yellow"
          },
          "text": "Stock Pct Change"
         }
        }
       }
      }
     },
     "metadata": {},
     "output_type": "display_data"
    }
   ],
   "source": [
    "forecast_mean, forecast_ci, forecast_index = fit_and_forecast(combined_df, get_future_dates_next_day)\n",
    "\n",
    "create_plot(combined_df, forecast_mean, forecast_ci, forecast_index)"
   ]
  },
  {
   "cell_type": "markdown",
   "metadata": {},
   "source": [
    "# Compare with gpt 3.5 turbo and mistral"
   ]
  },
  {
   "cell_type": "code",
   "execution_count": null,
   "metadata": {},
   "outputs": [],
   "source": []
  }
 ],
 "metadata": {
  "kernelspec": {
   "display_name": "b402-py3.11",
   "language": "python",
   "name": "b402-py3.11"
  },
  "language_info": {
   "codemirror_mode": {
    "name": "ipython",
    "version": 3
   },
   "file_extension": ".py",
   "mimetype": "text/x-python",
   "name": "python",
   "nbconvert_exporter": "python",
   "pygments_lexer": "ipython3",
   "version": "3.11.4"
  }
 },
 "nbformat": 4,
 "nbformat_minor": 2
}
